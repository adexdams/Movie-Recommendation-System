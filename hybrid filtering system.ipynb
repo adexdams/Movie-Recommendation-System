{
 "cells": [
  {
   "cell_type": "markdown",
   "metadata": {
    "cell_id": "71b5387670f84aa9b41c3c59f79682cf",
    "deepnote_cell_type": "text-cell-h1",
    "formattedRanges": []
   },
   "source": [
    "# Hybrid Recommendation System"
   ]
  },
  {
   "cell_type": "markdown",
   "metadata": {
    "cell_id": "16a3a3609fd5471d9f067d1fdd6ab1f2",
    "deepnote_cell_type": "text-cell-p",
    "formattedRanges": []
   },
   "source": [
    "This system will use three different filtering systems to recommend movie choices to platform users. The filtering systems to be developed are:"
   ]
  },
  {
   "cell_type": "markdown",
   "metadata": {
    "cell_id": "b8e58cc17ad94b25b421db1f9664f3cd",
    "deepnote_cell_type": "text-cell-p",
    "formattedRanges": []
   },
   "source": [
    "1. Content-based filtering: similar movies based on descriptions & genres.\n",
    "2. Popularity-based filtering: movies that are widely liked by many users\n",
    "3. Collaborative filtering: movies users like based on similar users"
   ]
  },
  {
   "cell_type": "markdown",
   "metadata": {
    "cell_id": "c9eb419e70cf4053bee065f0b9c47b3d",
    "deepnote_cell_type": "separator"
   },
   "source": [
    "<hr>"
   ]
  },
  {
   "cell_type": "markdown",
   "metadata": {
    "cell_id": "27614284e9364e939d687df39352365c",
    "deepnote_cell_type": "text-cell-h3",
    "formattedRanges": []
   },
   "source": [
    "### The Dataset"
   ]
  },
  {
   "cell_type": "markdown",
   "metadata": {
    "cell_id": "eaba23272546481ca34c10adf6158673",
    "deepnote_cell_type": "text-cell-p",
    "formattedRanges": []
   },
   "source": [
    "This dataset consists of the following files:"
   ]
  },
  {
   "cell_type": "markdown",
   "metadata": {
    "cell_id": "b27f64aeb86d41b4b0abd1f8ff735a8b",
    "deepnote_cell_type": "text-cell-bullet",
    "formattedRanges": [
     {
      "fromCodePoint": 0,
      "marks": {
       "bold": true
      },
      "toCodePoint": 20,
      "type": "marks"
     }
    ]
   },
   "source": [
    "- movies_metadata.csv: The main Movies Metadata file. Contains information on 45,000 movies featured in the Full MovieLens dataset. Features include posters, backdrops, budget, revenue, release dates, languages, production countries, and companies."
   ]
  },
  {
   "cell_type": "markdown",
   "metadata": {
    "cell_id": "0969083e235343aeb5564923b0c1708a",
    "deepnote_cell_type": "text-cell-bullet",
    "formattedRanges": [
     {
      "fromCodePoint": 0,
      "marks": {
       "bold": true
      },
      "toCodePoint": 14,
      "type": "marks"
     }
    ]
   },
   "source": [
    "- keywords.csv: Contains the movie plot keywords for our MovieLens movies. Available in the form of a stringified JSON Object."
   ]
  },
  {
   "cell_type": "markdown",
   "metadata": {
    "cell_id": "a8e8526be2cc4ccfa3fefe88201299b2",
    "deepnote_cell_type": "text-cell-bullet",
    "formattedRanges": [
     {
      "fromCodePoint": 0,
      "marks": {
       "bold": true
      },
      "toCodePoint": 13,
      "type": "marks"
     }
    ]
   },
   "source": [
    "- credits.csv: Consists of Cast and Crew Information for all our movies. Available in the form of a stringified JSON Object."
   ]
  },
  {
   "cell_type": "markdown",
   "metadata": {
    "cell_id": "6314d9b8cf5f4a2481a809a870b8d079",
    "deepnote_cell_type": "text-cell-bullet",
    "formattedRanges": [
     {
      "fromCodePoint": 0,
      "marks": {
       "bold": true
      },
      "toCodePoint": 11,
      "type": "marks"
     }
    ]
   },
   "source": [
    "- links.csv: The file that contains the TMDB and IMDB IDs of all the movies featured in the Full MovieLens dataset."
   ]
  },
  {
   "cell_type": "markdown",
   "metadata": {
    "cell_id": "3030f6cd18ec4cf48bf5e291c27ed2d6",
    "deepnote_cell_type": "text-cell-bullet",
    "formattedRanges": [
     {
      "fromCodePoint": 0,
      "marks": {
       "bold": true
      },
      "toCodePoint": 15,
      "type": "marks"
     }
    ]
   },
   "source": [
    "- links_small.csv: Contains the TMDB and IMDB IDs of a small subset of 9,000 movies of the Full Dataset."
   ]
  },
  {
   "cell_type": "markdown",
   "metadata": {
    "cell_id": "2673d9d7cb0d4e2ca4a0218d719bfbd8",
    "deepnote_cell_type": "text-cell-bullet",
    "formattedRanges": [
     {
      "fromCodePoint": 0,
      "marks": {
       "bold": true
      },
      "toCodePoint": 19,
      "type": "marks"
     }
    ]
   },
   "source": [
    "- ratings_small.csv: The subset of 100,000 ratings from 700 users on 9,000 movies."
   ]
  },
  {
   "cell_type": "markdown",
   "metadata": {
    "cell_id": "4fa014d99fa2439bb78605548f3f3026",
    "deepnote_cell_type": "text-cell-p",
    "formattedRanges": []
   },
   "source": [
    "The Full MovieLens Dataset consisting of 26 million ratings and 750,000 tag applications from 270,000 users on all the 45,000 movies in this dataset can be accessed here"
   ]
  },
  {
   "cell_type": "markdown",
   "metadata": {
    "cell_id": "150533b6b8ee433f951f2f766daf76eb",
    "deepnote_cell_type": "text-cell-p",
    "formattedRanges": [
     {
      "fromCodePoint": 17,
      "ranges": [],
      "toCodePoint": 79,
      "type": "link",
      "url": "https://www.kaggle.com/datasets/rounakbanik/the-movies-dataset"
     }
    ]
   },
   "source": [
    "Source: Kaggle - https://www.kaggle.com/datasets/rounakbanik/the-movies-dataset"
   ]
  },
  {
   "cell_type": "markdown",
   "metadata": {
    "cell_id": "18f24abeb5554e0b9e8af408fae69223",
    "deepnote_cell_type": "text-cell-h3",
    "formattedRanges": []
   },
   "source": [
    "### Install Technologies"
   ]
  },
  {
   "cell_type": "code",
   "execution_count": 2,
   "metadata": {
    "cell_id": "ff4a637f2e1d478799019f48211ca386",
    "deepnote_cell_type": "code",
    "execution_context_id": "c4740c3a-6ed2-4dc5-ba33-0ff299ab674e",
    "execution_millis": 938,
    "execution_start": 1741801991506,
    "source_hash": "24b26b86"
   },
   "outputs": [],
   "source": [
    "import pandas as pd\n",
    "import numpy as np\n",
    "import matplotlib.pyplot as plt\n",
    "import seaborn as sns"
   ]
  },
  {
   "cell_type": "markdown",
   "metadata": {
    "cell_id": "053e37a8237f4560865e2d4deb868d6e",
    "deepnote_cell_type": "text-cell-h3",
    "formattedRanges": []
   },
   "source": [
    "### Load the dataset"
   ]
  },
  {
   "cell_type": "code",
   "execution_count": 3,
   "metadata": {
    "cell_id": "67dbbb522a604ec6b2eafd9403b56de8",
    "deepnote_cell_type": "code",
    "execution_context_id": "c4740c3a-6ed2-4dc5-ba33-0ff299ab674e",
    "execution_millis": 9666,
    "execution_start": 1741801992497,
    "source_hash": "4538ffca"
   },
   "outputs": [
    {
     "ename": "FileNotFoundError",
     "evalue": "[Errno 2] No such file or directory: 'credits.csv'",
     "output_type": "error",
     "traceback": [
      "\u001b[0;31m---------------------------------------------------------------------------\u001b[0m",
      "\u001b[0;31mFileNotFoundError\u001b[0m                         Traceback (most recent call last)",
      "Cell \u001b[0;32mIn[3], line 2\u001b[0m\n\u001b[1;32m      1\u001b[0m \u001b[38;5;66;03m#load the dataset\u001b[39;00m\n\u001b[0;32m----> 2\u001b[0m credits \u001b[38;5;241m=\u001b[39m \u001b[43mpd\u001b[49m\u001b[38;5;241;43m.\u001b[39;49m\u001b[43mread_csv\u001b[49m\u001b[43m(\u001b[49m\u001b[38;5;124;43m'\u001b[39;49m\u001b[38;5;124;43mcredits.csv\u001b[39;49m\u001b[38;5;124;43m'\u001b[39;49m\u001b[43m)\u001b[49m\n\u001b[1;32m      3\u001b[0m keywords \u001b[38;5;241m=\u001b[39m pd\u001b[38;5;241m.\u001b[39mread_csv(\u001b[38;5;124m'\u001b[39m\u001b[38;5;124mkeywords.csv\u001b[39m\u001b[38;5;124m'\u001b[39m)\n\u001b[1;32m      4\u001b[0m links \u001b[38;5;241m=\u001b[39m pd\u001b[38;5;241m.\u001b[39mread_csv(\u001b[38;5;124m'\u001b[39m\u001b[38;5;124mlinks.csv\u001b[39m\u001b[38;5;124m'\u001b[39m)\n",
      "File \u001b[0;32m/Library/Frameworks/Python.framework/Versions/3.13/lib/python3.13/site-packages/pandas/io/parsers/readers.py:1026\u001b[0m, in \u001b[0;36mread_csv\u001b[0;34m(filepath_or_buffer, sep, delimiter, header, names, index_col, usecols, dtype, engine, converters, true_values, false_values, skipinitialspace, skiprows, skipfooter, nrows, na_values, keep_default_na, na_filter, verbose, skip_blank_lines, parse_dates, infer_datetime_format, keep_date_col, date_parser, date_format, dayfirst, cache_dates, iterator, chunksize, compression, thousands, decimal, lineterminator, quotechar, quoting, doublequote, escapechar, comment, encoding, encoding_errors, dialect, on_bad_lines, delim_whitespace, low_memory, memory_map, float_precision, storage_options, dtype_backend)\u001b[0m\n\u001b[1;32m   1013\u001b[0m kwds_defaults \u001b[38;5;241m=\u001b[39m _refine_defaults_read(\n\u001b[1;32m   1014\u001b[0m     dialect,\n\u001b[1;32m   1015\u001b[0m     delimiter,\n\u001b[0;32m   (...)\u001b[0m\n\u001b[1;32m   1022\u001b[0m     dtype_backend\u001b[38;5;241m=\u001b[39mdtype_backend,\n\u001b[1;32m   1023\u001b[0m )\n\u001b[1;32m   1024\u001b[0m kwds\u001b[38;5;241m.\u001b[39mupdate(kwds_defaults)\n\u001b[0;32m-> 1026\u001b[0m \u001b[38;5;28;01mreturn\u001b[39;00m \u001b[43m_read\u001b[49m\u001b[43m(\u001b[49m\u001b[43mfilepath_or_buffer\u001b[49m\u001b[43m,\u001b[49m\u001b[43m \u001b[49m\u001b[43mkwds\u001b[49m\u001b[43m)\u001b[49m\n",
      "File \u001b[0;32m/Library/Frameworks/Python.framework/Versions/3.13/lib/python3.13/site-packages/pandas/io/parsers/readers.py:620\u001b[0m, in \u001b[0;36m_read\u001b[0;34m(filepath_or_buffer, kwds)\u001b[0m\n\u001b[1;32m    617\u001b[0m _validate_names(kwds\u001b[38;5;241m.\u001b[39mget(\u001b[38;5;124m\"\u001b[39m\u001b[38;5;124mnames\u001b[39m\u001b[38;5;124m\"\u001b[39m, \u001b[38;5;28;01mNone\u001b[39;00m))\n\u001b[1;32m    619\u001b[0m \u001b[38;5;66;03m# Create the parser.\u001b[39;00m\n\u001b[0;32m--> 620\u001b[0m parser \u001b[38;5;241m=\u001b[39m \u001b[43mTextFileReader\u001b[49m\u001b[43m(\u001b[49m\u001b[43mfilepath_or_buffer\u001b[49m\u001b[43m,\u001b[49m\u001b[43m \u001b[49m\u001b[38;5;241;43m*\u001b[39;49m\u001b[38;5;241;43m*\u001b[39;49m\u001b[43mkwds\u001b[49m\u001b[43m)\u001b[49m\n\u001b[1;32m    622\u001b[0m \u001b[38;5;28;01mif\u001b[39;00m chunksize \u001b[38;5;129;01mor\u001b[39;00m iterator:\n\u001b[1;32m    623\u001b[0m     \u001b[38;5;28;01mreturn\u001b[39;00m parser\n",
      "File \u001b[0;32m/Library/Frameworks/Python.framework/Versions/3.13/lib/python3.13/site-packages/pandas/io/parsers/readers.py:1620\u001b[0m, in \u001b[0;36mTextFileReader.__init__\u001b[0;34m(self, f, engine, **kwds)\u001b[0m\n\u001b[1;32m   1617\u001b[0m     \u001b[38;5;28mself\u001b[39m\u001b[38;5;241m.\u001b[39moptions[\u001b[38;5;124m\"\u001b[39m\u001b[38;5;124mhas_index_names\u001b[39m\u001b[38;5;124m\"\u001b[39m] \u001b[38;5;241m=\u001b[39m kwds[\u001b[38;5;124m\"\u001b[39m\u001b[38;5;124mhas_index_names\u001b[39m\u001b[38;5;124m\"\u001b[39m]\n\u001b[1;32m   1619\u001b[0m \u001b[38;5;28mself\u001b[39m\u001b[38;5;241m.\u001b[39mhandles: IOHandles \u001b[38;5;241m|\u001b[39m \u001b[38;5;28;01mNone\u001b[39;00m \u001b[38;5;241m=\u001b[39m \u001b[38;5;28;01mNone\u001b[39;00m\n\u001b[0;32m-> 1620\u001b[0m \u001b[38;5;28mself\u001b[39m\u001b[38;5;241m.\u001b[39m_engine \u001b[38;5;241m=\u001b[39m \u001b[38;5;28;43mself\u001b[39;49m\u001b[38;5;241;43m.\u001b[39;49m\u001b[43m_make_engine\u001b[49m\u001b[43m(\u001b[49m\u001b[43mf\u001b[49m\u001b[43m,\u001b[49m\u001b[43m \u001b[49m\u001b[38;5;28;43mself\u001b[39;49m\u001b[38;5;241;43m.\u001b[39;49m\u001b[43mengine\u001b[49m\u001b[43m)\u001b[49m\n",
      "File \u001b[0;32m/Library/Frameworks/Python.framework/Versions/3.13/lib/python3.13/site-packages/pandas/io/parsers/readers.py:1880\u001b[0m, in \u001b[0;36mTextFileReader._make_engine\u001b[0;34m(self, f, engine)\u001b[0m\n\u001b[1;32m   1878\u001b[0m     \u001b[38;5;28;01mif\u001b[39;00m \u001b[38;5;124m\"\u001b[39m\u001b[38;5;124mb\u001b[39m\u001b[38;5;124m\"\u001b[39m \u001b[38;5;129;01mnot\u001b[39;00m \u001b[38;5;129;01min\u001b[39;00m mode:\n\u001b[1;32m   1879\u001b[0m         mode \u001b[38;5;241m+\u001b[39m\u001b[38;5;241m=\u001b[39m \u001b[38;5;124m\"\u001b[39m\u001b[38;5;124mb\u001b[39m\u001b[38;5;124m\"\u001b[39m\n\u001b[0;32m-> 1880\u001b[0m \u001b[38;5;28mself\u001b[39m\u001b[38;5;241m.\u001b[39mhandles \u001b[38;5;241m=\u001b[39m \u001b[43mget_handle\u001b[49m\u001b[43m(\u001b[49m\n\u001b[1;32m   1881\u001b[0m \u001b[43m    \u001b[49m\u001b[43mf\u001b[49m\u001b[43m,\u001b[49m\n\u001b[1;32m   1882\u001b[0m \u001b[43m    \u001b[49m\u001b[43mmode\u001b[49m\u001b[43m,\u001b[49m\n\u001b[1;32m   1883\u001b[0m \u001b[43m    \u001b[49m\u001b[43mencoding\u001b[49m\u001b[38;5;241;43m=\u001b[39;49m\u001b[38;5;28;43mself\u001b[39;49m\u001b[38;5;241;43m.\u001b[39;49m\u001b[43moptions\u001b[49m\u001b[38;5;241;43m.\u001b[39;49m\u001b[43mget\u001b[49m\u001b[43m(\u001b[49m\u001b[38;5;124;43m\"\u001b[39;49m\u001b[38;5;124;43mencoding\u001b[39;49m\u001b[38;5;124;43m\"\u001b[39;49m\u001b[43m,\u001b[49m\u001b[43m \u001b[49m\u001b[38;5;28;43;01mNone\u001b[39;49;00m\u001b[43m)\u001b[49m\u001b[43m,\u001b[49m\n\u001b[1;32m   1884\u001b[0m \u001b[43m    \u001b[49m\u001b[43mcompression\u001b[49m\u001b[38;5;241;43m=\u001b[39;49m\u001b[38;5;28;43mself\u001b[39;49m\u001b[38;5;241;43m.\u001b[39;49m\u001b[43moptions\u001b[49m\u001b[38;5;241;43m.\u001b[39;49m\u001b[43mget\u001b[49m\u001b[43m(\u001b[49m\u001b[38;5;124;43m\"\u001b[39;49m\u001b[38;5;124;43mcompression\u001b[39;49m\u001b[38;5;124;43m\"\u001b[39;49m\u001b[43m,\u001b[49m\u001b[43m \u001b[49m\u001b[38;5;28;43;01mNone\u001b[39;49;00m\u001b[43m)\u001b[49m\u001b[43m,\u001b[49m\n\u001b[1;32m   1885\u001b[0m \u001b[43m    \u001b[49m\u001b[43mmemory_map\u001b[49m\u001b[38;5;241;43m=\u001b[39;49m\u001b[38;5;28;43mself\u001b[39;49m\u001b[38;5;241;43m.\u001b[39;49m\u001b[43moptions\u001b[49m\u001b[38;5;241;43m.\u001b[39;49m\u001b[43mget\u001b[49m\u001b[43m(\u001b[49m\u001b[38;5;124;43m\"\u001b[39;49m\u001b[38;5;124;43mmemory_map\u001b[39;49m\u001b[38;5;124;43m\"\u001b[39;49m\u001b[43m,\u001b[49m\u001b[43m \u001b[49m\u001b[38;5;28;43;01mFalse\u001b[39;49;00m\u001b[43m)\u001b[49m\u001b[43m,\u001b[49m\n\u001b[1;32m   1886\u001b[0m \u001b[43m    \u001b[49m\u001b[43mis_text\u001b[49m\u001b[38;5;241;43m=\u001b[39;49m\u001b[43mis_text\u001b[49m\u001b[43m,\u001b[49m\n\u001b[1;32m   1887\u001b[0m \u001b[43m    \u001b[49m\u001b[43merrors\u001b[49m\u001b[38;5;241;43m=\u001b[39;49m\u001b[38;5;28;43mself\u001b[39;49m\u001b[38;5;241;43m.\u001b[39;49m\u001b[43moptions\u001b[49m\u001b[38;5;241;43m.\u001b[39;49m\u001b[43mget\u001b[49m\u001b[43m(\u001b[49m\u001b[38;5;124;43m\"\u001b[39;49m\u001b[38;5;124;43mencoding_errors\u001b[39;49m\u001b[38;5;124;43m\"\u001b[39;49m\u001b[43m,\u001b[49m\u001b[43m \u001b[49m\u001b[38;5;124;43m\"\u001b[39;49m\u001b[38;5;124;43mstrict\u001b[39;49m\u001b[38;5;124;43m\"\u001b[39;49m\u001b[43m)\u001b[49m\u001b[43m,\u001b[49m\n\u001b[1;32m   1888\u001b[0m \u001b[43m    \u001b[49m\u001b[43mstorage_options\u001b[49m\u001b[38;5;241;43m=\u001b[39;49m\u001b[38;5;28;43mself\u001b[39;49m\u001b[38;5;241;43m.\u001b[39;49m\u001b[43moptions\u001b[49m\u001b[38;5;241;43m.\u001b[39;49m\u001b[43mget\u001b[49m\u001b[43m(\u001b[49m\u001b[38;5;124;43m\"\u001b[39;49m\u001b[38;5;124;43mstorage_options\u001b[39;49m\u001b[38;5;124;43m\"\u001b[39;49m\u001b[43m,\u001b[49m\u001b[43m \u001b[49m\u001b[38;5;28;43;01mNone\u001b[39;49;00m\u001b[43m)\u001b[49m\u001b[43m,\u001b[49m\n\u001b[1;32m   1889\u001b[0m \u001b[43m\u001b[49m\u001b[43m)\u001b[49m\n\u001b[1;32m   1890\u001b[0m \u001b[38;5;28;01massert\u001b[39;00m \u001b[38;5;28mself\u001b[39m\u001b[38;5;241m.\u001b[39mhandles \u001b[38;5;129;01mis\u001b[39;00m \u001b[38;5;129;01mnot\u001b[39;00m \u001b[38;5;28;01mNone\u001b[39;00m\n\u001b[1;32m   1891\u001b[0m f \u001b[38;5;241m=\u001b[39m \u001b[38;5;28mself\u001b[39m\u001b[38;5;241m.\u001b[39mhandles\u001b[38;5;241m.\u001b[39mhandle\n",
      "File \u001b[0;32m/Library/Frameworks/Python.framework/Versions/3.13/lib/python3.13/site-packages/pandas/io/common.py:873\u001b[0m, in \u001b[0;36mget_handle\u001b[0;34m(path_or_buf, mode, encoding, compression, memory_map, is_text, errors, storage_options)\u001b[0m\n\u001b[1;32m    868\u001b[0m \u001b[38;5;28;01melif\u001b[39;00m \u001b[38;5;28misinstance\u001b[39m(handle, \u001b[38;5;28mstr\u001b[39m):\n\u001b[1;32m    869\u001b[0m     \u001b[38;5;66;03m# Check whether the filename is to be opened in binary mode.\u001b[39;00m\n\u001b[1;32m    870\u001b[0m     \u001b[38;5;66;03m# Binary mode does not support 'encoding' and 'newline'.\u001b[39;00m\n\u001b[1;32m    871\u001b[0m     \u001b[38;5;28;01mif\u001b[39;00m ioargs\u001b[38;5;241m.\u001b[39mencoding \u001b[38;5;129;01mand\u001b[39;00m \u001b[38;5;124m\"\u001b[39m\u001b[38;5;124mb\u001b[39m\u001b[38;5;124m\"\u001b[39m \u001b[38;5;129;01mnot\u001b[39;00m \u001b[38;5;129;01min\u001b[39;00m ioargs\u001b[38;5;241m.\u001b[39mmode:\n\u001b[1;32m    872\u001b[0m         \u001b[38;5;66;03m# Encoding\u001b[39;00m\n\u001b[0;32m--> 873\u001b[0m         handle \u001b[38;5;241m=\u001b[39m \u001b[38;5;28;43mopen\u001b[39;49m\u001b[43m(\u001b[49m\n\u001b[1;32m    874\u001b[0m \u001b[43m            \u001b[49m\u001b[43mhandle\u001b[49m\u001b[43m,\u001b[49m\n\u001b[1;32m    875\u001b[0m \u001b[43m            \u001b[49m\u001b[43mioargs\u001b[49m\u001b[38;5;241;43m.\u001b[39;49m\u001b[43mmode\u001b[49m\u001b[43m,\u001b[49m\n\u001b[1;32m    876\u001b[0m \u001b[43m            \u001b[49m\u001b[43mencoding\u001b[49m\u001b[38;5;241;43m=\u001b[39;49m\u001b[43mioargs\u001b[49m\u001b[38;5;241;43m.\u001b[39;49m\u001b[43mencoding\u001b[49m\u001b[43m,\u001b[49m\n\u001b[1;32m    877\u001b[0m \u001b[43m            \u001b[49m\u001b[43merrors\u001b[49m\u001b[38;5;241;43m=\u001b[39;49m\u001b[43merrors\u001b[49m\u001b[43m,\u001b[49m\n\u001b[1;32m    878\u001b[0m \u001b[43m            \u001b[49m\u001b[43mnewline\u001b[49m\u001b[38;5;241;43m=\u001b[39;49m\u001b[38;5;124;43m\"\u001b[39;49m\u001b[38;5;124;43m\"\u001b[39;49m\u001b[43m,\u001b[49m\n\u001b[1;32m    879\u001b[0m \u001b[43m        \u001b[49m\u001b[43m)\u001b[49m\n\u001b[1;32m    880\u001b[0m     \u001b[38;5;28;01melse\u001b[39;00m:\n\u001b[1;32m    881\u001b[0m         \u001b[38;5;66;03m# Binary mode\u001b[39;00m\n\u001b[1;32m    882\u001b[0m         handle \u001b[38;5;241m=\u001b[39m \u001b[38;5;28mopen\u001b[39m(handle, ioargs\u001b[38;5;241m.\u001b[39mmode)\n",
      "\u001b[0;31mFileNotFoundError\u001b[0m: [Errno 2] No such file or directory: 'credits.csv'"
     ]
    }
   ],
   "source": [
    "#load the dataset\n",
    "credits = pd.read_csv('credits.csv')\n",
    "keywords = pd.read_csv('keywords.csv')\n",
    "links = pd.read_csv('links.csv')\n",
    "#links_small = pd.read_csv('links_small.csv')\n",
    "movies = pd.read_csv('movies_metadata.csv')\n",
    "ratings = pd.read_csv('ratings.csv')\n",
    "#ratings_small = pd.read_csv('ratings_small.csv')"
   ]
  },
  {
   "cell_type": "markdown",
   "metadata": {
    "cell_id": "9ab4edcedea04a98a893ff7600cf9d26",
    "deepnote_cell_type": "text-cell-h3",
    "formattedRanges": []
   },
   "source": [
    "### Exploratory Data Analysis"
   ]
  },
  {
   "cell_type": "code",
   "execution_count": null,
   "metadata": {
    "cell_id": "4f942aafe1764b8b8f28db6587334a78",
    "deepnote_cell_type": "code",
    "execution_context_id": "c4740c3a-6ed2-4dc5-ba33-0ff299ab674e",
    "execution_millis": 28,
    "execution_start": 1741802002226,
    "source_hash": "f23ec86a"
   },
   "outputs": [
    {
     "name": "stdout",
     "output_type": "stream",
     "text": [
      "Movies Data:\n"
     ]
    },
    {
     "data": {
      "text/html": [
       "<div>\n",
       "<style scoped>\n",
       "    .dataframe tbody tr th:only-of-type {\n",
       "        vertical-align: middle;\n",
       "    }\n",
       "\n",
       "    .dataframe tbody tr th {\n",
       "        vertical-align: top;\n",
       "    }\n",
       "\n",
       "    .dataframe thead th {\n",
       "        text-align: right;\n",
       "    }\n",
       "</style>\n",
       "<table border=\"1\" class=\"dataframe\">\n",
       "  <thead>\n",
       "    <tr style=\"text-align: right;\">\n",
       "      <th></th>\n",
       "      <th>adult</th>\n",
       "      <th>belongs_to_collection</th>\n",
       "      <th>budget</th>\n",
       "      <th>genres</th>\n",
       "      <th>homepage</th>\n",
       "      <th>id</th>\n",
       "      <th>imdb_id</th>\n",
       "      <th>original_language</th>\n",
       "      <th>original_title</th>\n",
       "      <th>overview</th>\n",
       "      <th>...</th>\n",
       "      <th>release_date</th>\n",
       "      <th>revenue</th>\n",
       "      <th>runtime</th>\n",
       "      <th>spoken_languages</th>\n",
       "      <th>status</th>\n",
       "      <th>tagline</th>\n",
       "      <th>title</th>\n",
       "      <th>video</th>\n",
       "      <th>vote_average</th>\n",
       "      <th>vote_count</th>\n",
       "    </tr>\n",
       "  </thead>\n",
       "  <tbody>\n",
       "    <tr>\n",
       "      <th>0</th>\n",
       "      <td>False</td>\n",
       "      <td>{'id': 10194, 'name': 'Toy Story Collection', ...</td>\n",
       "      <td>30000000</td>\n",
       "      <td>[{'id': 16, 'name': 'Animation'}, {'id': 35, '...</td>\n",
       "      <td>http://toystory.disney.com/toy-story</td>\n",
       "      <td>862</td>\n",
       "      <td>tt0114709</td>\n",
       "      <td>en</td>\n",
       "      <td>Toy Story</td>\n",
       "      <td>Led by Woody, Andy's toys live happily in his ...</td>\n",
       "      <td>...</td>\n",
       "      <td>1995-10-30</td>\n",
       "      <td>373554033.0</td>\n",
       "      <td>81.0</td>\n",
       "      <td>[{'iso_639_1': 'en', 'name': 'English'}]</td>\n",
       "      <td>Released</td>\n",
       "      <td>NaN</td>\n",
       "      <td>Toy Story</td>\n",
       "      <td>False</td>\n",
       "      <td>7.7</td>\n",
       "      <td>5415.0</td>\n",
       "    </tr>\n",
       "    <tr>\n",
       "      <th>1</th>\n",
       "      <td>False</td>\n",
       "      <td>NaN</td>\n",
       "      <td>65000000</td>\n",
       "      <td>[{'id': 12, 'name': 'Adventure'}, {'id': 14, '...</td>\n",
       "      <td>NaN</td>\n",
       "      <td>8844</td>\n",
       "      <td>tt0113497</td>\n",
       "      <td>en</td>\n",
       "      <td>Jumanji</td>\n",
       "      <td>When siblings Judy and Peter discover an encha...</td>\n",
       "      <td>...</td>\n",
       "      <td>1995-12-15</td>\n",
       "      <td>262797249.0</td>\n",
       "      <td>104.0</td>\n",
       "      <td>[{'iso_639_1': 'en', 'name': 'English'}, {'iso...</td>\n",
       "      <td>Released</td>\n",
       "      <td>Roll the dice and unleash the excitement!</td>\n",
       "      <td>Jumanji</td>\n",
       "      <td>False</td>\n",
       "      <td>6.9</td>\n",
       "      <td>2413.0</td>\n",
       "    </tr>\n",
       "    <tr>\n",
       "      <th>2</th>\n",
       "      <td>False</td>\n",
       "      <td>{'id': 119050, 'name': 'Grumpy Old Men Collect...</td>\n",
       "      <td>0</td>\n",
       "      <td>[{'id': 10749, 'name': 'Romance'}, {'id': 35, ...</td>\n",
       "      <td>NaN</td>\n",
       "      <td>15602</td>\n",
       "      <td>tt0113228</td>\n",
       "      <td>en</td>\n",
       "      <td>Grumpier Old Men</td>\n",
       "      <td>A family wedding reignites the ancient feud be...</td>\n",
       "      <td>...</td>\n",
       "      <td>1995-12-22</td>\n",
       "      <td>0.0</td>\n",
       "      <td>101.0</td>\n",
       "      <td>[{'iso_639_1': 'en', 'name': 'English'}]</td>\n",
       "      <td>Released</td>\n",
       "      <td>Still Yelling. Still Fighting. Still Ready for...</td>\n",
       "      <td>Grumpier Old Men</td>\n",
       "      <td>False</td>\n",
       "      <td>6.5</td>\n",
       "      <td>92.0</td>\n",
       "    </tr>\n",
       "    <tr>\n",
       "      <th>3</th>\n",
       "      <td>False</td>\n",
       "      <td>NaN</td>\n",
       "      <td>16000000</td>\n",
       "      <td>[{'id': 35, 'name': 'Comedy'}, {'id': 18, 'nam...</td>\n",
       "      <td>NaN</td>\n",
       "      <td>31357</td>\n",
       "      <td>tt0114885</td>\n",
       "      <td>en</td>\n",
       "      <td>Waiting to Exhale</td>\n",
       "      <td>Cheated on, mistreated and stepped on, the wom...</td>\n",
       "      <td>...</td>\n",
       "      <td>1995-12-22</td>\n",
       "      <td>81452156.0</td>\n",
       "      <td>127.0</td>\n",
       "      <td>[{'iso_639_1': 'en', 'name': 'English'}]</td>\n",
       "      <td>Released</td>\n",
       "      <td>Friends are the people who let you be yourself...</td>\n",
       "      <td>Waiting to Exhale</td>\n",
       "      <td>False</td>\n",
       "      <td>6.1</td>\n",
       "      <td>34.0</td>\n",
       "    </tr>\n",
       "    <tr>\n",
       "      <th>4</th>\n",
       "      <td>False</td>\n",
       "      <td>{'id': 96871, 'name': 'Father of the Bride Col...</td>\n",
       "      <td>0</td>\n",
       "      <td>[{'id': 35, 'name': 'Comedy'}]</td>\n",
       "      <td>NaN</td>\n",
       "      <td>11862</td>\n",
       "      <td>tt0113041</td>\n",
       "      <td>en</td>\n",
       "      <td>Father of the Bride Part II</td>\n",
       "      <td>Just when George Banks has recovered from his ...</td>\n",
       "      <td>...</td>\n",
       "      <td>1995-02-10</td>\n",
       "      <td>76578911.0</td>\n",
       "      <td>106.0</td>\n",
       "      <td>[{'iso_639_1': 'en', 'name': 'English'}]</td>\n",
       "      <td>Released</td>\n",
       "      <td>Just When His World Is Back To Normal... He's ...</td>\n",
       "      <td>Father of the Bride Part II</td>\n",
       "      <td>False</td>\n",
       "      <td>5.7</td>\n",
       "      <td>173.0</td>\n",
       "    </tr>\n",
       "  </tbody>\n",
       "</table>\n",
       "<p>5 rows × 24 columns</p>\n",
       "</div>"
      ],
      "text/plain": [
       "   adult                              belongs_to_collection    budget  \\\n",
       "0  False  {'id': 10194, 'name': 'Toy Story Collection', ...  30000000   \n",
       "1  False                                                NaN  65000000   \n",
       "2  False  {'id': 119050, 'name': 'Grumpy Old Men Collect...         0   \n",
       "3  False                                                NaN  16000000   \n",
       "4  False  {'id': 96871, 'name': 'Father of the Bride Col...         0   \n",
       "\n",
       "                                              genres  \\\n",
       "0  [{'id': 16, 'name': 'Animation'}, {'id': 35, '...   \n",
       "1  [{'id': 12, 'name': 'Adventure'}, {'id': 14, '...   \n",
       "2  [{'id': 10749, 'name': 'Romance'}, {'id': 35, ...   \n",
       "3  [{'id': 35, 'name': 'Comedy'}, {'id': 18, 'nam...   \n",
       "4                     [{'id': 35, 'name': 'Comedy'}]   \n",
       "\n",
       "                               homepage     id    imdb_id original_language  \\\n",
       "0  http://toystory.disney.com/toy-story    862  tt0114709                en   \n",
       "1                                   NaN   8844  tt0113497                en   \n",
       "2                                   NaN  15602  tt0113228                en   \n",
       "3                                   NaN  31357  tt0114885                en   \n",
       "4                                   NaN  11862  tt0113041                en   \n",
       "\n",
       "                original_title  \\\n",
       "0                    Toy Story   \n",
       "1                      Jumanji   \n",
       "2             Grumpier Old Men   \n",
       "3            Waiting to Exhale   \n",
       "4  Father of the Bride Part II   \n",
       "\n",
       "                                            overview  ... release_date  \\\n",
       "0  Led by Woody, Andy's toys live happily in his ...  ...   1995-10-30   \n",
       "1  When siblings Judy and Peter discover an encha...  ...   1995-12-15   \n",
       "2  A family wedding reignites the ancient feud be...  ...   1995-12-22   \n",
       "3  Cheated on, mistreated and stepped on, the wom...  ...   1995-12-22   \n",
       "4  Just when George Banks has recovered from his ...  ...   1995-02-10   \n",
       "\n",
       "       revenue runtime                                   spoken_languages  \\\n",
       "0  373554033.0    81.0           [{'iso_639_1': 'en', 'name': 'English'}]   \n",
       "1  262797249.0   104.0  [{'iso_639_1': 'en', 'name': 'English'}, {'iso...   \n",
       "2          0.0   101.0           [{'iso_639_1': 'en', 'name': 'English'}]   \n",
       "3   81452156.0   127.0           [{'iso_639_1': 'en', 'name': 'English'}]   \n",
       "4   76578911.0   106.0           [{'iso_639_1': 'en', 'name': 'English'}]   \n",
       "\n",
       "     status                                            tagline  \\\n",
       "0  Released                                                NaN   \n",
       "1  Released          Roll the dice and unleash the excitement!   \n",
       "2  Released  Still Yelling. Still Fighting. Still Ready for...   \n",
       "3  Released  Friends are the people who let you be yourself...   \n",
       "4  Released  Just When His World Is Back To Normal... He's ...   \n",
       "\n",
       "                         title  video vote_average vote_count  \n",
       "0                    Toy Story  False          7.7     5415.0  \n",
       "1                      Jumanji  False          6.9     2413.0  \n",
       "2             Grumpier Old Men  False          6.5       92.0  \n",
       "3            Waiting to Exhale  False          6.1       34.0  \n",
       "4  Father of the Bride Part II  False          5.7      173.0  \n",
       "\n",
       "[5 rows x 24 columns]"
      ]
     },
     "metadata": {},
     "output_type": "display_data"
    },
    {
     "name": "stdout",
     "output_type": "stream",
     "text": [
      "\n",
      "Ratings Data:\n"
     ]
    },
    {
     "data": {
      "text/html": [
       "<div>\n",
       "<style scoped>\n",
       "    .dataframe tbody tr th:only-of-type {\n",
       "        vertical-align: middle;\n",
       "    }\n",
       "\n",
       "    .dataframe tbody tr th {\n",
       "        vertical-align: top;\n",
       "    }\n",
       "\n",
       "    .dataframe thead th {\n",
       "        text-align: right;\n",
       "    }\n",
       "</style>\n",
       "<table border=\"1\" class=\"dataframe\">\n",
       "  <thead>\n",
       "    <tr style=\"text-align: right;\">\n",
       "      <th></th>\n",
       "      <th>userId</th>\n",
       "      <th>movieId</th>\n",
       "      <th>rating</th>\n",
       "      <th>timestamp</th>\n",
       "    </tr>\n",
       "  </thead>\n",
       "  <tbody>\n",
       "    <tr>\n",
       "      <th>0</th>\n",
       "      <td>1</td>\n",
       "      <td>110</td>\n",
       "      <td>1.0</td>\n",
       "      <td>1425941529</td>\n",
       "    </tr>\n",
       "    <tr>\n",
       "      <th>1</th>\n",
       "      <td>1</td>\n",
       "      <td>147</td>\n",
       "      <td>4.5</td>\n",
       "      <td>1425942435</td>\n",
       "    </tr>\n",
       "    <tr>\n",
       "      <th>2</th>\n",
       "      <td>1</td>\n",
       "      <td>858</td>\n",
       "      <td>5.0</td>\n",
       "      <td>1425941523</td>\n",
       "    </tr>\n",
       "    <tr>\n",
       "      <th>3</th>\n",
       "      <td>1</td>\n",
       "      <td>1221</td>\n",
       "      <td>5.0</td>\n",
       "      <td>1425941546</td>\n",
       "    </tr>\n",
       "    <tr>\n",
       "      <th>4</th>\n",
       "      <td>1</td>\n",
       "      <td>1246</td>\n",
       "      <td>5.0</td>\n",
       "      <td>1425941556</td>\n",
       "    </tr>\n",
       "  </tbody>\n",
       "</table>\n",
       "</div>"
      ],
      "text/plain": [
       "   userId  movieId  rating   timestamp\n",
       "0       1      110     1.0  1425941529\n",
       "1       1      147     4.5  1425942435\n",
       "2       1      858     5.0  1425941523\n",
       "3       1     1221     5.0  1425941546\n",
       "4       1     1246     5.0  1425941556"
      ]
     },
     "metadata": {},
     "output_type": "display_data"
    },
    {
     "name": "stdout",
     "output_type": "stream",
     "text": [
      "\n",
      "Credits Data:\n"
     ]
    },
    {
     "data": {
      "text/html": [
       "<div>\n",
       "<style scoped>\n",
       "    .dataframe tbody tr th:only-of-type {\n",
       "        vertical-align: middle;\n",
       "    }\n",
       "\n",
       "    .dataframe tbody tr th {\n",
       "        vertical-align: top;\n",
       "    }\n",
       "\n",
       "    .dataframe thead th {\n",
       "        text-align: right;\n",
       "    }\n",
       "</style>\n",
       "<table border=\"1\" class=\"dataframe\">\n",
       "  <thead>\n",
       "    <tr style=\"text-align: right;\">\n",
       "      <th></th>\n",
       "      <th>cast</th>\n",
       "      <th>crew</th>\n",
       "      <th>id</th>\n",
       "    </tr>\n",
       "  </thead>\n",
       "  <tbody>\n",
       "    <tr>\n",
       "      <th>0</th>\n",
       "      <td>[{'cast_id': 14, 'character': 'Woody (voice)',...</td>\n",
       "      <td>[{'credit_id': '52fe4284c3a36847f8024f49', 'de...</td>\n",
       "      <td>862</td>\n",
       "    </tr>\n",
       "    <tr>\n",
       "      <th>1</th>\n",
       "      <td>[{'cast_id': 1, 'character': 'Alan Parrish', '...</td>\n",
       "      <td>[{'credit_id': '52fe44bfc3a36847f80a7cd1', 'de...</td>\n",
       "      <td>8844</td>\n",
       "    </tr>\n",
       "    <tr>\n",
       "      <th>2</th>\n",
       "      <td>[{'cast_id': 2, 'character': 'Max Goldman', 'c...</td>\n",
       "      <td>[{'credit_id': '52fe466a9251416c75077a89', 'de...</td>\n",
       "      <td>15602</td>\n",
       "    </tr>\n",
       "    <tr>\n",
       "      <th>3</th>\n",
       "      <td>[{'cast_id': 1, 'character': \"Savannah 'Vannah...</td>\n",
       "      <td>[{'credit_id': '52fe44779251416c91011acb', 'de...</td>\n",
       "      <td>31357</td>\n",
       "    </tr>\n",
       "    <tr>\n",
       "      <th>4</th>\n",
       "      <td>[{'cast_id': 1, 'character': 'George Banks', '...</td>\n",
       "      <td>[{'credit_id': '52fe44959251416c75039ed7', 'de...</td>\n",
       "      <td>11862</td>\n",
       "    </tr>\n",
       "  </tbody>\n",
       "</table>\n",
       "</div>"
      ],
      "text/plain": [
       "                                                cast  \\\n",
       "0  [{'cast_id': 14, 'character': 'Woody (voice)',...   \n",
       "1  [{'cast_id': 1, 'character': 'Alan Parrish', '...   \n",
       "2  [{'cast_id': 2, 'character': 'Max Goldman', 'c...   \n",
       "3  [{'cast_id': 1, 'character': \"Savannah 'Vannah...   \n",
       "4  [{'cast_id': 1, 'character': 'George Banks', '...   \n",
       "\n",
       "                                                crew     id  \n",
       "0  [{'credit_id': '52fe4284c3a36847f8024f49', 'de...    862  \n",
       "1  [{'credit_id': '52fe44bfc3a36847f80a7cd1', 'de...   8844  \n",
       "2  [{'credit_id': '52fe466a9251416c75077a89', 'de...  15602  \n",
       "3  [{'credit_id': '52fe44779251416c91011acb', 'de...  31357  \n",
       "4  [{'credit_id': '52fe44959251416c75039ed7', 'de...  11862  "
      ]
     },
     "metadata": {},
     "output_type": "display_data"
    },
    {
     "name": "stdout",
     "output_type": "stream",
     "text": [
      "\n",
      "Keywords Data:\n"
     ]
    },
    {
     "data": {
      "text/html": [
       "<div>\n",
       "<style scoped>\n",
       "    .dataframe tbody tr th:only-of-type {\n",
       "        vertical-align: middle;\n",
       "    }\n",
       "\n",
       "    .dataframe tbody tr th {\n",
       "        vertical-align: top;\n",
       "    }\n",
       "\n",
       "    .dataframe thead th {\n",
       "        text-align: right;\n",
       "    }\n",
       "</style>\n",
       "<table border=\"1\" class=\"dataframe\">\n",
       "  <thead>\n",
       "    <tr style=\"text-align: right;\">\n",
       "      <th></th>\n",
       "      <th>id</th>\n",
       "      <th>keywords</th>\n",
       "    </tr>\n",
       "  </thead>\n",
       "  <tbody>\n",
       "    <tr>\n",
       "      <th>0</th>\n",
       "      <td>862</td>\n",
       "      <td>[{'id': 931, 'name': 'jealousy'}, {'id': 4290,...</td>\n",
       "    </tr>\n",
       "    <tr>\n",
       "      <th>1</th>\n",
       "      <td>8844</td>\n",
       "      <td>[{'id': 10090, 'name': 'board game'}, {'id': 1...</td>\n",
       "    </tr>\n",
       "    <tr>\n",
       "      <th>2</th>\n",
       "      <td>15602</td>\n",
       "      <td>[{'id': 1495, 'name': 'fishing'}, {'id': 12392...</td>\n",
       "    </tr>\n",
       "    <tr>\n",
       "      <th>3</th>\n",
       "      <td>31357</td>\n",
       "      <td>[{'id': 818, 'name': 'based on novel'}, {'id':...</td>\n",
       "    </tr>\n",
       "    <tr>\n",
       "      <th>4</th>\n",
       "      <td>11862</td>\n",
       "      <td>[{'id': 1009, 'name': 'baby'}, {'id': 1599, 'n...</td>\n",
       "    </tr>\n",
       "  </tbody>\n",
       "</table>\n",
       "</div>"
      ],
      "text/plain": [
       "      id                                           keywords\n",
       "0    862  [{'id': 931, 'name': 'jealousy'}, {'id': 4290,...\n",
       "1   8844  [{'id': 10090, 'name': 'board game'}, {'id': 1...\n",
       "2  15602  [{'id': 1495, 'name': 'fishing'}, {'id': 12392...\n",
       "3  31357  [{'id': 818, 'name': 'based on novel'}, {'id':...\n",
       "4  11862  [{'id': 1009, 'name': 'baby'}, {'id': 1599, 'n..."
      ]
     },
     "metadata": {},
     "output_type": "display_data"
    },
    {
     "name": "stdout",
     "output_type": "stream",
     "text": [
      "\n",
      "Links Data:\n"
     ]
    },
    {
     "data": {
      "application/vnd.deepnote.dataframe.v3+json": {
       "column_count": 3,
       "columns": [
        {
         "dtype": "int64",
         "name": "movieId",
         "stats": {
          "histogram": [
           {
            "bin_end": 1.4,
            "bin_start": 1,
            "count": 1
           },
           {
            "bin_end": 1.8,
            "bin_start": 1.4,
            "count": 0
           },
           {
            "bin_end": 2.2,
            "bin_start": 1.8,
            "count": 1
           },
           {
            "bin_end": 2.6,
            "bin_start": 2.2,
            "count": 0
           },
           {
            "bin_end": 3,
            "bin_start": 2.6,
            "count": 0
           },
           {
            "bin_end": 3.4000000000000004,
            "bin_start": 3,
            "count": 1
           },
           {
            "bin_end": 3.8000000000000003,
            "bin_start": 3.4000000000000004,
            "count": 0
           },
           {
            "bin_end": 4.2,
            "bin_start": 3.8000000000000003,
            "count": 1
           },
           {
            "bin_end": 4.6,
            "bin_start": 4.2,
            "count": 0
           },
           {
            "bin_end": 5,
            "bin_start": 4.6,
            "count": 1
           }
          ],
          "max": "5",
          "min": "1",
          "nan_count": 0,
          "unique_count": 5
         }
        },
        {
         "dtype": "int64",
         "name": "imdbId",
         "stats": {
          "histogram": [
           {
            "bin_end": 113225.4,
            "bin_start": 113041,
            "count": 1
           },
           {
            "bin_end": 113409.8,
            "bin_start": 113225.4,
            "count": 1
           },
           {
            "bin_end": 113594.2,
            "bin_start": 113409.8,
            "count": 1
           },
           {
            "bin_end": 113778.6,
            "bin_start": 113594.2,
            "count": 0
           },
           {
            "bin_end": 113963,
            "bin_start": 113778.6,
            "count": 0
           },
           {
            "bin_end": 114147.4,
            "bin_start": 113963,
            "count": 0
           },
           {
            "bin_end": 114331.8,
            "bin_start": 114147.4,
            "count": 0
           },
           {
            "bin_end": 114516.2,
            "bin_start": 114331.8,
            "count": 0
           },
           {
            "bin_end": 114700.6,
            "bin_start": 114516.2,
            "count": 0
           },
           {
            "bin_end": 114885,
            "bin_start": 114700.6,
            "count": 2
           }
          ],
          "max": "114885",
          "min": "113041",
          "nan_count": 0,
          "unique_count": 5
         }
        },
        {
         "dtype": "float64",
         "name": "tmdbId",
         "stats": {
          "histogram": [
           {
            "bin_end": 3911.5,
            "bin_start": 862,
            "count": 1
           },
           {
            "bin_end": 6961,
            "bin_start": 3911.5,
            "count": 0
           },
           {
            "bin_end": 10010.5,
            "bin_start": 6961,
            "count": 1
           },
           {
            "bin_end": 13060,
            "bin_start": 10010.5,
            "count": 1
           },
           {
            "bin_end": 16109.5,
            "bin_start": 13060,
            "count": 1
           },
           {
            "bin_end": 19159,
            "bin_start": 16109.5,
            "count": 0
           },
           {
            "bin_end": 22208.5,
            "bin_start": 19159,
            "count": 0
           },
           {
            "bin_end": 25258,
            "bin_start": 22208.5,
            "count": 0
           },
           {
            "bin_end": 28307.5,
            "bin_start": 25258,
            "count": 0
           },
           {
            "bin_end": 31357,
            "bin_start": 28307.5,
            "count": 1
           }
          ],
          "max": "31357.0",
          "min": "862.0",
          "nan_count": 0,
          "unique_count": 5
         }
        },
        {
         "dtype": "int64",
         "name": "_deepnote_index_column"
        }
       ],
       "row_count": 5,
       "rows": [
        {
         "_deepnote_index_column": 0,
         "imdbId": 114709,
         "movieId": 1,
         "tmdbId": 862
        },
        {
         "_deepnote_index_column": 1,
         "imdbId": 113497,
         "movieId": 2,
         "tmdbId": 8844
        },
        {
         "_deepnote_index_column": 2,
         "imdbId": 113228,
         "movieId": 3,
         "tmdbId": 15602
        },
        {
         "_deepnote_index_column": 3,
         "imdbId": 114885,
         "movieId": 4,
         "tmdbId": 31357
        },
        {
         "_deepnote_index_column": 4,
         "imdbId": 113041,
         "movieId": 5,
         "tmdbId": 11862
        }
       ],
       "type": "dataframe"
      },
      "text/html": [
       "<div>\n",
       "<style scoped>\n",
       "    .dataframe tbody tr th:only-of-type {\n",
       "        vertical-align: middle;\n",
       "    }\n",
       "\n",
       "    .dataframe tbody tr th {\n",
       "        vertical-align: top;\n",
       "    }\n",
       "\n",
       "    .dataframe thead th {\n",
       "        text-align: right;\n",
       "    }\n",
       "</style>\n",
       "<table border=\"1\" class=\"dataframe\">\n",
       "  <thead>\n",
       "    <tr style=\"text-align: right;\">\n",
       "      <th></th>\n",
       "      <th>movieId</th>\n",
       "      <th>imdbId</th>\n",
       "      <th>tmdbId</th>\n",
       "    </tr>\n",
       "  </thead>\n",
       "  <tbody>\n",
       "    <tr>\n",
       "      <th>0</th>\n",
       "      <td>1</td>\n",
       "      <td>114709</td>\n",
       "      <td>862.0</td>\n",
       "    </tr>\n",
       "    <tr>\n",
       "      <th>1</th>\n",
       "      <td>2</td>\n",
       "      <td>113497</td>\n",
       "      <td>8844.0</td>\n",
       "    </tr>\n",
       "    <tr>\n",
       "      <th>2</th>\n",
       "      <td>3</td>\n",
       "      <td>113228</td>\n",
       "      <td>15602.0</td>\n",
       "    </tr>\n",
       "    <tr>\n",
       "      <th>3</th>\n",
       "      <td>4</td>\n",
       "      <td>114885</td>\n",
       "      <td>31357.0</td>\n",
       "    </tr>\n",
       "    <tr>\n",
       "      <th>4</th>\n",
       "      <td>5</td>\n",
       "      <td>113041</td>\n",
       "      <td>11862.0</td>\n",
       "    </tr>\n",
       "  </tbody>\n",
       "</table>\n",
       "</div>"
      ],
      "text/plain": [
       "   movieId  imdbId   tmdbId\n",
       "0        1  114709    862.0\n",
       "1        2  113497   8844.0\n",
       "2        3  113228  15602.0\n",
       "3        4  114885  31357.0\n",
       "4        5  113041  11862.0"
      ]
     },
     "metadata": {},
     "output_type": "display_data"
    }
   ],
   "source": [
    "# Display first few rows\n",
    "print(\"Movies Data:\")\n",
    "display(movies.head())\n",
    "\n",
    "print(\"\\nRatings Data:\")\n",
    "display(ratings.head())\n",
    "\n",
    "print(\"\\nCredits Data:\")\n",
    "display(credits.head())\n",
    "\n",
    "print(\"\\nKeywords Data:\")\n",
    "display(keywords.head())\n",
    "\n",
    "print(\"\\nLinks Data:\")\n",
    "display(links.head())"
   ]
  },
  {
   "cell_type": "code",
   "execution_count": null,
   "metadata": {
    "cell_id": "b6cc5da46c2946288022b4f69e9cffdd",
    "deepnote_cell_type": "code",
    "execution_context_id": "c4740c3a-6ed2-4dc5-ba33-0ff299ab674e",
    "execution_millis": 1,
    "execution_start": 1741802002318,
    "source_hash": "64085f9a"
   },
   "outputs": [
    {
     "name": "stdout",
     "output_type": "stream",
     "text": [
      "Movies Data:\n"
     ]
    },
    {
     "data": {
      "text/plain": [
       "(45466, 24)"
      ]
     },
     "metadata": {},
     "output_type": "display_data"
    },
    {
     "name": "stdout",
     "output_type": "stream",
     "text": [
      "\n",
      "Ratings Data:\n"
     ]
    },
    {
     "data": {
      "text/plain": [
       "(26024289, 4)"
      ]
     },
     "metadata": {},
     "output_type": "display_data"
    },
    {
     "name": "stdout",
     "output_type": "stream",
     "text": [
      "\n",
      "Credits Data:\n"
     ]
    },
    {
     "data": {
      "text/plain": [
       "(45476, 3)"
      ]
     },
     "metadata": {},
     "output_type": "display_data"
    },
    {
     "name": "stdout",
     "output_type": "stream",
     "text": [
      "\n",
      "Keywords Data:\n"
     ]
    },
    {
     "data": {
      "text/plain": [
       "(46419, 2)"
      ]
     },
     "metadata": {},
     "output_type": "display_data"
    },
    {
     "name": "stdout",
     "output_type": "stream",
     "text": [
      "\n",
      "Links Data:\n"
     ]
    },
    {
     "data": {
      "text/plain": [
       "(45843, 3)"
      ]
     },
     "metadata": {},
     "output_type": "display_data"
    }
   ],
   "source": [
    "# Display the data shapes\n",
    "print(\"Movies Data:\")\n",
    "display(movies.shape)\n",
    "\n",
    "print(\"\\nRatings Data:\")\n",
    "display(ratings.shape)\n",
    "\n",
    "print(\"\\nCredits Data:\")\n",
    "display(credits.shape)\n",
    "\n",
    "print(\"\\nKeywords Data:\")\n",
    "display(keywords.shape)\n",
    "\n",
    "print(\"\\nLinks Data:\")\n",
    "display(links.shape)"
   ]
  },
  {
   "cell_type": "markdown",
   "metadata": {
    "cell_id": "17e7270c44b445c4b39d5d6ea8851685",
    "deepnote_cell_type": "text-cell-p",
    "formattedRanges": []
   },
   "source": [
    "There are over 2m entries in the ratings dataset and the others have around 45,000 entries now."
   ]
  },
  {
   "cell_type": "code",
   "execution_count": null,
   "metadata": {
    "cell_id": "00ff87e2be344f2d84e753e52d4398e7",
    "deepnote_cell_type": "code",
    "execution_context_id": "c4740c3a-6ed2-4dc5-ba33-0ff299ab674e",
    "execution_millis": 24,
    "execution_start": 1741802002374,
    "source_hash": "e0e185c"
   },
   "outputs": [
    {
     "name": "stdout",
     "output_type": "stream",
     "text": [
      "Movies Data:\n",
      "<class 'pandas.core.frame.DataFrame'>\n",
      "RangeIndex: 45466 entries, 0 to 45465\n",
      "Data columns (total 24 columns):\n",
      " #   Column                 Non-Null Count  Dtype  \n",
      "---  ------                 --------------  -----  \n",
      " 0   adult                  45466 non-null  object \n",
      " 1   belongs_to_collection  4494 non-null   object \n",
      " 2   budget                 45466 non-null  object \n",
      " 3   genres                 45466 non-null  object \n",
      " 4   homepage               7782 non-null   object \n",
      " 5   id                     45466 non-null  object \n",
      " 6   imdb_id                45449 non-null  object \n",
      " 7   original_language      45455 non-null  object \n",
      " 8   original_title         45466 non-null  object \n",
      " 9   overview               44512 non-null  object \n",
      " 10  popularity             45461 non-null  object \n",
      " 11  poster_path            45080 non-null  object \n",
      " 12  production_companies   45463 non-null  object \n",
      " 13  production_countries   45463 non-null  object \n",
      " 14  release_date           45379 non-null  object \n",
      " 15  revenue                45460 non-null  float64\n",
      " 16  runtime                45203 non-null  float64\n",
      " 17  spoken_languages       45460 non-null  object \n",
      " 18  status                 45379 non-null  object \n",
      " 19  tagline                20412 non-null  object \n",
      " 20  title                  45460 non-null  object \n",
      " 21  video                  45460 non-null  object \n",
      " 22  vote_average           45460 non-null  float64\n",
      " 23  vote_count             45460 non-null  float64\n",
      "dtypes: float64(4), object(20)\n",
      "memory usage: 8.3+ MB\n"
     ]
    },
    {
     "data": {
      "text/plain": [
       "None"
      ]
     },
     "metadata": {},
     "output_type": "display_data"
    },
    {
     "name": "stdout",
     "output_type": "stream",
     "text": [
      "\n",
      "Ratings Data:\n",
      "<class 'pandas.core.frame.DataFrame'>\n",
      "RangeIndex: 26024289 entries, 0 to 26024288\n",
      "Data columns (total 4 columns):\n",
      " #   Column     Dtype  \n",
      "---  ------     -----  \n",
      " 0   userId     int64  \n",
      " 1   movieId    int64  \n",
      " 2   rating     float64\n",
      " 3   timestamp  int64  \n",
      "dtypes: float64(1), int64(3)\n",
      "memory usage: 794.2 MB\n"
     ]
    },
    {
     "data": {
      "text/plain": [
       "None"
      ]
     },
     "metadata": {},
     "output_type": "display_data"
    },
    {
     "name": "stdout",
     "output_type": "stream",
     "text": [
      "\n",
      "Credits Data:\n",
      "<class 'pandas.core.frame.DataFrame'>\n",
      "RangeIndex: 45476 entries, 0 to 45475\n",
      "Data columns (total 3 columns):\n",
      " #   Column  Non-Null Count  Dtype \n",
      "---  ------  --------------  ----- \n",
      " 0   cast    45476 non-null  object\n",
      " 1   crew    45476 non-null  object\n",
      " 2   id      45476 non-null  int64 \n",
      "dtypes: int64(1), object(2)\n",
      "memory usage: 1.0+ MB\n"
     ]
    },
    {
     "data": {
      "text/plain": [
       "None"
      ]
     },
     "metadata": {},
     "output_type": "display_data"
    },
    {
     "name": "stdout",
     "output_type": "stream",
     "text": [
      "\n",
      "Keywords Data:\n",
      "<class 'pandas.core.frame.DataFrame'>\n",
      "RangeIndex: 46419 entries, 0 to 46418\n",
      "Data columns (total 2 columns):\n",
      " #   Column    Non-Null Count  Dtype \n",
      "---  ------    --------------  ----- \n",
      " 0   id        46419 non-null  int64 \n",
      " 1   keywords  46419 non-null  object\n",
      "dtypes: int64(1), object(1)\n",
      "memory usage: 725.4+ KB\n"
     ]
    },
    {
     "data": {
      "text/plain": [
       "None"
      ]
     },
     "metadata": {},
     "output_type": "display_data"
    },
    {
     "name": "stdout",
     "output_type": "stream",
     "text": [
      "\n",
      "Links Data:\n",
      "<class 'pandas.core.frame.DataFrame'>\n",
      "RangeIndex: 45843 entries, 0 to 45842\n",
      "Data columns (total 3 columns):\n",
      " #   Column   Non-Null Count  Dtype  \n",
      "---  ------   --------------  -----  \n",
      " 0   movieId  45843 non-null  int64  \n",
      " 1   imdbId   45843 non-null  int64  \n",
      " 2   tmdbId   45624 non-null  float64\n",
      "dtypes: float64(1), int64(2)\n",
      "memory usage: 1.0 MB\n"
     ]
    },
    {
     "data": {
      "text/plain": [
       "None"
      ]
     },
     "metadata": {},
     "output_type": "display_data"
    }
   ],
   "source": [
    "# Display the data info\n",
    "print(\"Movies Data:\")\n",
    "display(movies.info())\n",
    "\n",
    "print(\"\\nRatings Data:\")\n",
    "display(ratings.info())\n",
    "\n",
    "print(\"\\nCredits Data:\")\n",
    "display(credits.info())\n",
    "\n",
    "print(\"\\nKeywords Data:\")\n",
    "display(keywords.info())\n",
    "\n",
    "print(\"\\nLinks Data:\")\n",
    "display(links.info())"
   ]
  },
  {
   "cell_type": "markdown",
   "metadata": {
    "cell_id": "1e777f9429df45c99baecdd47d69cc5e",
    "deepnote_cell_type": "text-cell-h3",
    "formattedRanges": []
   },
   "source": [
    "### Handling missing values"
   ]
  },
  {
   "cell_type": "code",
   "execution_count": null,
   "metadata": {
    "cell_id": "299fb177cf0e4da89fa8e5c39e8880fc",
    "deepnote_cell_type": "code",
    "execution_context_id": "c4740c3a-6ed2-4dc5-ba33-0ff299ab674e",
    "execution_millis": 63,
    "execution_start": 1741802002445,
    "source_hash": "9e3a71bc"
   },
   "outputs": [
    {
     "data": {
      "text/plain": [
       "userId       0\n",
       "movieId      0\n",
       "rating       0\n",
       "timestamp    0\n",
       "dtype: int64"
      ]
     },
     "execution_count": 8,
     "metadata": {},
     "output_type": "execute_result"
    }
   ],
   "source": [
    "#checking null values in ratings dataset\n",
    "ratings.isnull().sum()"
   ]
  },
  {
   "cell_type": "code",
   "execution_count": null,
   "metadata": {
    "cell_id": "4596d6764f2c4614be72357b8f7306eb",
    "deepnote_cell_type": "code",
    "execution_context_id": "c4740c3a-6ed2-4dc5-ba33-0ff299ab674e",
    "execution_millis": 1,
    "execution_start": 1741802002553,
    "source_hash": "4fd0f6bc"
   },
   "outputs": [
    {
     "data": {
      "text/plain": [
       "(26024289, 4)"
      ]
     },
     "execution_count": 9,
     "metadata": {},
     "output_type": "execute_result"
    }
   ],
   "source": [
    "ratings.shape"
   ]
  },
  {
   "cell_type": "code",
   "execution_count": null,
   "metadata": {
    "cell_id": "10e5dcff53f4496eb6e80fe2cdb957e1",
    "deepnote_cell_type": "code",
    "execution_context_id": "c4740c3a-6ed2-4dc5-ba33-0ff299ab674e",
    "execution_millis": 10336,
    "execution_start": 1741802002601,
    "source_hash": "e6780248"
   },
   "outputs": [
    {
     "data": {
      "text/plain": [
       "0"
      ]
     },
     "execution_count": 10,
     "metadata": {},
     "output_type": "execute_result"
    }
   ],
   "source": [
    "#check for duplicate rows\n",
    "ratings.duplicated().sum()"
   ]
  },
  {
   "cell_type": "markdown",
   "metadata": {
    "cell_id": "ffc138fb08574933b611dc0519d07da1",
    "deepnote_cell_type": "text-cell-p",
    "formattedRanges": []
   },
   "source": [
    "no null values"
   ]
  },
  {
   "cell_type": "code",
   "execution_count": null,
   "metadata": {
    "cell_id": "7d96c3001c6349ceac335c7ae40f4278",
    "deepnote_cell_type": "code",
    "execution_context_id": "c4740c3a-6ed2-4dc5-ba33-0ff299ab674e",
    "execution_millis": 1,
    "execution_start": 1741802012985,
    "source_hash": "a6c70acb"
   },
   "outputs": [
    {
     "name": "stdout",
     "output_type": "stream",
     "text": [
      "adult                        0\n",
      "belongs_to_collection    40972\n",
      "budget                       0\n",
      "genres                       0\n",
      "homepage                 37684\n",
      "id                           0\n",
      "imdb_id                     17\n",
      "original_language           11\n",
      "original_title               0\n",
      "overview                   954\n",
      "popularity                   5\n",
      "poster_path                386\n",
      "production_companies         3\n",
      "production_countries         3\n",
      "release_date                87\n",
      "revenue                      6\n",
      "runtime                    263\n",
      "spoken_languages             6\n",
      "status                      87\n",
      "tagline                  25054\n",
      "title                        6\n",
      "video                        6\n",
      "vote_average                 6\n",
      "vote_count                   6\n",
      "dtype: int64\n"
     ]
    }
   ],
   "source": [
    "#checking for null values in movies dataset\n",
    "print(movies.isnull().sum())"
   ]
  },
  {
   "cell_type": "markdown",
   "metadata": {
    "cell_id": "926fa4f93205439c88327519d41d17b8",
    "deepnote_cell_type": "text-cell-p",
    "formattedRanges": []
   },
   "source": [
    "40k+ null values exist in some columns"
   ]
  },
  {
   "cell_type": "code",
   "execution_count": null,
   "metadata": {
    "cell_id": "a992fd541379470cbc738ec91c96a6e2",
    "deepnote_cell_type": "code",
    "execution_context_id": "c4740c3a-6ed2-4dc5-ba33-0ff299ab674e",
    "execution_millis": 1,
    "execution_start": 1741802013037,
    "source_hash": "752c544e"
   },
   "outputs": [],
   "source": [
    "#dropping unnecessary columns\n",
    "movies.drop(columns=['adult', 'homepage', 'belongs_to_collection', 'homepage', 'poster_path', 'status', 'video'], inplace=True)"
   ]
  },
  {
   "cell_type": "code",
   "execution_count": null,
   "metadata": {
    "cell_id": "3e06f24c06b041e29dd3af7c85d663cf",
    "deepnote_cell_type": "code",
    "execution_context_id": "c4740c3a-6ed2-4dc5-ba33-0ff299ab674e",
    "execution_millis": 1,
    "execution_start": 1741802013089,
    "source_hash": "76c5362"
   },
   "outputs": [
    {
     "data": {
      "text/plain": [
       "(45466, 18)"
      ]
     },
     "execution_count": 13,
     "metadata": {},
     "output_type": "execute_result"
    }
   ],
   "source": [
    "movies.shape"
   ]
  },
  {
   "cell_type": "code",
   "execution_count": null,
   "metadata": {
    "cell_id": "1e1aaa6aa67d416da52106dcb5781109",
    "deepnote_cell_type": "code",
    "execution_context_id": "c4740c3a-6ed2-4dc5-ba33-0ff299ab674e",
    "execution_millis": 73,
    "execution_start": 1741802013137,
    "source_hash": "afbca9b1"
   },
   "outputs": [
    {
     "data": {
      "text/plain": [
       "13"
      ]
     },
     "execution_count": 14,
     "metadata": {},
     "output_type": "execute_result"
    }
   ],
   "source": [
    "#checking for duplicate rows\n",
    "movies.duplicated().sum()"
   ]
  },
  {
   "cell_type": "code",
   "execution_count": null,
   "metadata": {
    "cell_id": "7430d46cd9ce4865803679093a28c172",
    "deepnote_cell_type": "code",
    "execution_context_id": "c4740c3a-6ed2-4dc5-ba33-0ff299ab674e",
    "execution_millis": 89,
    "execution_start": 1741802013258,
    "source_hash": "827071c8"
   },
   "outputs": [
    {
     "data": {
      "text/plain": [
       "(45453, 18)"
      ]
     },
     "execution_count": 15,
     "metadata": {},
     "output_type": "execute_result"
    }
   ],
   "source": [
    "#drop duplicate rows\n",
    "movies.drop_duplicates(inplace=True)\n",
    "\n",
    "movies.shape"
   ]
  },
  {
   "cell_type": "code",
   "execution_count": null,
   "metadata": {
    "cell_id": "8785900d44d0414881c347347bc3a097",
    "deepnote_cell_type": "code",
    "execution_context_id": "c4740c3a-6ed2-4dc5-ba33-0ff299ab674e",
    "execution_millis": 0,
    "execution_start": 1741802013390,
    "source_hash": "a6c70acb"
   },
   "outputs": [
    {
     "name": "stdout",
     "output_type": "stream",
     "text": [
      "budget                      0\n",
      "genres                      0\n",
      "id                          0\n",
      "imdb_id                    17\n",
      "original_language          11\n",
      "original_title              0\n",
      "overview                  954\n",
      "popularity                  5\n",
      "production_companies        3\n",
      "production_countries        3\n",
      "release_date               87\n",
      "revenue                     6\n",
      "runtime                   263\n",
      "spoken_languages            6\n",
      "tagline                 25045\n",
      "title                       6\n",
      "vote_average                6\n",
      "vote_count                  6\n",
      "dtype: int64\n"
     ]
    }
   ],
   "source": [
    "#checking for null values in movies dataset\n",
    "print(movies.isnull().sum())"
   ]
  },
  {
   "cell_type": "code",
   "execution_count": null,
   "metadata": {
    "cell_id": "926ba2ce94f64195805a042363bd0f40",
    "deepnote_cell_type": "code",
    "execution_context_id": "c4740c3a-6ed2-4dc5-ba33-0ff299ab674e",
    "execution_millis": 7,
    "execution_start": 1741802013445,
    "source_hash": "16658362"
   },
   "outputs": [
    {
     "data": {
      "text/plain": [
       "budget                   0\n",
       "genres                   0\n",
       "id                       0\n",
       "imdb_id                 17\n",
       "original_language       11\n",
       "original_title           0\n",
       "overview                 0\n",
       "popularity               0\n",
       "production_companies     3\n",
       "production_countries     3\n",
       "release_date             0\n",
       "revenue                  6\n",
       "runtime                  0\n",
       "spoken_languages         6\n",
       "tagline                  0\n",
       "title                    6\n",
       "vote_average             0\n",
       "vote_count               0\n",
       "dtype: int64"
      ]
     },
     "execution_count": 17,
     "metadata": {},
     "output_type": "execute_result"
    }
   ],
   "source": [
    "# First convert popularity column to numeric, coercing errors to NaN\n",
    "movies['popularity'] = pd.to_numeric(movies['popularity'], errors='coerce')\n",
    "\n",
    "#fill null values in overview with \"No overview available\"\n",
    "movies['overview'].fillna(\"No overview available\", inplace=True)\n",
    "\n",
    "#fill null values in popularity, vote_average, vote_count, runtime with median value\n",
    "movies['popularity'].fillna(movies['popularity'].median(), inplace=True)\n",
    "movies['vote_average'].fillna(movies['vote_average'].median(), inplace=True)\n",
    "movies['vote_count'].fillna(movies['vote_count'].median(), inplace=True)\n",
    "movies['runtime'].fillna(movies['runtime'].median(), inplace=True)\n",
    "\n",
    "#fill null values in tagline with \"No tagline available\"\n",
    "movies['tagline'].fillna(\"No tagline available\", inplace=True)\n",
    "\n",
    "#fill null values in release date with most frequent value\n",
    "movies['release_date'].fillna(movies['release_date'].mode()[0], inplace=True)\n",
    "\n",
    "#checking for null values in movies dataset\n",
    "movies.isnull().sum()"
   ]
  },
  {
   "cell_type": "code",
   "execution_count": null,
   "metadata": {
    "cell_id": "5229b3a23a8a49be87e7d38e5e49b64d",
    "deepnote_cell_type": "code",
    "execution_context_id": "c4740c3a-6ed2-4dc5-ba33-0ff299ab674e",
    "execution_millis": 0,
    "execution_start": 1741802013502,
    "source_hash": "bbce5a41"
   },
   "outputs": [
    {
     "data": {
      "text/plain": [
       "budget                   0\n",
       "genres                   0\n",
       "id                       0\n",
       "imdb_id                 17\n",
       "original_language        0\n",
       "original_title           0\n",
       "overview                 0\n",
       "popularity               0\n",
       "production_companies     3\n",
       "production_countries     3\n",
       "release_date             0\n",
       "revenue                  6\n",
       "runtime                  0\n",
       "spoken_languages         6\n",
       "tagline                  0\n",
       "title                    6\n",
       "vote_average             0\n",
       "vote_count               0\n",
       "dtype: int64"
      ]
     },
     "execution_count": 18,
     "metadata": {},
     "output_type": "execute_result"
    }
   ],
   "source": [
    "movies['original_language'].fillna('en', inplace=True)\n",
    "\n",
    "#checking for null values in movies dataset\n",
    "movies.isnull().sum()"
   ]
  },
  {
   "cell_type": "code",
   "execution_count": null,
   "metadata": {
    "cell_id": "ccce7509f10e467cb995444a724ebc78",
    "deepnote_cell_type": "code",
    "execution_context_id": "c4740c3a-6ed2-4dc5-ba33-0ff299ab674e",
    "execution_millis": 1,
    "execution_start": 1741802013557,
    "source_hash": "7d556d9"
   },
   "outputs": [
    {
     "data": {
      "text/plain": [
       "budget                  0\n",
       "genres                  0\n",
       "id                      0\n",
       "imdb_id                 0\n",
       "original_language       0\n",
       "original_title          0\n",
       "overview                0\n",
       "popularity              0\n",
       "production_companies    0\n",
       "production_countries    0\n",
       "release_date            0\n",
       "revenue                 0\n",
       "runtime                 0\n",
       "spoken_languages        0\n",
       "tagline                 0\n",
       "title                   0\n",
       "vote_average            0\n",
       "vote_count              0\n",
       "dtype: int64"
      ]
     },
     "execution_count": 19,
     "metadata": {},
     "output_type": "execute_result"
    }
   ],
   "source": [
    "#drop null values in original_language, spoken_languages, title\n",
    "movies.dropna(subset=['imdb_id', 'spoken_languages', 'title'], inplace=True)\n",
    "movies.isnull().sum()"
   ]
  },
  {
   "cell_type": "code",
   "execution_count": null,
   "metadata": {
    "cell_id": "9f0c31e2d9284c66a644ac87b634fc7c",
    "deepnote_cell_type": "code",
    "execution_context_id": "c4740c3a-6ed2-4dc5-ba33-0ff299ab674e",
    "execution_millis": 1,
    "execution_start": 1741802013605,
    "source_hash": "76c5362"
   },
   "outputs": [
    {
     "data": {
      "text/plain": [
       "(45430, 18)"
      ]
     },
     "execution_count": 20,
     "metadata": {},
     "output_type": "execute_result"
    }
   ],
   "source": [
    "movies.shape"
   ]
  },
  {
   "cell_type": "code",
   "execution_count": null,
   "metadata": {
    "cell_id": "4e526a8d053d4d8082c9141f61c876f1",
    "deepnote_cell_type": "code",
    "execution_context_id": "c4740c3a-6ed2-4dc5-ba33-0ff299ab674e",
    "execution_millis": 1,
    "execution_start": 1741802013665,
    "source_hash": "4f64660f"
   },
   "outputs": [
    {
     "name": "stdout",
     "output_type": "stream",
     "text": [
      "cast    0\n",
      "crew    0\n",
      "id      0\n",
      "dtype: int64\n"
     ]
    }
   ],
   "source": [
    "#checking for null values in credits dataset\n",
    "print(credits.isnull().sum())"
   ]
  },
  {
   "cell_type": "markdown",
   "metadata": {
    "cell_id": "1eeeab2773b44f21a9216d0f4f13cec5",
    "deepnote_cell_type": "text-cell-p",
    "formattedRanges": []
   },
   "source": [
    "no null values"
   ]
  },
  {
   "cell_type": "code",
   "execution_count": null,
   "metadata": {
    "cell_id": "b6ce612bf2e44ee7b7e63b3a555ff333",
    "deepnote_cell_type": "code",
    "execution_context_id": "c4740c3a-6ed2-4dc5-ba33-0ff299ab674e",
    "execution_millis": 425,
    "execution_start": 1741802013717,
    "source_hash": "e4940f36"
   },
   "outputs": [
    {
     "data": {
      "text/plain": [
       "37"
      ]
     },
     "execution_count": 22,
     "metadata": {},
     "output_type": "execute_result"
    }
   ],
   "source": [
    "#check for duplicate values\n",
    "credits.duplicated().sum()"
   ]
  },
  {
   "cell_type": "code",
   "execution_count": null,
   "metadata": {
    "cell_id": "5cb96d574f52402cbb500d24851b3c0f",
    "deepnote_cell_type": "code",
    "execution_context_id": "c4740c3a-6ed2-4dc5-ba33-0ff299ab674e",
    "execution_millis": 780,
    "execution_start": 1741802014189,
    "source_hash": "28bd83f2"
   },
   "outputs": [
    {
     "data": {
      "text/plain": [
       "0"
      ]
     },
     "execution_count": 23,
     "metadata": {},
     "output_type": "execute_result"
    }
   ],
   "source": [
    "#remove duplicate rows\n",
    "credits.drop_duplicates(inplace=True)\n",
    "credits.duplicated().sum()"
   ]
  },
  {
   "cell_type": "code",
   "execution_count": null,
   "metadata": {
    "cell_id": "cd6cb93f6a534dbdb53a84e83637236b",
    "deepnote_cell_type": "code",
    "execution_context_id": "c4740c3a-6ed2-4dc5-ba33-0ff299ab674e",
    "execution_millis": 0,
    "execution_start": 1741802015018,
    "source_hash": "278faa42"
   },
   "outputs": [
    {
     "data": {
      "text/plain": [
       "(45439, 3)"
      ]
     },
     "execution_count": 24,
     "metadata": {},
     "output_type": "execute_result"
    }
   ],
   "source": [
    "credits.shape"
   ]
  },
  {
   "cell_type": "code",
   "execution_count": null,
   "metadata": {
    "cell_id": "36abccd269d24cfd820b249ef0fe6358",
    "deepnote_cell_type": "code",
    "execution_context_id": "c4740c3a-6ed2-4dc5-ba33-0ff299ab674e",
    "execution_millis": 1,
    "execution_start": 1741802015065,
    "source_hash": "5e7f88f9"
   },
   "outputs": [
    {
     "name": "stdout",
     "output_type": "stream",
     "text": [
      "id          0\n",
      "keywords    0\n",
      "dtype: int64\n"
     ]
    }
   ],
   "source": [
    "#checking for null values in keywords dataset\n",
    "print(keywords.isnull().sum())"
   ]
  },
  {
   "cell_type": "markdown",
   "metadata": {
    "cell_id": "3facd3fe340344c79c428da3d12c3cb8",
    "deepnote_cell_type": "text-cell-p",
    "formattedRanges": []
   },
   "source": [
    "no null values"
   ]
  },
  {
   "cell_type": "code",
   "execution_count": null,
   "metadata": {
    "cell_id": "a006fe2264ad424cad7c09fd449be28d",
    "deepnote_cell_type": "code",
    "execution_context_id": "c4740c3a-6ed2-4dc5-ba33-0ff299ab674e",
    "execution_millis": 1,
    "execution_start": 1741802015113,
    "source_hash": "6a6145ee"
   },
   "outputs": [
    {
     "data": {
      "text/plain": [
       "987"
      ]
     },
     "execution_count": 26,
     "metadata": {},
     "output_type": "execute_result"
    }
   ],
   "source": [
    "#check for duplicate values\n",
    "keywords.duplicated().sum()"
   ]
  },
  {
   "cell_type": "code",
   "execution_count": null,
   "metadata": {
    "cell_id": "dbcbd714403c4038a7de236abb9f8155",
    "deepnote_cell_type": "code",
    "execution_context_id": "c4740c3a-6ed2-4dc5-ba33-0ff299ab674e",
    "execution_millis": 1,
    "execution_start": 1741802015165,
    "source_hash": "eca0e3e"
   },
   "outputs": [
    {
     "data": {
      "text/plain": [
       "0"
      ]
     },
     "execution_count": 27,
     "metadata": {},
     "output_type": "execute_result"
    }
   ],
   "source": [
    "#remove duplicate values\n",
    "keywords.drop_duplicates(inplace=True)\n",
    "keywords.duplicated().sum()"
   ]
  },
  {
   "cell_type": "code",
   "execution_count": null,
   "metadata": {
    "cell_id": "da6db13769cb4fb0adb749e37352cc92",
    "deepnote_cell_type": "code",
    "execution_context_id": "c4740c3a-6ed2-4dc5-ba33-0ff299ab674e",
    "execution_millis": 1,
    "execution_start": 1741802015213,
    "source_hash": "7be46427"
   },
   "outputs": [
    {
     "data": {
      "text/plain": [
       "(45432, 2)"
      ]
     },
     "execution_count": 28,
     "metadata": {},
     "output_type": "execute_result"
    }
   ],
   "source": [
    "keywords.shape"
   ]
  },
  {
   "cell_type": "code",
   "execution_count": null,
   "metadata": {
    "cell_id": "15845ff528f64fe6997ca3aa84ac638d",
    "deepnote_cell_type": "code",
    "execution_context_id": "c4740c3a-6ed2-4dc5-ba33-0ff299ab674e",
    "execution_millis": 1,
    "execution_start": 1741802015261,
    "source_hash": "acedb111"
   },
   "outputs": [
    {
     "name": "stdout",
     "output_type": "stream",
     "text": [
      "movieId      0\n",
      "imdbId       0\n",
      "tmdbId     219\n",
      "dtype: int64\n"
     ]
    }
   ],
   "source": [
    "#checking for null values in links dataset\n",
    "print(links.isnull().sum())"
   ]
  },
  {
   "cell_type": "code",
   "execution_count": null,
   "metadata": {
    "cell_id": "6e49915950774a30885df9e2592541c3",
    "deepnote_cell_type": "code",
    "execution_context_id": "c4740c3a-6ed2-4dc5-ba33-0ff299ab674e",
    "execution_millis": 0,
    "execution_start": 1741802015310,
    "source_hash": "d08a41c1"
   },
   "outputs": [
    {
     "data": {
      "text/plain": [
       "0"
      ]
     },
     "execution_count": 30,
     "metadata": {},
     "output_type": "execute_result"
    }
   ],
   "source": [
    "#check for duplicate values\n",
    "links.duplicated().sum()"
   ]
  },
  {
   "cell_type": "code",
   "execution_count": null,
   "metadata": {
    "cell_id": "26594c6a87d3474086ef7c4ec4ddee0d",
    "deepnote_cell_type": "code",
    "execution_context_id": "c4740c3a-6ed2-4dc5-ba33-0ff299ab674e",
    "execution_millis": 1,
    "execution_start": 1741802015361,
    "source_hash": "f72b8234"
   },
   "outputs": [
    {
     "data": {
      "text/plain": [
       "(45843, 3)"
      ]
     },
     "execution_count": 31,
     "metadata": {},
     "output_type": "execute_result"
    }
   ],
   "source": [
    "links.shape"
   ]
  },
  {
   "cell_type": "code",
   "execution_count": null,
   "metadata": {
    "cell_id": "e5521bd429d74edcbdf8e3029260b9a2",
    "deepnote_cell_type": "code",
    "execution_context_id": "c4740c3a-6ed2-4dc5-ba33-0ff299ab674e",
    "execution_millis": 1,
    "execution_start": 1741802015409,
    "source_hash": "5a4ffa74"
   },
   "outputs": [
    {
     "data": {
      "text/plain": [
       "movieId    0\n",
       "imdbId     0\n",
       "tmdbId     0\n",
       "dtype: int64"
      ]
     },
     "execution_count": 32,
     "metadata": {},
     "output_type": "execute_result"
    }
   ],
   "source": [
    "#drop null values in tmdbid\n",
    "links.dropna(subset=['tmdbId'], inplace=True)\n",
    "links.isnull().sum()"
   ]
  },
  {
   "cell_type": "markdown",
   "metadata": {
    "cell_id": "5aeb0ed57ce84e499ce6f7db8f924a4f",
    "deepnote_cell_type": "text-cell-p",
    "formattedRanges": []
   },
   "source": [
    "no null values in tmdbid"
   ]
  },
  {
   "cell_type": "code",
   "execution_count": null,
   "metadata": {
    "cell_id": "43a04ed646a949028916575d13e5c546",
    "deepnote_cell_type": "code",
    "execution_context_id": "c4740c3a-6ed2-4dc5-ba33-0ff299ab674e",
    "execution_millis": 53872,
    "execution_start": 1741802015461,
    "source_hash": "1a7339f1"
   },
   "outputs": [],
   "source": [
    "#save the cleaned dataset\n",
    "movies.to_csv('movies_clean.csv', index=False)\n",
    "credits.to_csv('credits_clean.csv', index=False)\n",
    "keywords.to_csv('keywords_clean.csv', index=False)\n",
    "links.to_csv('links_clean.csv', index=False)\n",
    "ratings.to_csv('ratings_clean.csv', index=False)"
   ]
  },
  {
   "cell_type": "markdown",
   "metadata": {
    "cell_id": "f147c55b33c948c0a9d945bfb2054d11",
    "deepnote_cell_type": "text-cell-h3",
    "formattedRanges": []
   },
   "source": [
    "### Data Merging"
   ]
  },
  {
   "cell_type": "code",
   "execution_count": null,
   "metadata": {
    "cell_id": "9358303f8bb849d2871c88c472019775",
    "deepnote_cell_type": "code",
    "execution_context_id": "c4740c3a-6ed2-4dc5-ba33-0ff299ab674e",
    "execution_millis": 0,
    "execution_start": 1741802069381,
    "source_hash": "84c2f305"
   },
   "outputs": [],
   "source": [
    "#collect the column titles from the dataset\n",
    "movies_columns = movies.columns\n",
    "credits_columns = credits.columns\n",
    "keywords_columns = keywords.columns\n",
    "links_columns = links.columns\n",
    "ratings_columns = ratings.columns"
   ]
  },
  {
   "cell_type": "code",
   "execution_count": null,
   "metadata": {
    "cell_id": "565e882f45244d6ea9c9ef113cb04d9f",
    "deepnote_cell_type": "code",
    "execution_context_id": "c4740c3a-6ed2-4dc5-ba33-0ff299ab674e",
    "execution_millis": 0,
    "execution_start": 1741802069430,
    "source_hash": "551558d8"
   },
   "outputs": [
    {
     "name": "stdout",
     "output_type": "stream",
     "text": [
      "Index(['budget', 'genres', 'id', 'imdb_id', 'original_language',\n",
      "       'original_title', 'overview', 'popularity', 'production_companies',\n",
      "       'production_countries', 'release_date', 'revenue', 'runtime',\n",
      "       'spoken_languages', 'tagline', 'title', 'vote_average', 'vote_count'],\n",
      "      dtype='object')\n",
      "Index(['cast', 'crew', 'id'], dtype='object')\n",
      "Index(['id', 'keywords'], dtype='object')\n",
      "Index(['movieId', 'imdbId', 'tmdbId'], dtype='object')\n",
      "Index(['userId', 'movieId', 'rating', 'timestamp'], dtype='object')\n"
     ]
    }
   ],
   "source": [
    "print(movies_columns)\n",
    "print(credits_columns)\n",
    "print(keywords_columns)\n",
    "print(links_columns)\n",
    "print(ratings_columns)"
   ]
  },
  {
   "cell_type": "code",
   "execution_count": null,
   "metadata": {
    "cell_id": "a3d6fb8b2b3c48449dbaac055e36a492",
    "deepnote_cell_type": "code",
    "execution_context_id": "c4740c3a-6ed2-4dc5-ba33-0ff299ab674e",
    "execution_millis": 94,
    "execution_start": 1741802069501,
    "source_hash": "4777450d"
   },
   "outputs": [],
   "source": [
    "# Convert 'id' in movies to numeric (handling errors)\n",
    "movies['id'] = pd.to_numeric(movies['id'], errors='coerce')\n",
    "\n",
    "# Convert 'tmdbId' and 'movieId' in links to numeric\n",
    "links['tmdbId'] = pd.to_numeric(links['tmdbId'], errors='coerce')\n",
    "links['movieId'] = pd.to_numeric(links['movieId'], errors='coerce')\n",
    "\n",
    "# Drop rows with missing ID values after conversion\n",
    "movies.dropna(subset=['id'], inplace=True)\n",
    "links.dropna(subset=['tmdbId'], inplace=True)\n",
    "\n",
    "# Convert to integers for proper merging\n",
    "movies['id'] = movies['id'].astype(int)\n",
    "credits['id'] = credits['id'].astype(int)\n",
    "keywords['id'] = keywords['id'].astype(int)\n",
    "links['tmdbId'] = links['tmdbId'].astype(int)\n",
    "links['movieId'] = links['movieId'].astype(int)\n",
    "ratings['movieId'] = ratings['movieId'].astype(int)"
   ]
  },
  {
   "cell_type": "code",
   "execution_count": null,
   "metadata": {
    "cell_id": "67865e17cab146c3987b6fcf7b52aa8b",
    "deepnote_cell_type": "code",
    "execution_context_id": "c4740c3a-6ed2-4dc5-ba33-0ff299ab674e",
    "execution_millis": 29,
    "execution_start": 1741802069641,
    "source_hash": "69c9ff02"
   },
   "outputs": [],
   "source": [
    "# Merge movies with credits on 'id'\n",
    "movies = movies.merge(credits, on='id', how='left')\n",
    "\n",
    "# Merge movies with keywords on 'id'\n",
    "movies = movies.merge(keywords, on='id', how='left')"
   ]
  },
  {
   "cell_type": "code",
   "execution_count": null,
   "metadata": {
    "cell_id": "7bdad30c19fd46c180c994b78e879e70",
    "deepnote_cell_type": "code",
    "execution_context_id": "c4740c3a-6ed2-4dc5-ba33-0ff299ab674e",
    "execution_millis": 20,
    "execution_start": 1741802069726,
    "source_hash": "3ab2fcfb"
   },
   "outputs": [],
   "source": [
    "# Merge movies with links_small on 'id' (movies) and 'tmdbId' (links)\n",
    "movies = movies.merge(links[['movieId', 'tmdbId']], left_on='id', right_on='tmdbId', how='left')\n",
    "\n",
    "# Drop 'tmdbId' column (redundant after merging)\n",
    "movies.drop(columns=['tmdbId'], inplace=True)"
   ]
  },
  {
   "cell_type": "code",
   "execution_count": null,
   "metadata": {
    "cell_id": "c227388eef394012b792a9ffc1807328",
    "deepnote_cell_type": "code",
    "execution_context_id": "c4740c3a-6ed2-4dc5-ba33-0ff299ab674e",
    "execution_millis": 1,
    "execution_start": 1741802069797,
    "source_hash": "76c5362"
   },
   "outputs": [
    {
     "data": {
      "text/plain": [
       "(45503, 22)"
      ]
     },
     "execution_count": 39,
     "metadata": {},
     "output_type": "execute_result"
    }
   ],
   "source": [
    "movies.shape"
   ]
  },
  {
   "cell_type": "code",
   "execution_count": null,
   "metadata": {
    "cell_id": "d5b2c5e533664bd2b4c1ecd25ee8c663",
    "deepnote_cell_type": "code",
    "execution_context_id": "c4740c3a-6ed2-4dc5-ba33-0ff299ab674e",
    "execution_millis": 0,
    "execution_start": 1741802069845,
    "source_hash": "4fd0f6bc"
   },
   "outputs": [
    {
     "data": {
      "text/plain": [
       "(26024289, 4)"
      ]
     },
     "execution_count": 40,
     "metadata": {},
     "output_type": "execute_result"
    }
   ],
   "source": [
    "ratings.shape"
   ]
  },
  {
   "cell_type": "code",
   "execution_count": null,
   "metadata": {
    "cell_id": "5e67f4483c8041c9964a92ca7eb635ec",
    "deepnote_cell_type": "code",
    "execution_context_id": "c4740c3a-6ed2-4dc5-ba33-0ff299ab674e",
    "execution_millis": 18,
    "execution_start": 1741802107074,
    "source_hash": "ba72272c"
   },
   "outputs": [
    {
     "data": {
      "application/vnd.deepnote.dataframe.v3+json": {
       "column_count": 22,
       "columns": [
        {
         "dtype": "object",
         "name": "budget",
         "stats": {
          "categories": [
           {
            "count": 1,
            "name": "30000000"
           },
           {
            "count": 1,
            "name": "65000000"
           },
           {
            "count": 1,
            "name": "0"
           }
          ],
          "nan_count": 0,
          "unique_count": 3
         }
        },
        {
         "dtype": "object",
         "name": "genres",
         "stats": {
          "categories": [
           {
            "count": 1,
            "name": "[{'id': 16, 'name': 'Animation'}, {'id': 35, 'name': 'Comedy'}, {'id': 10751, 'name': 'Family'}]"
           },
           {
            "count": 1,
            "name": "[{'id': 12, 'name': 'Adventure'}, {'id': 14, 'name': 'Fantasy'}, {'id': 10751, 'name': 'Family'}]"
           },
           {
            "count": 1,
            "name": "[{'id': 10749, 'name': 'Romance'}, {'id': 35, 'name': 'Comedy'}]"
           }
          ],
          "nan_count": 0,
          "unique_count": 3
         }
        },
        {
         "dtype": "int64",
         "name": "id",
         "stats": {
          "histogram": [
           {
            "bin_end": 2336,
            "bin_start": 862,
            "count": 1
           },
           {
            "bin_end": 3810,
            "bin_start": 2336,
            "count": 0
           },
           {
            "bin_end": 5284,
            "bin_start": 3810,
            "count": 0
           },
           {
            "bin_end": 6758,
            "bin_start": 5284,
            "count": 0
           },
           {
            "bin_end": 8232,
            "bin_start": 6758,
            "count": 0
           },
           {
            "bin_end": 9706,
            "bin_start": 8232,
            "count": 1
           },
           {
            "bin_end": 11180,
            "bin_start": 9706,
            "count": 0
           },
           {
            "bin_end": 12654,
            "bin_start": 11180,
            "count": 0
           },
           {
            "bin_end": 14128,
            "bin_start": 12654,
            "count": 0
           },
           {
            "bin_end": 15602,
            "bin_start": 14128,
            "count": 1
           }
          ],
          "max": "15602",
          "min": "862",
          "nan_count": 0,
          "unique_count": 3
         }
        },
        {
         "dtype": "object",
         "name": "imdb_id",
         "stats": {
          "categories": [
           {
            "count": 1,
            "name": "tt0114709"
           },
           {
            "count": 1,
            "name": "tt0113497"
           },
           {
            "count": 1,
            "name": "tt0113228"
           }
          ],
          "nan_count": 0,
          "unique_count": 3
         }
        },
        {
         "dtype": "object",
         "name": "original_language",
         "stats": {
          "categories": [
           {
            "count": 3,
            "name": "en"
           }
          ],
          "nan_count": 0,
          "unique_count": 1
         }
        },
        {
         "dtype": "object",
         "name": "original_title",
         "stats": {
          "categories": [
           {
            "count": 1,
            "name": "Toy Story"
           },
           {
            "count": 1,
            "name": "Jumanji"
           },
           {
            "count": 1,
            "name": "Grumpier Old Men"
           }
          ],
          "nan_count": 0,
          "unique_count": 3
         }
        },
        {
         "dtype": "object",
         "name": "overview",
         "stats": {
          "categories": [
           {
            "count": 1,
            "name": "Led by Woody, Andy's toys live happily in his room until Andy's birthday brings Buzz Lightyear onto the scene. Afraid of losing his place in Andy's heart, Woody plots against Buzz. But when circumstances separate Buzz and Woody from their owner, the duo eventually learns to put aside their differences."
           },
           {
            "count": 1,
            "name": "When siblings Judy and Peter discover an enchanted board game that opens the door to a magical world, they unwittingly invite Alan -- an adult who's been trapped inside the game for 26 years -- into their living room. Alan's only hope for freedom is to finish the game, which proves risky as all three find themselves running from giant rhinoceroses, evil monkeys and other terrifying creatures."
           },
           {
            "count": 1,
            "name": "A family wedding reignites the ancient feud between next-door neighbors and fishing buddies John and Max. Meanwhile, a sultry Italian divorcée opens a restaurant at the local bait shop, alarming the locals who worry she'll scare the fish away. But she's less interested in seafood than she is in cooking up a hot time with Max."
           }
          ],
          "nan_count": 0,
          "unique_count": 3
         }
        },
        {
         "dtype": "float64",
         "name": "popularity",
         "stats": {
          "histogram": [
           {
            "bin_end": 12.7363043,
            "bin_start": 11.7129,
            "count": 1
           },
           {
            "bin_end": 13.7597086,
            "bin_start": 12.7363043,
            "count": 0
           },
           {
            "bin_end": 14.783112899999999,
            "bin_start": 13.7597086,
            "count": 0
           },
           {
            "bin_end": 15.8065172,
            "bin_start": 14.783112899999999,
            "count": 0
           },
           {
            "bin_end": 16.8299215,
            "bin_start": 15.8065172,
            "count": 0
           },
           {
            "bin_end": 17.8533258,
            "bin_start": 16.8299215,
            "count": 1
           },
           {
            "bin_end": 18.8767301,
            "bin_start": 17.8533258,
            "count": 0
           },
           {
            "bin_end": 19.9001344,
            "bin_start": 18.8767301,
            "count": 0
           },
           {
            "bin_end": 20.9235387,
            "bin_start": 19.9001344,
            "count": 0
           },
           {
            "bin_end": 21.946943,
            "bin_start": 20.9235387,
            "count": 1
           }
          ],
          "max": "21.946943",
          "min": "11.7129",
          "nan_count": 0,
          "unique_count": 3
         }
        },
        {
         "dtype": "object",
         "name": "production_companies",
         "stats": {
          "categories": [
           {
            "count": 1,
            "name": "[{'name': 'Pixar Animation Studios', 'id': 3}]"
           },
           {
            "count": 1,
            "name": "[{'name': 'TriStar Pictures', 'id': 559}, {'name': 'Teitler Film', 'id': 2550}, {'name': 'Interscope Communications', 'id': 10201}]"
           },
           {
            "count": 1,
            "name": "[{'name': 'Warner Bros.', 'id': 6194}, {'name': 'Lancaster Gate', 'id': 19464}]"
           }
          ],
          "nan_count": 0,
          "unique_count": 3
         }
        },
        {
         "dtype": "object",
         "name": "production_countries",
         "stats": {
          "categories": [
           {
            "count": 3,
            "name": "[{'iso_3166_1': 'US', 'name': 'United States of America'}]"
           }
          ],
          "nan_count": 0,
          "unique_count": 1
         }
        },
        {
         "dtype": "object",
         "name": "release_date",
         "stats": {
          "categories": [
           {
            "count": 1,
            "name": "1995-10-30"
           },
           {
            "count": 1,
            "name": "1995-12-15"
           },
           {
            "count": 1,
            "name": "1995-12-22"
           }
          ],
          "nan_count": 0,
          "unique_count": 3
         }
        },
        {
         "dtype": "float64",
         "name": "revenue",
         "stats": {
          "histogram": [
           {
            "bin_end": 37355403.3,
            "bin_start": 0,
            "count": 1
           },
           {
            "bin_end": 74710806.6,
            "bin_start": 37355403.3,
            "count": 0
           },
           {
            "bin_end": 112066209.89999999,
            "bin_start": 74710806.6,
            "count": 0
           },
           {
            "bin_end": 149421613.2,
            "bin_start": 112066209.89999999,
            "count": 0
           },
           {
            "bin_end": 186777016.5,
            "bin_start": 149421613.2,
            "count": 0
           },
           {
            "bin_end": 224132419.79999998,
            "bin_start": 186777016.5,
            "count": 0
           },
           {
            "bin_end": 261487823.09999996,
            "bin_start": 224132419.79999998,
            "count": 0
           },
           {
            "bin_end": 298843226.4,
            "bin_start": 261487823.09999996,
            "count": 1
           },
           {
            "bin_end": 336198629.7,
            "bin_start": 298843226.4,
            "count": 0
           },
           {
            "bin_end": 373554033,
            "bin_start": 336198629.7,
            "count": 1
           }
          ],
          "max": "373554033.0",
          "min": "0.0",
          "nan_count": 0,
          "unique_count": 3
         }
        },
        {
         "dtype": "float64",
         "name": "runtime",
         "stats": {
          "histogram": [
           {
            "bin_end": 83.3,
            "bin_start": 81,
            "count": 1
           },
           {
            "bin_end": 85.6,
            "bin_start": 83.3,
            "count": 0
           },
           {
            "bin_end": 87.9,
            "bin_start": 85.6,
            "count": 0
           },
           {
            "bin_end": 90.2,
            "bin_start": 87.9,
            "count": 0
           },
           {
            "bin_end": 92.5,
            "bin_start": 90.2,
            "count": 0
           },
           {
            "bin_end": 94.8,
            "bin_start": 92.5,
            "count": 0
           },
           {
            "bin_end": 97.1,
            "bin_start": 94.8,
            "count": 0
           },
           {
            "bin_end": 99.4,
            "bin_start": 97.1,
            "count": 0
           },
           {
            "bin_end": 101.7,
            "bin_start": 99.4,
            "count": 1
           },
           {
            "bin_end": 104,
            "bin_start": 101.7,
            "count": 1
           }
          ],
          "max": "104.0",
          "min": "81.0",
          "nan_count": 0,
          "unique_count": 3
         }
        },
        {
         "dtype": "object",
         "name": "spoken_languages",
         "stats": {
          "categories": [
           {
            "count": 2,
            "name": "[{'iso_639_1': 'en', 'name': 'English'}]"
           },
           {
            "count": 1,
            "name": "[{'iso_639_1': 'en', 'name': 'English'}, {'iso_639_1': 'fr', 'name': 'Français'}]"
           }
          ],
          "nan_count": 0,
          "unique_count": 2
         }
        },
        {
         "dtype": "object",
         "name": "tagline",
         "stats": {
          "categories": [
           {
            "count": 1,
            "name": "No tagline available"
           },
           {
            "count": 1,
            "name": "Roll the dice and unleash the excitement!"
           },
           {
            "count": 1,
            "name": "Still Yelling. Still Fighting. Still Ready for Love."
           }
          ],
          "nan_count": 0,
          "unique_count": 3
         }
        },
        {
         "dtype": "object",
         "name": "title",
         "stats": {
          "categories": [
           {
            "count": 1,
            "name": "Toy Story"
           },
           {
            "count": 1,
            "name": "Jumanji"
           },
           {
            "count": 1,
            "name": "Grumpier Old Men"
           }
          ],
          "nan_count": 0,
          "unique_count": 3
         }
        },
        {
         "dtype": "float64",
         "name": "vote_average",
         "stats": {
          "histogram": [
           {
            "bin_end": 6.62,
            "bin_start": 6.5,
            "count": 1
           },
           {
            "bin_end": 6.74,
            "bin_start": 6.62,
            "count": 0
           },
           {
            "bin_end": 6.86,
            "bin_start": 6.74,
            "count": 0
           },
           {
            "bin_end": 6.98,
            "bin_start": 6.86,
            "count": 1
           },
           {
            "bin_end": 7.1,
            "bin_start": 6.98,
            "count": 0
           },
           {
            "bin_end": 7.220000000000001,
            "bin_start": 7.1,
            "count": 0
           },
           {
            "bin_end": 7.34,
            "bin_start": 7.220000000000001,
            "count": 0
           },
           {
            "bin_end": 7.46,
            "bin_start": 7.34,
            "count": 0
           },
           {
            "bin_end": 7.58,
            "bin_start": 7.46,
            "count": 0
           },
           {
            "bin_end": 7.7,
            "bin_start": 7.58,
            "count": 1
           }
          ],
          "max": "7.7",
          "min": "6.5",
          "nan_count": 0,
          "unique_count": 3
         }
        },
        {
         "dtype": "float64",
         "name": "vote_count",
         "stats": {
          "histogram": [
           {
            "bin_end": 624.3,
            "bin_start": 92,
            "count": 1
           },
           {
            "bin_end": 1156.6,
            "bin_start": 624.3,
            "count": 0
           },
           {
            "bin_end": 1688.8999999999999,
            "bin_start": 1156.6,
            "count": 0
           },
           {
            "bin_end": 2221.2,
            "bin_start": 1688.8999999999999,
            "count": 0
           },
           {
            "bin_end": 2753.5,
            "bin_start": 2221.2,
            "count": 1
           },
           {
            "bin_end": 3285.7999999999997,
            "bin_start": 2753.5,
            "count": 0
           },
           {
            "bin_end": 3818.0999999999995,
            "bin_start": 3285.7999999999997,
            "count": 0
           },
           {
            "bin_end": 4350.4,
            "bin_start": 3818.0999999999995,
            "count": 0
           },
           {
            "bin_end": 4882.7,
            "bin_start": 4350.4,
            "count": 0
           },
           {
            "bin_end": 5415,
            "bin_start": 4882.7,
            "count": 1
           }
          ],
          "max": "5415.0",
          "min": "92.0",
          "nan_count": 0,
          "unique_count": 3
         }
        },
        {
         "dtype": "object",
         "name": "cast",
         "stats": {
          "categories": [
           {
            "count": 1,
            "name": "[{'cast_id': 14, 'character': 'Woody (voice)', 'credit_id': '52fe4284c3a36847f8024f95', 'gender': 2, 'id': 31, 'name': 'Tom Hanks', 'order': 0, 'profile_path': '/pQFoyx7rp09CJTAb932F2g8Nlho.jpg'}, {'cast_id': 15, 'character': 'Buzz Lightyear (voice)', 'credit_id': '52fe4284c3a36847f8024f99', 'gender': 2, 'id': 12898, 'name': 'Tim Allen', 'order': 1, 'profile_path': '/uX2xVf6pMmPepxnvFWyBtjexzgY.jpg'}, {'cast_id': 16, 'character': 'Mr. Potato Head (voice)', 'credit_id': '52fe4284c3a36847f8024f9d', 'gender': 2, 'id': 7167, 'name': 'Don Rickles', 'order': 2, 'profile_path': '/h5BcaDMPRVLHLDzbQavec4xfSdt.jpg'}, {'cast_id': 17, 'character': 'Slinky Dog (voice)', 'credit_id': '52fe4284c3a36847f8024fa1', 'gender': 2, 'id': 12899, 'name': 'Jim Varney', 'order': 3, 'profile_path': '/eIo2jVVXYgjDtaHoF19Ll9vtW7h.jpg'}, {'cast_id': 18, 'character': 'Rex (voice)', 'credit_id': '52fe4284c3a36847f8024fa5', 'gender': 2, 'id': 12900, 'name': 'Wallace Shawn', 'order': 4, 'profile_path': '/oGE6JqPP2xH4tNORKNqxbNPYi7u.jpg'}, {'cast_id': 19, 'character': 'Hamm (voice)', 'credit_id': '52fe4284c3a36847f8024fa9', 'gender': 2, 'id': 7907, 'name': 'John Ratzenberger', 'order': 5, 'profile_path': '/yGechiKWL6TJDfVE2KPSJYqdMsY.jpg'}, {'cast_id': 20, 'character': 'Bo Peep (voice)', 'credit_id': '52fe4284c3a36847f8024fad', 'gender': 1, 'id': 8873, 'name': 'Annie Potts', 'order': 6, 'profile_path': '/eryXT84RL41jHSJcMy4kS3u9y6w.jpg'}, {'cast_id': 26, 'character': 'Andy (voice)', 'credit_id': '52fe4284c3a36847f8024fc1', 'gender': 0, 'id': 1116442, 'name': 'John Morris', 'order': 7, 'profile_path': '/vYGyvK4LzeaUCoNSHtsuqJUY15M.jpg'}, {'cast_id': 22, 'character': 'Sid (voice)', 'credit_id': '52fe4284c3a36847f8024fb1', 'gender': 2, 'id': 12901, 'name': 'Erik von Detten', 'order': 8, 'profile_path': '/twnF1ZaJ1FUNUuo6xLXwcxjayBE.jpg'}, {'cast_id': 23, 'character': 'Mrs. Davis (voice)', 'credit_id': '52fe4284c3a36847f8024fb5', 'gender': 1, 'id': 12133, 'name': 'Laurie Metcalf', 'order': 9, 'profile_path': '/unMMIT60eoBM2sN2nyR7EZ2BvvD.jpg'}, {'cast_id': 24, 'character': 'Sergeant (voice)', 'credit_id': '52fe4284c3a36847f8024fb9', 'gender': 2, 'id': 8655, 'name': 'R. Lee Ermey', 'order': 10, 'profile_path': '/r8GBqFBjypLUP9VVqDqfZ7wYbSs.jpg'}, {'cast_id': 25, 'character': 'Hannah (voice)', 'credit_id': '52fe4284c3a36847f8024fbd', 'gender': 1, 'id': 12903, 'name': 'Sarah Freeman', 'order': 11, 'profile_path': None}, {'cast_id': 27, 'character': 'TV Announcer (voice)', 'credit_id': '52fe4284c3a36847f8024fc5', 'gender': 2, 'id': 37221, 'name': 'Penn Jillette', 'order': 12, 'profile_path': '/zmAaXUdx12NRsssgHbk1T31j2x9.jpg'}]"
           },
           {
            "count": 1,
            "name": "[{'cast_id': 1, 'character': 'Alan Parrish', 'credit_id': '52fe44bfc3a36847f80a7c73', 'gender': 2, 'id': 2157, 'name': 'Robin Williams', 'order': 0, 'profile_path': '/sojtJyIV3lkUeThD7A2oHNm8183.jpg'}, {'cast_id': 8, 'character': 'Samuel Alan Parrish / Van Pelt', 'credit_id': '52fe44bfc3a36847f80a7c99', 'gender': 2, 'id': 8537, 'name': 'Jonathan Hyde', 'order': 1, 'profile_path': '/7il5D76vx6QVRVlpVvBPEC40MBi.jpg'}, {'cast_id': 2, 'character': 'Judy Sheperd', 'credit_id': '52fe44bfc3a36847f80a7c77', 'gender': 1, 'id': 205, 'name': 'Kirsten Dunst', 'order': 2, 'profile_path': '/wBXvh6PJd0IUVNpvatPC1kzuHtm.jpg'}, {'cast_id': 24, 'character': 'Peter Shepherd', 'credit_id': '52fe44c0c3a36847f80a7ce7', 'gender': 0, 'id': 145151, 'name': 'Bradley Pierce', 'order': 3, 'profile_path': '/j6iW0vVA23GQniAPSYI6mi4hiEW.jpg'}, {'cast_id': 10, 'character': 'Sarah Whittle', 'credit_id': '52fe44bfc3a36847f80a7c9d', 'gender': 1, 'id': 5149, 'name': 'Bonnie Hunt', 'order': 4, 'profile_path': '/7spiVQwmr8siw5QCcvvdRG3c7Lf.jpg'}, {'cast_id': 25, 'character': 'Nora Shepherd', 'credit_id': '52fe44c0c3a36847f80a7ceb', 'gender': 1, 'id': 10739, 'name': 'Bebe Neuwirth', 'order': 5, 'profile_path': '/xm58rpMRVDHS0IGttw1pTlqGwkN.jpg'}, {'cast_id': 26, 'character': 'Carl Bentley', 'credit_id': '52fe44c0c3a36847f80a7cef', 'gender': 2, 'id': 58563, 'name': 'David Alan Grier', 'order': 6, 'profile_path': '/5tkt3qRZTco4sz604aTIarQ0m8W.jpg'}, {'cast_id': 11, 'character': 'Carol Anne Parrish', 'credit_id': '52fe44bfc3a36847f80a7ca1', 'gender': 1, 'id': 1276, 'name': 'Patricia Clarkson', 'order': 7, 'profile_path': '/10ZSyaUqzUlKTd60HmeiGhlytZG.jpg'}, {'cast_id': 14, 'character': 'Alan Parrish (young)', 'credit_id': '52fe44bfc3a36847f80a7cad', 'gender': 0, 'id': 46530, 'name': 'Adam Hann-Byrd', 'order': 8, 'profile_path': '/hEoqDqtMO91hYWD5iDrDesnLDlt.jpg'}, {'cast_id': 13, 'character': 'Sarah Whittle (young)', 'credit_id': '52fe44bfc3a36847f80a7ca9', 'gender': 1, 'id': 56523, 'name': 'Laura Bell Bundy', 'order': 9, 'profile_path': '/8tAVDBRoZPjKfCbBDyh4iK9JNEp.jpg'}, {'cast_id': 31, 'character': 'Exterminator', 'credit_id': '52fe44c0c3a36847f80a7cff', 'gender': 2, 'id': 51551, 'name': 'James Handy', 'order': 10, 'profile_path': '/vm0WQmuP8jEGgFTd3VCcJe7zpUi.jpg'}, {'cast_id': 12, 'character': 'Mrs. Thomas the Realtor', 'credit_id': '52fe44bfc3a36847f80a7ca5', 'gender': 1, 'id': 56522, 'name': 'Gillian Barber', 'order': 11, 'profile_path': '/qoqPX15J5jh6Sy0A9JvvRJIuw64.jpg'}, {'cast_id': 28, 'character': 'Benjamin', 'credit_id': '52fe44c0c3a36847f80a7cf3', 'gender': 2, 'id': 1000304, 'name': 'Brandon Obray', 'order': 12, 'profile_path': None}, {'cast_id': 29, 'character': 'Caleb', 'credit_id': '52fe44c0c3a36847f80a7cf7', 'gender': 0, 'id': 188949, 'name': 'Cyrus Thiedeke', 'order': 13, 'profile_path': None}, {'cast_id': 30, 'character': 'Billy Jessup', 'credit_id': '52fe44c0c3a36847f80a7cfb', 'gender': 0, 'id': 1076551, 'name': 'Gary Joseph Thorup', 'order': 14, 'profile_path': None}, {'cast_id': 32, 'character': 'Cop', 'credit_id': '5588053fc3a36838530063f5', 'gender': 0, 'id': 1480246, 'name': 'Leonard Zola', 'order': 15, 'profile_path': None}, {'cast_id': 33, 'character': 'Bum', 'credit_id': '55935687925141645a002097', 'gender': 2, 'id': 25024, 'name': 'Lloyd Berry', 'order': 16, 'profile_path': '/s7SVCOtvcuQ9wRQPZfUdahb5x88.jpg'}, {'cast_id': 34, 'character': 'Jim Shepherd', 'credit_id': '559356d09251415df8002cb7', 'gender': 2, 'id': 27110, 'name': 'Malcolm Stewart', 'order': 17, 'profile_path': '/l2vgzkLR7GRr8ugjZCILA0OiliI.jpg'}, {'cast_id': 35, 'character': 'Martha Shepherd', 'credit_id': '55935730925141645a0020ad', 'gender': 0, 'id': 53715, 'name': 'Annabel Kershaw', 'order': 18, 'profile_path': '/1VqbvAohBwFhETZtDe76JXQcxKm.jpg'}, {'cast_id': 36, 'character': 'Gun Salesman', 'credit_id': '5593576992514167fd000610', 'gender': 2, 'id': 1379424, 'name': 'Darryl Henriques', 'order': 19, 'profile_path': '/7QMHooY9ewNQlE24WKAOdwW0evU.jpg'}, {'cast_id': 37, 'character': 'Paramedic', 'credit_id': '559357ae92514152de002f42', 'gender': 0, 'id': 1235504, 'name': 'Robyn Driscoll', 'order': 20, 'profile_path': None}, {'cast_id': 50, 'character': 'Paramedic', 'credit_id': '5657803b925141018f00a5dc', 'gender': 2, 'id': 25389, 'name': 'Peter Bryant', 'order': 21, 'profile_path': '/fkcx9Tnp25UC5HlI2eW3nGvumsZ.jpg'}, {'cast_id': 39, 'character': 'Girl', 'credit_id': '559358e292514152de002f63', 'gender': 0, 'id': 1483449, 'name': 'Sarah Gilson', 'order': 22, 'profile_path': None}, {'cast_id': 40, 'character': 'Girl', 'credit_id': '5593590d92514152db002df3', 'gender': 0, 'id': 1483450, 'name': 'Florica Vlad', 'order': 23, 'profile_path': None}, {'cast_id': 41, 'character': 'Baker', 'credit_id': '55935946c3a36869d1001b4d', 'gender': 0, 'id': 1483451, 'name': 'June Lion', 'order': 24, 'profile_path': None}, {'cast_id': 42, 'character': 'Pianist', 'credit_id': '5593597692514167fd000644', 'gender': 0, 'id': 1483452, 'name': 'Brenda Lockmuller', 'order': 25, 'profile_path': None}]"
           },
           {
            "count": 1,
            "name": "[{'cast_id': 2, 'character': 'Max Goldman', 'credit_id': '52fe466a9251416c75077a8d', 'gender': 2, 'id': 6837, 'name': 'Walter Matthau', 'order': 0, 'profile_path': '/xJVkvprOnzP5Zdh5y63y8HHniDZ.jpg'}, {'cast_id': 3, 'character': 'John Gustafson', 'credit_id': '52fe466a9251416c75077a91', 'gender': 2, 'id': 3151, 'name': 'Jack Lemmon', 'order': 1, 'profile_path': '/chZmNRYMtqkiDlatprGDH4BzGqG.jpg'}, {'cast_id': 4, 'character': 'Ariel Gustafson', 'credit_id': '52fe466a9251416c75077a95', 'gender': 1, 'id': 13567, 'name': 'Ann-Margret', 'order': 2, 'profile_path': '/jx5lTaJ5VXZHYB52gaOTAZ9STZk.jpg'}, {'cast_id': 5, 'character': 'Maria Sophia Coletta Ragetti', 'credit_id': '52fe466a9251416c75077a99', 'gender': 1, 'id': 16757, 'name': 'Sophia Loren', 'order': 3, 'profile_path': '/emKLhbji1c7BjcA2DdbWf0EP9zH.jpg'}, {'cast_id': 6, 'character': 'Melanie Gustafson', 'credit_id': '52fe466a9251416c75077a9d', 'gender': 1, 'id': 589, 'name': 'Daryl Hannah', 'order': 4, 'profile_path': '/4LLmp6AQdlj6ueGCRbVRSGvvFSt.jpg'}, {'cast_id': 9, 'character': 'Grandpa Gustafson', 'credit_id': '53e5fcc2c3a3684430000d65', 'gender': 2, 'id': 16523, 'name': 'Burgess Meredith', 'order': 5, 'profile_path': '/lm98oKloU33Q7QDIIMSyc4Pr2jA.jpg'}, {'cast_id': 10, 'character': 'Jacob Goldman', 'credit_id': '53e5fcd4c3a3684433000e1a', 'gender': 2, 'id': 7166, 'name': 'Kevin Pollak', 'order': 6, 'profile_path': '/kwu2T8CDnThZTzE88uiSgJ5eHXf.jpg'}]"
           }
          ],
          "nan_count": 0,
          "unique_count": 3
         }
        },
        {
         "dtype": "object",
         "name": "crew",
         "stats": {
          "categories": [
           {
            "count": 1,
            "name": "[{'credit_id': '52fe4284c3a36847f8024f49', 'department': 'Directing', 'gender': 2, 'id': 7879, 'job': 'Director', 'name': 'John Lasseter', 'profile_path': '/7EdqiNbr4FRjIhKHyPPdFfEEEFG.jpg'}, {'credit_id': '52fe4284c3a36847f8024f4f', 'department': 'Writing', 'gender': 2, 'id': 12891, 'job': 'Screenplay', 'name': 'Joss Whedon', 'profile_path': '/dTiVsuaTVTeGmvkhcyJvKp2A5kr.jpg'}, {'credit_id': '52fe4284c3a36847f8024f55', 'department': 'Writing', 'gender': 2, 'id': 7, 'job': 'Screenplay', 'name': 'Andrew Stanton', 'profile_path': '/pvQWsu0qc8JFQhMVJkTHuexUAa1.jpg'}, {'credit_id': '52fe4284c3a36847f8024f5b', 'department': 'Writing', 'gender': 2, 'id': 12892, 'job': 'Screenplay', 'name': 'Joel Cohen', 'profile_path': '/dAubAiZcvKFbboWlj7oXOkZnTSu.jpg'}, {'credit_id': '52fe4284c3a36847f8024f61', 'department': 'Writing', 'gender': 0, 'id': 12893, 'job': 'Screenplay', 'name': 'Alec Sokolow', 'profile_path': '/v79vlRYi94BZUQnkkyznbGUZLjT.jpg'}, {'credit_id': '52fe4284c3a36847f8024f67', 'department': 'Production', 'gender': 1, 'id': 12894, 'job': 'Producer', 'name': 'Bonnie Arnold', 'profile_path': None}, {'credit_id': '52fe4284c3a36847f8024f6d', 'department': 'Production', 'gender': 0, 'id': 12895, 'job': 'Executive Producer', 'name': 'Ed Catmull', 'profile_path': None}, {'credit_id': '52fe4284c3a36847f8024f73', 'department': 'Production', 'gender': 2, 'id': 12896, 'job': 'Producer', 'name': 'Ralph Guggenheim', 'profile_path': None}, {'credit_id': '52fe4284c3a36847f8024f79', 'department': 'Production', 'gender': 2, 'id': 12897, 'job': 'Executive Producer', 'name': 'Steve Jobs', 'profile_path': '/mOMP3SwD5qWQSR0ldCIByd3guTV.jpg'}, {'credit_id': '52fe4284c3a36847f8024f8b', 'department': 'Editing', 'gender': 2, 'id': 8, 'job': 'Editor', 'name': 'Lee Unkrich', 'profile_path': '/bdTCCXjgOV3YyaNmLGYGOxFQMOc.jpg'}, {'credit_id': '52fe4284c3a36847f8024f91', 'department': 'Art', 'gender': 2, 'id': 7883, 'job': 'Art Direction', 'name': 'Ralph Eggleston', 'profile_path': '/uUfcGKDsKO1aROMpXRs67Hn6RvR.jpg'}, {'credit_id': '598331bf925141421201044b', 'department': 'Editing', 'gender': 2, 'id': 1168870, 'job': 'Editor', 'name': 'Robert Gordon', 'profile_path': None}, {'credit_id': '5892168cc3a36809660095f9', 'department': 'Sound', 'gender': 0, 'id': 1552883, 'job': 'Foley Editor', 'name': 'Mary Helen Leasman', 'profile_path': None}, {'credit_id': '5531824d9251415289000945', 'department': 'Visual Effects', 'gender': 0, 'id': 1453514, 'job': 'Animation', 'name': 'Kim Blanchette', 'profile_path': None}, {'credit_id': '589215969251412dcb009bf6', 'department': 'Sound', 'gender': 0, 'id': 1414182, 'job': 'ADR Editor', 'name': 'Marilyn McCoppen', 'profile_path': None}, {'credit_id': '589217099251412dc500a018', 'department': 'Sound', 'gender': 2, 'id': 7885, 'job': 'Orchestrator', 'name': 'Randy Newman', 'profile_path': '/w0JzfoiM25nrnxYOzosPHRq6mlE.jpg'}, {'credit_id': '5693e6b29251417b0e0000e3', 'department': 'Editing', 'gender': 0, 'id': 1429549, 'job': 'Color Timer', 'name': 'Dale E. Grahn', 'profile_path': None}, {'credit_id': '572e2522c3a36869e6001a9c', 'department': 'Visual Effects', 'gender': 0, 'id': 7949, 'job': 'CG Painter', 'name': 'Robin Cooper', 'profile_path': None}, {'credit_id': '574f12309251415ca1000012', 'department': 'Writing', 'gender': 2, 'id': 7879, 'job': 'Original Story', 'name': 'John Lasseter', 'profile_path': '/7EdqiNbr4FRjIhKHyPPdFfEEEFG.jpg'}, {'credit_id': '574f1240c3a3682e7300001c', 'department': 'Writing', 'gender': 2, 'id': 12890, 'job': 'Original Story', 'name': 'Pete Docter', 'profile_path': '/r6ngPgnReA3RHmKjmSoVsc6Awjp.jpg'}, {'credit_id': '574f12519251415c92000015', 'department': 'Writing', 'gender': 0, 'id': 7911, 'job': 'Original Story', 'name': 'Joe Ranft', 'profile_path': '/f1BoWC2JbCcfP1e5hKfGsxkHzVU.jpg'}, {'credit_id': '574f12cec3a3682e82000022', 'department': 'Crew', 'gender': 0, 'id': 1629419, 'job': 'Post Production Supervisor', 'name': 'Patsy Bouge', 'profile_path': None}, {'credit_id': '574f14f19251415ca1000082', 'department': 'Art', 'gender': 0, 'id': 7961, 'job': 'Sculptor', 'name': 'Norm DeCarlo', 'profile_path': None}, {'credit_id': '5751ae4bc3a3683772002b7f', 'department': 'Visual Effects', 'gender': 2, 'id': 12905, 'job': 'Animation Director', 'name': 'Ash Brannon', 'profile_path': '/6ueWgPEEBHvS3De2BHYQnYjRTig.jpg'}, {'credit_id': '5891edbe9251412dc5007cd6', 'department': 'Sound', 'gender': 2, 'id': 7885, 'job': 'Music', 'name': 'Randy Newman', 'profile_path': '/w0JzfoiM25nrnxYOzosPHRq6mlE.jpg'}, {'credit_id': '589213d39251412dc8009832', 'department': 'Directing', 'gender': 0, 'id': 1748707, 'job': 'Layout', 'name': 'Roman Figun', 'profile_path': None}, {'credit_id': '5892173dc3a3680968009351', 'department': 'Sound', 'gender': 2, 'id': 4949, 'job': 'Orchestrator', 'name': 'Don Davis', 'profile_path': None}, {'credit_id': '589217cec3a3686b0a0052ba', 'department': 'Sound', 'gender': 0, 'id': 1372885, 'job': 'Music Editor', 'name': 'James Flamberg', 'profile_path': None}, {'credit_id': '58921831c3a3686348004a64', 'department': 'Editing', 'gender': 0, 'id': 1739962, 'job': 'Negative Cutter', 'name': 'Mary Beth Smith', 'profile_path': None}, {'credit_id': '58921838c3a36809700096c0', 'department': 'Editing', 'gender': 0, 'id': 1748513, 'job': 'Negative Cutter', 'name': 'Rick Mackay', 'profile_path': None}, {'credit_id': '589218429251412dd1009d1b', 'department': 'Art', 'gender': 0, 'id': 1458006, 'job': 'Title Designer', 'name': 'Susan Bradley', 'profile_path': None}, {'credit_id': '5891ed99c3a3680966007670', 'department': 'Crew', 'gender': 0, 'id': 1748557, 'job': 'Supervising Technical Director', 'name': 'William Reeves', 'profile_path': None}, {'credit_id': '5891edcec3a3686b0a002eb2', 'department': 'Sound', 'gender': 2, 'id': 7885, 'job': 'Songs', 'name': 'Randy Newman', 'profile_path': '/w0JzfoiM25nrnxYOzosPHRq6mlE.jpg'}, {'credit_id': '5891edf9c3a36809700075e6', 'department': 'Writing', 'gender': 2, 'id': 7, 'job': 'Original Story', 'name': 'Andrew Stanton', 'profile_path': '/pvQWsu0qc8JFQhMVJkTHuexUAa1.jpg'}, {'credit_id': '58920f0b9251412dd7009104', 'department': 'Crew', 'gender': 2, 'id': 12890, 'job': 'Supervising Animator', 'name': 'Pete Docter', 'profile_path': '/r6ngPgnReA3RHmKjmSoVsc6Awjp.jpg'}, {'credit_id': '58920f1fc3a3680977009021', 'department': 'Sound', 'gender': 2, 'id': 2216, 'job': 'Sound Designer', 'name': 'Gary Rydstrom', 'profile_path': '/jZpr1nVfO7lldWI0YtmP1FGw7Rj.jpg'}, {'credit_id': '58920f389251412dd700912d', 'department': 'Production', 'gender': 0, 'id': 12909, 'job': 'Production Supervisor', 'name': 'Karen Robert Jackson', 'profile_path': None}, {'credit_id': '58920fbd9251412dcb00969c', 'department': 'Crew', 'gender': 0, 'id': 953331, 'job': 'Executive Music Producer', 'name': 'Chris Montan', 'profile_path': None}, {'credit_id': '589210069251412dd7009219', 'department': 'Visual Effects', 'gender': 0, 'id': 7893, 'job': 'Animation Director', 'name': 'Rich Quade', 'profile_path': None}, {'credit_id': '589210329251412dcd00943b', 'department': 'Visual Effects', 'gender': 0, 'id': 8025, 'job': 'Animation', 'name': 'Michael Berenstein', 'profile_path': None}, {'credit_id': '5892103bc3a368096a009180', 'department': 'Visual Effects', 'gender': 0, 'id': 78009, 'job': 'Animation', 'name': 'Colin Brady', 'profile_path': None}, {'credit_id': '5892105dc3a3680968008db2', 'department': 'Visual Effects', 'gender': 0, 'id': 1748682, 'job': 'Animation', 'name': 'Davey Crockett Feiten', 'profile_path': None}, {'credit_id': '589210669251412dcd009466', 'department': 'Visual Effects', 'gender': 0, 'id': 1454030, 'job': 'Animation', 'name': 'Angie Glocka', 'profile_path': None}, {'credit_id': '5892107c9251412dd1009613', 'department': 'Visual Effects', 'gender': 0, 'id': 1748683, 'job': 'Animation', 'name': 'Rex Grignon', 'profile_path': None}, {'credit_id': '5892108ac3a3680973008d3f', 'department': 'Visual Effects', 'gender': 0, 'id': 1748684, 'job': 'Animation', 'name': 'Tom K. Gurney', 'profile_path': None}, {'credit_id': '58921093c3a3686348004477', 'department': 'Visual Effects', 'gender': 2, 'id': 8029, 'job': 'Animation', 'name': 'Jimmy Hayward', 'profile_path': '/lTDRpudEY7BDwTefXbXzMlmb0ui.jpg'}, {'credit_id': '5892109b9251412dcd0094b0', 'department': 'Visual Effects', 'gender': 0, 'id': 1426773, 'job': 'Animation', 'name': 'Hal T. Hickel', 'profile_path': None}, {'credit_id': '589210a29251412dc5009a29', 'department': 'Visual Effects', 'gender': 0, 'id': 8035, 'job': 'Animation', 'name': 'Karen Kiser', 'profile_path': None}, {'credit_id': '589210ccc3a3680977009191', 'department': 'Visual Effects', 'gender': 0, 'id': 1748688, 'job': 'Animation', 'name': 'Anthony B. LaMolinara', 'profile_path': None}, {'credit_id': '589210d7c3a3686b0a004c1f', 'department': 'Visual Effects', 'gender': 0, 'id': 587314, 'job': 'Animation', 'name': 'Guionne Leroy', 'profile_path': None}, {'credit_id': '589210e1c3a36809770091a7', 'department': 'Visual Effects', 'gender': 2, 'id': 7918, 'job': 'Animation', 'name': 'Bud Luckey', 'profile_path': '/pcCh7G19FKMNijmPQg1PMH1btic.jpg'}, {'credit_id': '589210ee9251412dc200978a', 'department': 'Visual Effects', 'gender': 0, 'id': 1748689, 'job': 'Animation', 'name': 'Les Major', 'profile_path': None}, {'credit_id': '589210fa9251412dc8009595', 'department': 'Visual Effects', 'gender': 2, 'id': 7892, 'job': 'Animation', 'name': 'Glenn McQueen', 'profile_path': None}, {'credit_id': '589211029251412dc8009598', 'department': 'Visual Effects', 'gender': 0, 'id': 555795, 'job': 'Animation', 'name': 'Mark Oftedal', 'profile_path': None}, {'credit_id': '5892110b9251412dc800959d', 'department': 'Visual Effects', 'gender': 2, 'id': 7882, 'job': 'Animation', 'name': 'Jeff Pidgeon', 'profile_path': '/yLddkg5HcgbJg00cS13GVBnP0HY.jpg'}, {'credit_id': '58921113c3a36863480044e4', 'department': 'Visual Effects', 'gender': 0, 'id': 8017, 'job': 'Animation', 'name': 'Jeff Pratt', 'profile_path': None}, {'credit_id': '5892111c9251412dcb0097e9', 'department': 'Visual Effects', 'gender': 0, 'id': 1184140, 'job': 'Animation', 'name': 'Steve Rabatich', 'profile_path': None}, {'credit_id': '58921123c3a36809700090f6', 'department': 'Visual Effects', 'gender': 0, 'id': 8049, 'job': 'Animation', 'name': 'Roger Rose', 'profile_path': None}, {'credit_id': '5892112b9251412dcb0097fb', 'department': 'Visual Effects', 'gender': 0, 'id': 1509559, 'job': 'Animation', 'name': 'Steve Segal', 'profile_path': None}, {'credit_id': '589211349251412dc80095c3', 'department': 'Visual Effects', 'gender': 0, 'id': 1748691, 'job': 'Animation', 'name': 'Doug Sheppeck', 'profile_path': None}, {'credit_id': '5892113cc3a3680970009106', 'department': 'Visual Effects', 'gender': 0, 'id': 8050, 'job': 'Animation', 'name': 'Alan Sperling', 'profile_path': None}, {'credit_id': '58921148c3a3686b0a004c99', 'department': 'Visual Effects', 'gender': 0, 'id': 8010, 'job': 'Animation', 'name': 'Doug Sweetland', 'profile_path': None}, {'credit_id': '58921150c3a3680966009125', 'department': 'Visual Effects', 'gender': 0, 'id': 8044, 'job': 'Animation', 'name': 'David Tart', 'profile_path': None}, {'credit_id': '589211629251412dc5009b00', 'department': 'Visual Effects', 'gender': 0, 'id': 1454034, 'job': 'Animation', 'name': 'Ken Willard', 'profile_path': None}, {'credit_id': '589211c1c3a3686b0a004d28', 'department': 'Visual Effects', 'gender': 0, 'id': 7887, 'job': 'Visual Effects Supervisor', 'name': 'Thomas Porter', 'profile_path': None}, {'credit_id': '589211d4c3a3680968008ed9', 'department': 'Visual Effects', 'gender': 0, 'id': 1406878, 'job': 'Visual Effects', 'name': 'Mark Thomas Henne', 'profile_path': None}, {'credit_id': '589211f59251412dd4008e65', 'department': 'Visual Effects', 'gender': 0, 'id': 1748698, 'job': 'Visual Effects', 'name': 'Oren Jacob', 'profile_path': None}, {'credit_id': '58921242c3a368096a00939b', 'department': 'Visual Effects', 'gender': 0, 'id': 1748699, 'job': 'Visual Effects', 'name': 'Darwyn Peachey', 'profile_path': None}, {'credit_id': '5892124b9251412dc5009bd2', 'department': 'Visual Effects', 'gender': 0, 'id': 1748701, 'job': 'Visual Effects', 'name': 'Mitch Prater', 'profile_path': None}, {'credit_id': '58921264c3a3686b0a004dbf', 'department': 'Visual Effects', 'gender': 0, 'id': 1748703, 'job': 'Visual Effects', 'name': 'Brian M. Rosen', 'profile_path': None}, {'credit_id': '589212709251412dcd009676', 'department': 'Lighting', 'gender': 1, 'id': 12912, 'job': 'Lighting Supervisor', 'name': 'Sharon Calahan', 'profile_path': None}, {'credit_id': '5892127fc3a3686b0a004de5', 'department': 'Lighting', 'gender': 0, 'id': 7899, 'job': 'Lighting Supervisor', 'name': 'Galyn Susman', 'profile_path': None}, {'credit_id': '589212cdc3a3680970009268', 'department': 'Visual Effects', 'gender': 0, 'id': 12915, 'job': 'CG Painter', 'name': 'William Cone', 'profile_path': None}, {'credit_id': '5892130f9251412dc8009791', 'department': 'Art', 'gender': 0, 'id': 1748705, 'job': 'Sculptor', 'name': 'Shelley Daniels Lekven', 'profile_path': None}, {'credit_id': '5892131c9251412dd4008f4c', 'department': 'Visual Effects', 'gender': 2, 'id': 7889, 'job': 'Character Designer', 'name': 'Bob Pauley', 'profile_path': None}, {'credit_id': '589213249251412dd100987b', 'department': 'Visual Effects', 'gender': 2, 'id': 7918, 'job': 'Character Designer', 'name': 'Bud Luckey', 'profile_path': '/pcCh7G19FKMNijmPQg1PMH1btic.jpg'}, {'credit_id': '5892132b9251412dc80097b1', 'department': 'Visual Effects', 'gender': 2, 'id': 7, 'job': 'Character Designer', 'name': 'Andrew Stanton', 'profile_path': '/pvQWsu0qc8JFQhMVJkTHuexUAa1.jpg'}, {'credit_id': '58921332c3a368634800467b', 'department': 'Visual Effects', 'gender': 0, 'id': 12915, 'job': 'Character Designer', 'name': 'William Cone', 'profile_path': None}, {'credit_id': '5892135f9251412dd4008f90', 'department': 'Visual Effects', 'gender': 0, 'id': 1748706, 'job': 'Character Designer', 'name': 'Steve Johnson', 'profile_path': None}, {'credit_id': '58921384c3a3680973008fd4', 'department': 'Visual Effects', 'gender': 0, 'id': 1176752, 'job': 'Character Designer', 'name': 'Dan Haskett', 'profile_path': None}, {'credit_id': '5892138e9251412dc20099fc', 'department': 'Visual Effects', 'gender': 0, 'id': 1088034, 'job': 'Character Designer', 'name': 'Tom Holloway', 'profile_path': '/a0r0T2usTBpgMI5aZbRBDW1fTl8.jpg'}, {'credit_id': '58921395c3a368097700942f', 'department': 'Visual Effects', 'gender': 0, 'id': 1447465, 'job': 'Character Designer', 'name': 'Jean Gillmore', 'profile_path': None}, {'credit_id': '589213e2c3a3680973009026', 'department': 'Directing', 'gender': 0, 'id': 1748709, 'job': 'Layout', 'name': 'Desirée Mourad', 'profile_path': None}, {'credit_id': '589214099251412dc5009d57', 'department': 'Art', 'gender': 0, 'id': 1748710, 'job': 'Set Dresser', 'name': \"Kelly O'Connell\", 'profile_path': None}, {'credit_id': '58921411c3a3686b0a004f70', 'department': 'Art', 'gender': 0, 'id': 1443471, 'job': 'Set Dresser', 'name': 'Sonoko Konishi', 'profile_path': None}, {'credit_id': '58921434c3a368096a00956e', 'department': 'Art', 'gender': 0, 'id': 1748711, 'job': 'Set Dresser', 'name': 'Ann M. Rockwell', 'profile_path': None}, {'credit_id': '5892144ac3a36809680090de', 'department': 'Editing', 'gender': 0, 'id': 1748712, 'job': 'Editorial Manager', 'name': 'Julie M. McDonald', 'profile_path': None}, {'credit_id': '58921479c3a368096800910f', 'department': 'Editing', 'gender': 0, 'id': 1589729, 'job': 'Assistant Editor', 'name': 'Robin Lee', 'profile_path': None}, {'credit_id': '5892148b9251412dd10099cc', 'department': 'Editing', 'gender': 0, 'id': 1748716, 'job': 'Assistant Editor', 'name': 'Tom Freeman', 'profile_path': None}, {'credit_id': '589214959251412dcb009b1f', 'department': 'Editing', 'gender': 0, 'id': 1748717, 'job': 'Assistant Editor', 'name': 'Ada Cochavi', 'profile_path': None}, {'credit_id': '5892149ec3a3686348004798', 'department': 'Editing', 'gender': 0, 'id': 1336438, 'job': 'Assistant Editor', 'name': 'Dana Mulligan', 'profile_path': None}, {'credit_id': '589214adc3a368096a0095db', 'department': 'Editing', 'gender': 0, 'id': 1748718, 'job': 'Editorial Coordinator', 'name': 'Deirdre Morrison', 'profile_path': None}, {'credit_id': '589214c7c3a368097700952b', 'department': 'Production', 'gender': 0, 'id': 1748719, 'job': 'Production Coordinator', 'name': 'Lori Lombardo', 'profile_path': None}, {'credit_id': '589214cec3a368096a009603', 'department': 'Production', 'gender': 0, 'id': 1748720, 'job': 'Production Coordinator', 'name': 'Ellen Devine', 'profile_path': None}, {'credit_id': '589214e39251412dc8009904', 'department': 'Crew', 'gender': 0, 'id': 1468014, 'job': 'Unit Publicist', 'name': 'Lauren Beth Strogoff', 'profile_path': None}, {'credit_id': '58921544c3a3686b0a00507d', 'department': 'Sound', 'gender': 2, 'id': 2216, 'job': 'Sound Re-Recording Mixer', 'name': 'Gary Rydstrom', 'profile_path': '/jZpr1nVfO7lldWI0YtmP1FGw7Rj.jpg'}, {'credit_id': '5892154c9251412dd1009a56', 'department': 'Sound', 'gender': 0, 'id': 1425978, 'job': 'Sound Re-Recording Mixer', 'name': 'Gary Summers', 'profile_path': None}, {'credit_id': '58921555c3a36809680091bd', 'department': 'Sound', 'gender': 2, 'id': 8276, 'job': 'Supervising Sound Editor', 'name': 'Tim Holland', 'profile_path': None}, {'credit_id': '589215c39251412dcb009c12', 'department': 'Sound', 'gender': 0, 'id': 7069, 'job': 'Sound Effects Editor', 'name': 'Pat Jackson', 'profile_path': None}, {'credit_id': '58921698c3a368096a009788', 'department': 'Crew', 'gender': 2, 'id': 15894, 'job': 'Sound Design Assistant', 'name': 'Tom Myers', 'profile_path': None}, {'credit_id': '589216a89251412dc2009ca4', 'department': 'Sound', 'gender': 0, 'id': 1414177, 'job': 'Assistant Sound Editor', 'name': 'J.R. Grubbs', 'profile_path': None}, {'credit_id': '589216c19251412dc2009cb9', 'department': 'Sound', 'gender': 1, 'id': 1748724, 'job': 'Assistant Sound Editor', 'name': 'Susan Sanford', 'profile_path': None}, {'credit_id': '589216ccc3a3680973009274', 'department': 'Sound', 'gender': 0, 'id': 1748725, 'job': 'Assistant Sound Editor', 'name': 'Susan Popovic', 'profile_path': None}, {'credit_id': '589216d79251412dc8009aa0', 'department': 'Sound', 'gender': 0, 'id': 8067, 'job': 'Assistant Sound Editor', 'name': 'Dan Engstrom', 'profile_path': None}, {'credit_id': '589216e49251412dcd009a4f', 'department': 'Production', 'gender': 1, 'id': 7902, 'job': 'Casting Consultant', 'name': 'Ruth Lambert', 'profile_path': None}, {'credit_id': '589216f39251412dc2009cf3', 'department': 'Production', 'gender': 0, 'id': 84493, 'job': 'ADR Voice Casting', 'name': 'Mickie McGowan', 'profile_path': '/k7TjJBfINsg8vLQxJwos6XObAD6.jpg'}]"
           },
           {
            "count": 1,
            "name": "[{'credit_id': '52fe44bfc3a36847f80a7cd1', 'department': 'Production', 'gender': 2, 'id': 511, 'job': 'Executive Producer', 'name': 'Larry J. Franco', 'profile_path': None}, {'credit_id': '52fe44bfc3a36847f80a7c89', 'department': 'Writing', 'gender': 2, 'id': 876, 'job': 'Screenplay', 'name': 'Jonathan Hensleigh', 'profile_path': '/l1c4UFD3g0HVWj5f0CxXAvMAGiT.jpg'}, {'credit_id': '52fe44bfc3a36847f80a7cdd', 'department': 'Sound', 'gender': 2, 'id': 1729, 'job': 'Original Music Composer', 'name': 'James Horner', 'profile_path': '/oLOtXxXsYk8X4qq0ud4xVypXudi.jpg'}, {'credit_id': '52fe44bfc3a36847f80a7c7d', 'department': 'Directing', 'gender': 2, 'id': 4945, 'job': 'Director', 'name': 'Joe Johnston', 'profile_path': '/fok4jaO62v5IP6hkpaaAcXuw2H.jpg'}, {'credit_id': '52fe44bfc3a36847f80a7cd7', 'department': 'Editing', 'gender': 2, 'id': 4951, 'job': 'Editor', 'name': 'Robert Dalva', 'profile_path': None}, {'credit_id': '573523bec3a368025100062c', 'department': 'Production', 'gender': 0, 'id': 4952, 'job': 'Casting', 'name': 'Nancy Foy', 'profile_path': '/blCkmS4dqNsbPGuQfozHE6wgWBw.jpg'}, {'credit_id': '5722a924c3a3682d1e000b41', 'department': 'Visual Effects', 'gender': 0, 'id': 8023, 'job': 'Animation Supervisor', 'name': 'Kyle Balda', 'profile_path': '/jR8iAP6uC0V42KbUG87qBIUO3Hj.jpg'}, {'credit_id': '52fe44c0c3a36847f80a7ce3', 'department': 'Art', 'gender': 2, 'id': 9967, 'job': 'Production Design', 'name': 'James D. Bissell', 'profile_path': None}, {'credit_id': '52fe44bfc3a36847f80a7cb9', 'department': 'Production', 'gender': 2, 'id': 9184, 'job': 'Producer', 'name': 'Scott Kroopf', 'profile_path': None}, {'credit_id': '52fe44bfc3a36847f80a7ccb', 'department': 'Production', 'gender': 2, 'id': 9196, 'job': 'Executive Producer', 'name': 'Ted Field', 'profile_path': '/qmB7sZcgRUq7mRFBSTlSsVXh7sH.jpg'}, {'credit_id': '52fe44bfc3a36847f80a7cc5', 'department': 'Production', 'gender': 2, 'id': 18389, 'job': 'Executive Producer', 'name': 'Robert W. Cort', 'profile_path': None}, {'credit_id': '52fe44bfc3a36847f80a7cbf', 'department': 'Camera', 'gender': 2, 'id': 11371, 'job': 'Director of Photography', 'name': 'Thomas E. Ackerman', 'profile_path': '/xFDbxk53icM1ofL4iCIwB4GkUxN.jpg'}, {'credit_id': '52fe44bfc3a36847f80a7c83', 'department': 'Writing', 'gender': 2, 'id': 42356, 'job': 'Novel', 'name': 'Chris van Allsburg', 'profile_path': None}, {'credit_id': '52fe44bfc3a36847f80a7cb3', 'department': 'Production', 'gender': 2, 'id': 42357, 'job': 'Producer', 'name': 'William Teitler', 'profile_path': None}, {'credit_id': '52fe44bfc3a36847f80a7c8f', 'department': 'Writing', 'gender': 2, 'id': 56520, 'job': 'Screenplay', 'name': 'Greg Taylor', 'profile_path': None}, {'credit_id': '52fe44bfc3a36847f80a7c95', 'department': 'Writing', 'gender': 2, 'id': 56521, 'job': 'Screenplay', 'name': 'Jim Strain', 'profile_path': None}]"
           },
           {
            "count": 1,
            "name": "[{'credit_id': '52fe466a9251416c75077a89', 'department': 'Directing', 'gender': 2, 'id': 26502, 'job': 'Director', 'name': 'Howard Deutch', 'profile_path': '/68Vae1HkU1NxQZ6KEmuxIpno7c9.jpg'}, {'credit_id': '52fe466b9251416c75077aa3', 'department': 'Writing', 'gender': 2, 'id': 16837, 'job': 'Characters', 'name': 'Mark Steven Johnson', 'profile_path': '/6trChNn3o2bi4i2ipgMEAytwmZp.jpg'}, {'credit_id': '52fe466b9251416c75077aa9', 'department': 'Writing', 'gender': 2, 'id': 16837, 'job': 'Writer', 'name': 'Mark Steven Johnson', 'profile_path': '/6trChNn3o2bi4i2ipgMEAytwmZp.jpg'}, {'credit_id': '5675eb4b92514179dd003933', 'department': 'Crew', 'gender': 2, 'id': 1551320, 'job': 'Sound Recordist', 'name': 'Jack Keller', 'profile_path': None}]"
           }
          ],
          "nan_count": 0,
          "unique_count": 3
         }
        },
        {
         "dtype": "object",
         "name": "keywords",
         "stats": {
          "categories": [
           {
            "count": 1,
            "name": "[{'id': 931, 'name': 'jealousy'}, {'id': 4290, 'name': 'toy'}, {'id': 5202, 'name': 'boy'}, {'id': 6054, 'name': 'friendship'}, {'id': 9713, 'name': 'friends'}, {'id': 9823, 'name': 'rivalry'}, {'id': 165503, 'name': 'boy next door'}, {'id': 170722, 'name': 'new toy'}, {'id': 187065, 'name': 'toy comes to life'}]"
           },
           {
            "count": 1,
            "name": "[{'id': 10090, 'name': 'board game'}, {'id': 10941, 'name': 'disappearance'}, {'id': 15101, 'name': \"based on children's book\"}, {'id': 33467, 'name': 'new home'}, {'id': 158086, 'name': 'recluse'}, {'id': 158091, 'name': 'giant insect'}]"
           },
           {
            "count": 1,
            "name": "[{'id': 1495, 'name': 'fishing'}, {'id': 12392, 'name': 'best friend'}, {'id': 179431, 'name': 'duringcreditsstinger'}, {'id': 208510, 'name': 'old men'}]"
           }
          ],
          "nan_count": 0,
          "unique_count": 3
         }
        },
        {
         "dtype": "int64",
         "name": "movieId",
         "stats": {
          "histogram": [
           {
            "bin_end": 1.2,
            "bin_start": 1,
            "count": 1
           },
           {
            "bin_end": 1.4,
            "bin_start": 1.2,
            "count": 0
           },
           {
            "bin_end": 1.6,
            "bin_start": 1.4,
            "count": 0
           },
           {
            "bin_end": 1.8,
            "bin_start": 1.6,
            "count": 0
           },
           {
            "bin_end": 2,
            "bin_start": 1.8,
            "count": 0
           },
           {
            "bin_end": 2.2,
            "bin_start": 2,
            "count": 1
           },
           {
            "bin_end": 2.4000000000000004,
            "bin_start": 2.2,
            "count": 0
           },
           {
            "bin_end": 2.6,
            "bin_start": 2.4000000000000004,
            "count": 0
           },
           {
            "bin_end": 2.8,
            "bin_start": 2.6,
            "count": 0
           },
           {
            "bin_end": 3,
            "bin_start": 2.8,
            "count": 1
           }
          ],
          "max": "3",
          "min": "1",
          "nan_count": 0,
          "unique_count": 3
         }
        },
        {
         "dtype": "int64",
         "name": "_deepnote_index_column"
        }
       ],
       "row_count": 3,
       "rows": [
        {
         "_deepnote_index_column": 0,
         "budget": "30000000",
         "cast": "[{'cast_id': 14, 'character': 'Woody (voice)', 'credit_id': '52fe4284c3a36847f8024f95', 'gender': 2, 'id': 31, 'name': 'Tom Hanks', 'order': 0, 'profile_path': '/pQFoyx7rp09CJTAb932F2g8Nlho.jpg'}, {'cast_id': 15, 'character': 'Buzz Lightyear (voice)', 'credit_id': '52fe4284c3a36847f8024f99', 'gender': 2, 'id': 12898, 'name': 'Tim Allen', 'order': 1, 'profile_path': '/uX2xVf6pMmPepxnvFWyBtjexzgY.jpg'}, {'cast_id': 16, 'character': 'Mr. Potato Head (voice)', 'credit_id': '52fe4284c3a36847f8024f9d', 'gender': 2, 'id': 7167, 'name': 'Don Rickles', 'order': 2, 'profile_path': '/h5BcaDMPRVLHLDzbQavec4xfSdt.jpg'}, {'cast_id': 17, 'character': 'Slinky Dog (voice)', 'credit_id': '52fe4284c3a36847f8024fa1', 'gender': 2, 'id': 12899, 'name': 'Jim Varney', 'order': 3, 'profile_path': '/eIo2jVVXYgjDtaHoF19Ll9vtW7h.jpg'}, {'cast_id': 18, 'character': 'Rex (voice)', 'credit_id': '52fe4284c3a36847f8024fa5', 'gender': 2, 'id': 12900, 'name': 'Wallace Shawn', 'order': 4, 'profile_path': '/oGE6JqPP2xH4t…",
         "crew": "[{'credit_id': '52fe4284c3a36847f8024f49', 'department': 'Directing', 'gender': 2, 'id': 7879, 'job': 'Director', 'name': 'John Lasseter', 'profile_path': '/7EdqiNbr4FRjIhKHyPPdFfEEEFG.jpg'}, {'credit_id': '52fe4284c3a36847f8024f4f', 'department': 'Writing', 'gender': 2, 'id': 12891, 'job': 'Screenplay', 'name': 'Joss Whedon', 'profile_path': '/dTiVsuaTVTeGmvkhcyJvKp2A5kr.jpg'}, {'credit_id': '52fe4284c3a36847f8024f55', 'department': 'Writing', 'gender': 2, 'id': 7, 'job': 'Screenplay', 'name': 'Andrew Stanton', 'profile_path': '/pvQWsu0qc8JFQhMVJkTHuexUAa1.jpg'}, {'credit_id': '52fe4284c3a36847f8024f5b', 'department': 'Writing', 'gender': 2, 'id': 12892, 'job': 'Screenplay', 'name': 'Joel Cohen', 'profile_path': '/dAubAiZcvKFbboWlj7oXOkZnTSu.jpg'}, {'credit_id': '52fe4284c3a36847f8024f61', 'department': 'Writing', 'gender': 0, 'id': 12893, 'job': 'Screenplay', 'name': 'Alec Sokolow', 'profile_path': '/v79vlRYi94BZUQnkkyznbGUZLjT.jpg'}, {'credit_id': '52fe4284c3a36847f8024f67', 'depar…",
         "genres": "[{'id': 16, 'name': 'Animation'}, {'id': 35, 'name': 'Comedy'}, {'id': 10751, 'name': 'Family'}]",
         "id": 862,
         "imdb_id": "tt0114709",
         "keywords": "[{'id': 931, 'name': 'jealousy'}, {'id': 4290, 'name': 'toy'}, {'id': 5202, 'name': 'boy'}, {'id': 6054, 'name': 'friendship'}, {'id': 9713, 'name': 'friends'}, {'id': 9823, 'name': 'rivalry'}, {'id': 165503, 'name': 'boy next door'}, {'id': 170722, 'name': 'new toy'}, {'id': 187065, 'name': 'toy comes to life'}]",
         "movieId": 1,
         "original_language": "en",
         "original_title": "Toy Story",
         "overview": "Led by Woody, Andy's toys live happily in his room until Andy's birthday brings Buzz Lightyear onto the scene. Afraid of losing his place in Andy's heart, Woody plots against Buzz. But when circumstances separate Buzz and Woody from their owner, the duo eventually learns to put aside their differences.",
         "popularity": 21.946943,
         "production_companies": "[{'name': 'Pixar Animation Studios', 'id': 3}]",
         "production_countries": "[{'iso_3166_1': 'US', 'name': 'United States of America'}]",
         "release_date": "1995-10-30",
         "revenue": 373554033,
         "runtime": 81,
         "spoken_languages": "[{'iso_639_1': 'en', 'name': 'English'}]",
         "tagline": "No tagline available",
         "title": "Toy Story",
         "vote_average": 7.7,
         "vote_count": 5415
        },
        {
         "_deepnote_index_column": 1,
         "budget": "65000000",
         "cast": "[{'cast_id': 1, 'character': 'Alan Parrish', 'credit_id': '52fe44bfc3a36847f80a7c73', 'gender': 2, 'id': 2157, 'name': 'Robin Williams', 'order': 0, 'profile_path': '/sojtJyIV3lkUeThD7A2oHNm8183.jpg'}, {'cast_id': 8, 'character': 'Samuel Alan Parrish / Van Pelt', 'credit_id': '52fe44bfc3a36847f80a7c99', 'gender': 2, 'id': 8537, 'name': 'Jonathan Hyde', 'order': 1, 'profile_path': '/7il5D76vx6QVRVlpVvBPEC40MBi.jpg'}, {'cast_id': 2, 'character': 'Judy Sheperd', 'credit_id': '52fe44bfc3a36847f80a7c77', 'gender': 1, 'id': 205, 'name': 'Kirsten Dunst', 'order': 2, 'profile_path': '/wBXvh6PJd0IUVNpvatPC1kzuHtm.jpg'}, {'cast_id': 24, 'character': 'Peter Shepherd', 'credit_id': '52fe44c0c3a36847f80a7ce7', 'gender': 0, 'id': 145151, 'name': 'Bradley Pierce', 'order': 3, 'profile_path': '/j6iW0vVA23GQniAPSYI6mi4hiEW.jpg'}, {'cast_id': 10, 'character': 'Sarah Whittle', 'credit_id': '52fe44bfc3a36847f80a7c9d', 'gender': 1, 'id': 5149, 'name': 'Bonnie Hunt', 'order': 4, 'profile_path': '/7spiVQwmr…",
         "crew": "[{'credit_id': '52fe44bfc3a36847f80a7cd1', 'department': 'Production', 'gender': 2, 'id': 511, 'job': 'Executive Producer', 'name': 'Larry J. Franco', 'profile_path': None}, {'credit_id': '52fe44bfc3a36847f80a7c89', 'department': 'Writing', 'gender': 2, 'id': 876, 'job': 'Screenplay', 'name': 'Jonathan Hensleigh', 'profile_path': '/l1c4UFD3g0HVWj5f0CxXAvMAGiT.jpg'}, {'credit_id': '52fe44bfc3a36847f80a7cdd', 'department': 'Sound', 'gender': 2, 'id': 1729, 'job': 'Original Music Composer', 'name': 'James Horner', 'profile_path': '/oLOtXxXsYk8X4qq0ud4xVypXudi.jpg'}, {'credit_id': '52fe44bfc3a36847f80a7c7d', 'department': 'Directing', 'gender': 2, 'id': 4945, 'job': 'Director', 'name': 'Joe Johnston', 'profile_path': '/fok4jaO62v5IP6hkpaaAcXuw2H.jpg'}, {'credit_id': '52fe44bfc3a36847f80a7cd7', 'department': 'Editing', 'gender': 2, 'id': 4951, 'job': 'Editor', 'name': 'Robert Dalva', 'profile_path': None}, {'credit_id': '573523bec3a368025100062c', 'department': 'Production', 'gender': 0, '…",
         "genres": "[{'id': 12, 'name': 'Adventure'}, {'id': 14, 'name': 'Fantasy'}, {'id': 10751, 'name': 'Family'}]",
         "id": 8844,
         "imdb_id": "tt0113497",
         "keywords": "[{'id': 10090, 'name': 'board game'}, {'id': 10941, 'name': 'disappearance'}, {'id': 15101, 'name': \"based on children's book\"}, {'id': 33467, 'name': 'new home'}, {'id': 158086, 'name': 'recluse'}, {'id': 158091, 'name': 'giant insect'}]",
         "movieId": 2,
         "original_language": "en",
         "original_title": "Jumanji",
         "overview": "When siblings Judy and Peter discover an enchanted board game that opens the door to a magical world, they unwittingly invite Alan -- an adult who's been trapped inside the game for 26 years -- into their living room. Alan's only hope for freedom is to finish the game, which proves risky as all three find themselves running from giant rhinoceroses, evil monkeys and other terrifying creatures.",
         "popularity": 17.015539,
         "production_companies": "[{'name': 'TriStar Pictures', 'id': 559}, {'name': 'Teitler Film', 'id': 2550}, {'name': 'Interscope Communications', 'id': 10201}]",
         "production_countries": "[{'iso_3166_1': 'US', 'name': 'United States of America'}]",
         "release_date": "1995-12-15",
         "revenue": 262797249,
         "runtime": 104,
         "spoken_languages": "[{'iso_639_1': 'en', 'name': 'English'}, {'iso_639_1': 'fr', 'name': 'Français'}]",
         "tagline": "Roll the dice and unleash the excitement!",
         "title": "Jumanji",
         "vote_average": 6.9,
         "vote_count": 2413
        },
        {
         "_deepnote_index_column": 2,
         "budget": "0",
         "cast": "[{'cast_id': 2, 'character': 'Max Goldman', 'credit_id': '52fe466a9251416c75077a8d', 'gender': 2, 'id': 6837, 'name': 'Walter Matthau', 'order': 0, 'profile_path': '/xJVkvprOnzP5Zdh5y63y8HHniDZ.jpg'}, {'cast_id': 3, 'character': 'John Gustafson', 'credit_id': '52fe466a9251416c75077a91', 'gender': 2, 'id': 3151, 'name': 'Jack Lemmon', 'order': 1, 'profile_path': '/chZmNRYMtqkiDlatprGDH4BzGqG.jpg'}, {'cast_id': 4, 'character': 'Ariel Gustafson', 'credit_id': '52fe466a9251416c75077a95', 'gender': 1, 'id': 13567, 'name': 'Ann-Margret', 'order': 2, 'profile_path': '/jx5lTaJ5VXZHYB52gaOTAZ9STZk.jpg'}, {'cast_id': 5, 'character': 'Maria Sophia Coletta Ragetti', 'credit_id': '52fe466a9251416c75077a99', 'gender': 1, 'id': 16757, 'name': 'Sophia Loren', 'order': 3, 'profile_path': '/emKLhbji1c7BjcA2DdbWf0EP9zH.jpg'}, {'cast_id': 6, 'character': 'Melanie Gustafson', 'credit_id': '52fe466a9251416c75077a9d', 'gender': 1, 'id': 589, 'name': 'Daryl Hannah', 'order': 4, 'profile_path': '/4LLmp6AQdlj6…",
         "crew": "[{'credit_id': '52fe466a9251416c75077a89', 'department': 'Directing', 'gender': 2, 'id': 26502, 'job': 'Director', 'name': 'Howard Deutch', 'profile_path': '/68Vae1HkU1NxQZ6KEmuxIpno7c9.jpg'}, {'credit_id': '52fe466b9251416c75077aa3', 'department': 'Writing', 'gender': 2, 'id': 16837, 'job': 'Characters', 'name': 'Mark Steven Johnson', 'profile_path': '/6trChNn3o2bi4i2ipgMEAytwmZp.jpg'}, {'credit_id': '52fe466b9251416c75077aa9', 'department': 'Writing', 'gender': 2, 'id': 16837, 'job': 'Writer', 'name': 'Mark Steven Johnson', 'profile_path': '/6trChNn3o2bi4i2ipgMEAytwmZp.jpg'}, {'credit_id': '5675eb4b92514179dd003933', 'department': 'Crew', 'gender': 2, 'id': 1551320, 'job': 'Sound Recordist', 'name': 'Jack Keller', 'profile_path': None}]",
         "genres": "[{'id': 10749, 'name': 'Romance'}, {'id': 35, 'name': 'Comedy'}]",
         "id": 15602,
         "imdb_id": "tt0113228",
         "keywords": "[{'id': 1495, 'name': 'fishing'}, {'id': 12392, 'name': 'best friend'}, {'id': 179431, 'name': 'duringcreditsstinger'}, {'id': 208510, 'name': 'old men'}]",
         "movieId": 3,
         "original_language": "en",
         "original_title": "Grumpier Old Men",
         "overview": "A family wedding reignites the ancient feud between next-door neighbors and fishing buddies John and Max. Meanwhile, a sultry Italian divorcée opens a restaurant at the local bait shop, alarming the locals who worry she'll scare the fish away. But she's less interested in seafood than she is in cooking up a hot time with Max.",
         "popularity": 11.7129,
         "production_companies": "[{'name': 'Warner Bros.', 'id': 6194}, {'name': 'Lancaster Gate', 'id': 19464}]",
         "production_countries": "[{'iso_3166_1': 'US', 'name': 'United States of America'}]",
         "release_date": "1995-12-22",
         "revenue": 0,
         "runtime": 101,
         "spoken_languages": "[{'iso_639_1': 'en', 'name': 'English'}]",
         "tagline": "Still Yelling. Still Fighting. Still Ready for Love.",
         "title": "Grumpier Old Men",
         "vote_average": 6.5,
         "vote_count": 92
        }
       ],
       "type": "dataframe"
      },
      "text/html": [
       "<div>\n",
       "<style scoped>\n",
       "    .dataframe tbody tr th:only-of-type {\n",
       "        vertical-align: middle;\n",
       "    }\n",
       "\n",
       "    .dataframe tbody tr th {\n",
       "        vertical-align: top;\n",
       "    }\n",
       "\n",
       "    .dataframe thead th {\n",
       "        text-align: right;\n",
       "    }\n",
       "</style>\n",
       "<table border=\"1\" class=\"dataframe\">\n",
       "  <thead>\n",
       "    <tr style=\"text-align: right;\">\n",
       "      <th></th>\n",
       "      <th>budget</th>\n",
       "      <th>genres</th>\n",
       "      <th>id</th>\n",
       "      <th>imdb_id</th>\n",
       "      <th>original_language</th>\n",
       "      <th>original_title</th>\n",
       "      <th>overview</th>\n",
       "      <th>popularity</th>\n",
       "      <th>production_companies</th>\n",
       "      <th>production_countries</th>\n",
       "      <th>...</th>\n",
       "      <th>runtime</th>\n",
       "      <th>spoken_languages</th>\n",
       "      <th>tagline</th>\n",
       "      <th>title</th>\n",
       "      <th>vote_average</th>\n",
       "      <th>vote_count</th>\n",
       "      <th>cast</th>\n",
       "      <th>crew</th>\n",
       "      <th>keywords</th>\n",
       "      <th>movieId</th>\n",
       "    </tr>\n",
       "  </thead>\n",
       "  <tbody>\n",
       "    <tr>\n",
       "      <th>0</th>\n",
       "      <td>30000000</td>\n",
       "      <td>[{'id': 16, 'name': 'Animation'}, {'id': 35, '...</td>\n",
       "      <td>862</td>\n",
       "      <td>tt0114709</td>\n",
       "      <td>en</td>\n",
       "      <td>Toy Story</td>\n",
       "      <td>Led by Woody, Andy's toys live happily in his ...</td>\n",
       "      <td>21.946943</td>\n",
       "      <td>[{'name': 'Pixar Animation Studios', 'id': 3}]</td>\n",
       "      <td>[{'iso_3166_1': 'US', 'name': 'United States o...</td>\n",
       "      <td>...</td>\n",
       "      <td>81.0</td>\n",
       "      <td>[{'iso_639_1': 'en', 'name': 'English'}]</td>\n",
       "      <td>No tagline available</td>\n",
       "      <td>Toy Story</td>\n",
       "      <td>7.7</td>\n",
       "      <td>5415.0</td>\n",
       "      <td>[{'cast_id': 14, 'character': 'Woody (voice)',...</td>\n",
       "      <td>[{'credit_id': '52fe4284c3a36847f8024f49', 'de...</td>\n",
       "      <td>[{'id': 931, 'name': 'jealousy'}, {'id': 4290,...</td>\n",
       "      <td>1</td>\n",
       "    </tr>\n",
       "    <tr>\n",
       "      <th>1</th>\n",
       "      <td>65000000</td>\n",
       "      <td>[{'id': 12, 'name': 'Adventure'}, {'id': 14, '...</td>\n",
       "      <td>8844</td>\n",
       "      <td>tt0113497</td>\n",
       "      <td>en</td>\n",
       "      <td>Jumanji</td>\n",
       "      <td>When siblings Judy and Peter discover an encha...</td>\n",
       "      <td>17.015539</td>\n",
       "      <td>[{'name': 'TriStar Pictures', 'id': 559}, {'na...</td>\n",
       "      <td>[{'iso_3166_1': 'US', 'name': 'United States o...</td>\n",
       "      <td>...</td>\n",
       "      <td>104.0</td>\n",
       "      <td>[{'iso_639_1': 'en', 'name': 'English'}, {'iso...</td>\n",
       "      <td>Roll the dice and unleash the excitement!</td>\n",
       "      <td>Jumanji</td>\n",
       "      <td>6.9</td>\n",
       "      <td>2413.0</td>\n",
       "      <td>[{'cast_id': 1, 'character': 'Alan Parrish', '...</td>\n",
       "      <td>[{'credit_id': '52fe44bfc3a36847f80a7cd1', 'de...</td>\n",
       "      <td>[{'id': 10090, 'name': 'board game'}, {'id': 1...</td>\n",
       "      <td>2</td>\n",
       "    </tr>\n",
       "    <tr>\n",
       "      <th>2</th>\n",
       "      <td>0</td>\n",
       "      <td>[{'id': 10749, 'name': 'Romance'}, {'id': 35, ...</td>\n",
       "      <td>15602</td>\n",
       "      <td>tt0113228</td>\n",
       "      <td>en</td>\n",
       "      <td>Grumpier Old Men</td>\n",
       "      <td>A family wedding reignites the ancient feud be...</td>\n",
       "      <td>11.712900</td>\n",
       "      <td>[{'name': 'Warner Bros.', 'id': 6194}, {'name'...</td>\n",
       "      <td>[{'iso_3166_1': 'US', 'name': 'United States o...</td>\n",
       "      <td>...</td>\n",
       "      <td>101.0</td>\n",
       "      <td>[{'iso_639_1': 'en', 'name': 'English'}]</td>\n",
       "      <td>Still Yelling. Still Fighting. Still Ready for...</td>\n",
       "      <td>Grumpier Old Men</td>\n",
       "      <td>6.5</td>\n",
       "      <td>92.0</td>\n",
       "      <td>[{'cast_id': 2, 'character': 'Max Goldman', 'c...</td>\n",
       "      <td>[{'credit_id': '52fe466a9251416c75077a89', 'de...</td>\n",
       "      <td>[{'id': 1495, 'name': 'fishing'}, {'id': 12392...</td>\n",
       "      <td>3</td>\n",
       "    </tr>\n",
       "  </tbody>\n",
       "</table>\n",
       "<p>3 rows × 22 columns</p>\n",
       "</div>"
      ],
      "text/plain": [
       "     budget                                             genres     id  \\\n",
       "0  30000000  [{'id': 16, 'name': 'Animation'}, {'id': 35, '...    862   \n",
       "1  65000000  [{'id': 12, 'name': 'Adventure'}, {'id': 14, '...   8844   \n",
       "2         0  [{'id': 10749, 'name': 'Romance'}, {'id': 35, ...  15602   \n",
       "\n",
       "     imdb_id original_language    original_title  \\\n",
       "0  tt0114709                en         Toy Story   \n",
       "1  tt0113497                en           Jumanji   \n",
       "2  tt0113228                en  Grumpier Old Men   \n",
       "\n",
       "                                            overview  popularity  \\\n",
       "0  Led by Woody, Andy's toys live happily in his ...   21.946943   \n",
       "1  When siblings Judy and Peter discover an encha...   17.015539   \n",
       "2  A family wedding reignites the ancient feud be...   11.712900   \n",
       "\n",
       "                                production_companies  \\\n",
       "0     [{'name': 'Pixar Animation Studios', 'id': 3}]   \n",
       "1  [{'name': 'TriStar Pictures', 'id': 559}, {'na...   \n",
       "2  [{'name': 'Warner Bros.', 'id': 6194}, {'name'...   \n",
       "\n",
       "                                production_countries  ... runtime  \\\n",
       "0  [{'iso_3166_1': 'US', 'name': 'United States o...  ...    81.0   \n",
       "1  [{'iso_3166_1': 'US', 'name': 'United States o...  ...   104.0   \n",
       "2  [{'iso_3166_1': 'US', 'name': 'United States o...  ...   101.0   \n",
       "\n",
       "                                    spoken_languages  \\\n",
       "0           [{'iso_639_1': 'en', 'name': 'English'}]   \n",
       "1  [{'iso_639_1': 'en', 'name': 'English'}, {'iso...   \n",
       "2           [{'iso_639_1': 'en', 'name': 'English'}]   \n",
       "\n",
       "                                             tagline             title  \\\n",
       "0                               No tagline available         Toy Story   \n",
       "1          Roll the dice and unleash the excitement!           Jumanji   \n",
       "2  Still Yelling. Still Fighting. Still Ready for...  Grumpier Old Men   \n",
       "\n",
       "  vote_average vote_count                                               cast  \\\n",
       "0          7.7     5415.0  [{'cast_id': 14, 'character': 'Woody (voice)',...   \n",
       "1          6.9     2413.0  [{'cast_id': 1, 'character': 'Alan Parrish', '...   \n",
       "2          6.5       92.0  [{'cast_id': 2, 'character': 'Max Goldman', 'c...   \n",
       "\n",
       "                                                crew  \\\n",
       "0  [{'credit_id': '52fe4284c3a36847f8024f49', 'de...   \n",
       "1  [{'credit_id': '52fe44bfc3a36847f80a7cd1', 'de...   \n",
       "2  [{'credit_id': '52fe466a9251416c75077a89', 'de...   \n",
       "\n",
       "                                            keywords movieId  \n",
       "0  [{'id': 931, 'name': 'jealousy'}, {'id': 4290,...       1  \n",
       "1  [{'id': 10090, 'name': 'board game'}, {'id': 1...       2  \n",
       "2  [{'id': 1495, 'name': 'fishing'}, {'id': 12392...       3  \n",
       "\n",
       "[3 rows x 22 columns]"
      ]
     },
     "execution_count": 42,
     "metadata": {},
     "output_type": "execute_result"
    }
   ],
   "source": [
    "movies.head(3)"
   ]
  },
  {
   "cell_type": "code",
   "execution_count": null,
   "metadata": {
    "cell_id": "0d8a1f36797d464ea384fe86e18f77ff",
    "deepnote_cell_type": "code",
    "execution_context_id": "c4740c3a-6ed2-4dc5-ba33-0ff299ab674e",
    "execution_millis": 1,
    "execution_start": 1741802142462,
    "source_hash": "169b15de"
   },
   "outputs": [
    {
     "data": {
      "text/plain": [
       "Index(['budget', 'genres', 'id', 'imdb_id', 'original_language',\n",
       "       'original_title', 'overview', 'popularity', 'production_companies',\n",
       "       'production_countries', 'release_date', 'revenue', 'runtime',\n",
       "       'spoken_languages', 'tagline', 'title', 'vote_average', 'vote_count',\n",
       "       'cast', 'crew', 'keywords', 'movieId'],\n",
       "      dtype='object')"
      ]
     },
     "execution_count": 44,
     "metadata": {},
     "output_type": "execute_result"
    }
   ],
   "source": [
    "movies.columns"
   ]
  },
  {
   "cell_type": "code",
   "execution_count": null,
   "metadata": {
    "cell_id": "fb2814da3d97455cb9bd732250595e5d",
    "deepnote_cell_type": "code",
    "execution_context_id": "c4740c3a-6ed2-4dc5-ba33-0ff299ab674e",
    "execution_millis": 0,
    "execution_start": 1741802281757,
    "source_hash": "421917bc"
   },
   "outputs": [
    {
     "data": {
      "text/plain": [
       "(45503, 14)"
      ]
     },
     "execution_count": 46,
     "metadata": {},
     "output_type": "execute_result"
    }
   ],
   "source": [
    "#dropping little impact columns in movies\n",
    "movies.drop(columns=['imdb_id', 'original_title', 'production_companies', \n",
    "                     'production_countries', 'spoken_languages', 'tagline', \n",
    "                     'crew', 'movieId'], inplace=True)\n",
    "\n",
    "movies.shape"
   ]
  },
  {
   "cell_type": "code",
   "execution_count": null,
   "metadata": {
    "cell_id": "f02d180732b04d8ba2b001cbce27f562",
    "deepnote_cell_type": "code",
    "execution_context_id": "c4740c3a-6ed2-4dc5-ba33-0ff299ab674e",
    "execution_millis": 4998,
    "execution_start": 1741802342249,
    "source_hash": "e8a1221a"
   },
   "outputs": [],
   "source": [
    "#saving the cleaned dataset\n",
    "movies.to_csv(\"cleaned_movies.csv\", index=False)"
   ]
  },
  {
   "cell_type": "code",
   "execution_count": null,
   "metadata": {
    "cell_id": "25f8d035ec9841af9d69f97a83a6b409",
    "deepnote_cell_type": "code",
    "execution_context_id": "c4740c3a-6ed2-4dc5-ba33-0ff299ab674e",
    "execution_millis": 0,
    "execution_start": 1741802357369,
    "source_hash": "de4d5512"
   },
   "outputs": [
    {
     "data": {
      "text/plain": [
       "Index(['userId', 'movieId', 'rating', 'timestamp'], dtype='object')"
      ]
     },
     "execution_count": 50,
     "metadata": {},
     "output_type": "execute_result"
    }
   ],
   "source": [
    "ratings.columns"
   ]
  },
  {
   "cell_type": "code",
   "execution_count": null,
   "metadata": {
    "cell_id": "0e99955d83a04e76a88cf825814a5478",
    "deepnote_cell_type": "code",
    "execution_context_id": "c4740c3a-6ed2-4dc5-ba33-0ff299ab674e",
    "execution_millis": 1,
    "execution_start": 1741802438265,
    "source_hash": "433885f"
   },
   "outputs": [
    {
     "data": {
      "text/plain": [
       "(26024289, 3)"
      ]
     },
     "execution_count": 52,
     "metadata": {},
     "output_type": "execute_result"
    }
   ],
   "source": [
    "#droppng little impact columns in ratings\n",
    "ratings.drop(columns=['timestamp'], inplace=True)\n",
    "\n",
    "ratings.shape"
   ]
  },
  {
   "cell_type": "code",
   "execution_count": null,
   "metadata": {
    "cell_id": "c141a9aef72a4f5a9479992a43fcc1fc",
    "deepnote_cell_type": "code",
    "execution_context_id": "c4740c3a-6ed2-4dc5-ba33-0ff299ab674e",
    "execution_millis": 33593,
    "execution_start": 1741802454869,
    "source_hash": "c4cda8cb"
   },
   "outputs": [],
   "source": [
    "ratings.to_csv(\"cleaned_ratings.csv\", index=False)"
   ]
  },
  {
   "cell_type": "markdown",
   "metadata": {
    "cell_id": "699cfa1a23654d27977d05db0b60d8c2",
    "deepnote_cell_type": "text-cell-h3",
    "formattedRanges": []
   },
   "source": [
    "### Data Visualization"
   ]
  },
  {
   "cell_type": "code",
   "execution_count": null,
   "metadata": {
    "cell_id": "e53be623f19b4edc8d7a552b95d11609",
    "deepnote_cell_type": "code",
    "execution_context_id": "c4740c3a-6ed2-4dc5-ba33-0ff299ab674e",
    "execution_millis": 6269,
    "execution_start": 1741804826088,
    "source_hash": "8683fc92"
   },
   "outputs": [],
   "source": [
    "#load movies and ratings from the new dataset\n",
    "\n",
    "movies = pd.read_csv('cleaned_movies.csv')\n",
    "ratings = pd.read_csv('cleaned_ratings.csv')"
   ]
  },
  {
   "cell_type": "code",
   "execution_count": null,
   "metadata": {
    "cell_id": "3d37164233a744b68cc7eb6b44ffe4aa",
    "deepnote_cell_type": "code",
    "execution_context_id": "c4740c3a-6ed2-4dc5-ba33-0ff299ab674e",
    "execution_millis": 1,
    "execution_start": 1741804832413,
    "source_hash": "baf247f7"
   },
   "outputs": [
    {
     "data": {
      "application/vnd.deepnote.dataframe.v3+json": {
       "column_count": 3,
       "columns": [
        {
         "dtype": "int64",
         "name": "userId",
         "stats": {
          "histogram": [
           {
            "bin_end": 0.6,
            "bin_start": 0.5,
            "count": 0
           },
           {
            "bin_end": 0.7,
            "bin_start": 0.6,
            "count": 0
           },
           {
            "bin_end": 0.8,
            "bin_start": 0.7,
            "count": 0
           },
           {
            "bin_end": 0.9,
            "bin_start": 0.8,
            "count": 0
           },
           {
            "bin_end": 1,
            "bin_start": 0.9,
            "count": 0
           },
           {
            "bin_end": 1.1,
            "bin_start": 1,
            "count": 3
           },
           {
            "bin_end": 1.2000000000000002,
            "bin_start": 1.1,
            "count": 0
           },
           {
            "bin_end": 1.3,
            "bin_start": 1.2000000000000002,
            "count": 0
           },
           {
            "bin_end": 1.4,
            "bin_start": 1.3,
            "count": 0
           },
           {
            "bin_end": 1.5,
            "bin_start": 1.4,
            "count": 0
           }
          ],
          "max": "1",
          "min": "1",
          "nan_count": 0,
          "unique_count": 1
         }
        },
        {
         "dtype": "int64",
         "name": "movieId",
         "stats": {
          "histogram": [
           {
            "bin_end": 184.8,
            "bin_start": 110,
            "count": 2
           },
           {
            "bin_end": 259.6,
            "bin_start": 184.8,
            "count": 0
           },
           {
            "bin_end": 334.4,
            "bin_start": 259.6,
            "count": 0
           },
           {
            "bin_end": 409.2,
            "bin_start": 334.4,
            "count": 0
           },
           {
            "bin_end": 484,
            "bin_start": 409.2,
            "count": 0
           },
           {
            "bin_end": 558.8,
            "bin_start": 484,
            "count": 0
           },
           {
            "bin_end": 633.6,
            "bin_start": 558.8,
            "count": 0
           },
           {
            "bin_end": 708.4,
            "bin_start": 633.6,
            "count": 0
           },
           {
            "bin_end": 783.1999999999999,
            "bin_start": 708.4,
            "count": 0
           },
           {
            "bin_end": 858,
            "bin_start": 783.1999999999999,
            "count": 1
           }
          ],
          "max": "858",
          "min": "110",
          "nan_count": 0,
          "unique_count": 3
         }
        },
        {
         "dtype": "float64",
         "name": "rating",
         "stats": {
          "histogram": [
           {
            "bin_end": 1.4,
            "bin_start": 1,
            "count": 1
           },
           {
            "bin_end": 1.8,
            "bin_start": 1.4,
            "count": 0
           },
           {
            "bin_end": 2.2,
            "bin_start": 1.8,
            "count": 0
           },
           {
            "bin_end": 2.6,
            "bin_start": 2.2,
            "count": 0
           },
           {
            "bin_end": 3,
            "bin_start": 2.6,
            "count": 0
           },
           {
            "bin_end": 3.4000000000000004,
            "bin_start": 3,
            "count": 0
           },
           {
            "bin_end": 3.8000000000000003,
            "bin_start": 3.4000000000000004,
            "count": 0
           },
           {
            "bin_end": 4.2,
            "bin_start": 3.8000000000000003,
            "count": 0
           },
           {
            "bin_end": 4.6,
            "bin_start": 4.2,
            "count": 1
           },
           {
            "bin_end": 5,
            "bin_start": 4.6,
            "count": 1
           }
          ],
          "max": "5.0",
          "min": "1.0",
          "nan_count": 0,
          "unique_count": 3
         }
        },
        {
         "dtype": "int64",
         "name": "_deepnote_index_column"
        }
       ],
       "row_count": 3,
       "rows": [
        {
         "_deepnote_index_column": 0,
         "movieId": 110,
         "rating": 1,
         "userId": 1
        },
        {
         "_deepnote_index_column": 1,
         "movieId": 147,
         "rating": 4.5,
         "userId": 1
        },
        {
         "_deepnote_index_column": 2,
         "movieId": 858,
         "rating": 5,
         "userId": 1
        }
       ],
       "type": "dataframe"
      },
      "text/html": [
       "<div>\n",
       "<style scoped>\n",
       "    .dataframe tbody tr th:only-of-type {\n",
       "        vertical-align: middle;\n",
       "    }\n",
       "\n",
       "    .dataframe tbody tr th {\n",
       "        vertical-align: top;\n",
       "    }\n",
       "\n",
       "    .dataframe thead th {\n",
       "        text-align: right;\n",
       "    }\n",
       "</style>\n",
       "<table border=\"1\" class=\"dataframe\">\n",
       "  <thead>\n",
       "    <tr style=\"text-align: right;\">\n",
       "      <th></th>\n",
       "      <th>userId</th>\n",
       "      <th>movieId</th>\n",
       "      <th>rating</th>\n",
       "    </tr>\n",
       "  </thead>\n",
       "  <tbody>\n",
       "    <tr>\n",
       "      <th>0</th>\n",
       "      <td>1</td>\n",
       "      <td>110</td>\n",
       "      <td>1.0</td>\n",
       "    </tr>\n",
       "    <tr>\n",
       "      <th>1</th>\n",
       "      <td>1</td>\n",
       "      <td>147</td>\n",
       "      <td>4.5</td>\n",
       "    </tr>\n",
       "    <tr>\n",
       "      <th>2</th>\n",
       "      <td>1</td>\n",
       "      <td>858</td>\n",
       "      <td>5.0</td>\n",
       "    </tr>\n",
       "  </tbody>\n",
       "</table>\n",
       "</div>"
      ],
      "text/plain": [
       "   userId  movieId  rating\n",
       "0       1      110     1.0\n",
       "1       1      147     4.5\n",
       "2       1      858     5.0"
      ]
     },
     "execution_count": 4,
     "metadata": {},
     "output_type": "execute_result"
    }
   ],
   "source": [
    "ratings.head(3)"
   ]
  },
  {
   "cell_type": "code",
   "execution_count": null,
   "metadata": {
    "cell_id": "5f6415baa06b450092464502f56868fb",
    "deepnote_cell_type": "code",
    "execution_context_id": "c4740c3a-6ed2-4dc5-ba33-0ff299ab674e",
    "execution_millis": 0,
    "execution_start": 1741804832474,
    "source_hash": "ba72272c"
   },
   "outputs": [
    {
     "data": {
      "application/vnd.deepnote.dataframe.v3+json": {
       "column_count": 14,
       "columns": [
        {
         "dtype": "int64",
         "name": "budget",
         "stats": {
          "histogram": [
           {
            "bin_end": 6500000,
            "bin_start": 0,
            "count": 1
           },
           {
            "bin_end": 13000000,
            "bin_start": 6500000,
            "count": 0
           },
           {
            "bin_end": 19500000,
            "bin_start": 13000000,
            "count": 0
           },
           {
            "bin_end": 26000000,
            "bin_start": 19500000,
            "count": 0
           },
           {
            "bin_end": 32500000,
            "bin_start": 26000000,
            "count": 1
           },
           {
            "bin_end": 39000000,
            "bin_start": 32500000,
            "count": 0
           },
           {
            "bin_end": 45500000,
            "bin_start": 39000000,
            "count": 0
           },
           {
            "bin_end": 52000000,
            "bin_start": 45500000,
            "count": 0
           },
           {
            "bin_end": 58500000,
            "bin_start": 52000000,
            "count": 0
           },
           {
            "bin_end": 65000000,
            "bin_start": 58500000,
            "count": 1
           }
          ],
          "max": "65000000",
          "min": "0",
          "nan_count": 0,
          "unique_count": 3
         }
        },
        {
         "dtype": "object",
         "name": "genres",
         "stats": {
          "categories": [
           {
            "count": 1,
            "name": "[{'id': 16, 'name': 'Animation'}, {'id': 35, 'name': 'Comedy'}, {'id': 10751, 'name': 'Family'}]"
           },
           {
            "count": 1,
            "name": "[{'id': 12, 'name': 'Adventure'}, {'id': 14, 'name': 'Fantasy'}, {'id': 10751, 'name': 'Family'}]"
           },
           {
            "count": 1,
            "name": "[{'id': 10749, 'name': 'Romance'}, {'id': 35, 'name': 'Comedy'}]"
           }
          ],
          "nan_count": 0,
          "unique_count": 3
         }
        },
        {
         "dtype": "int64",
         "name": "id",
         "stats": {
          "histogram": [
           {
            "bin_end": 2336,
            "bin_start": 862,
            "count": 1
           },
           {
            "bin_end": 3810,
            "bin_start": 2336,
            "count": 0
           },
           {
            "bin_end": 5284,
            "bin_start": 3810,
            "count": 0
           },
           {
            "bin_end": 6758,
            "bin_start": 5284,
            "count": 0
           },
           {
            "bin_end": 8232,
            "bin_start": 6758,
            "count": 0
           },
           {
            "bin_end": 9706,
            "bin_start": 8232,
            "count": 1
           },
           {
            "bin_end": 11180,
            "bin_start": 9706,
            "count": 0
           },
           {
            "bin_end": 12654,
            "bin_start": 11180,
            "count": 0
           },
           {
            "bin_end": 14128,
            "bin_start": 12654,
            "count": 0
           },
           {
            "bin_end": 15602,
            "bin_start": 14128,
            "count": 1
           }
          ],
          "max": "15602",
          "min": "862",
          "nan_count": 0,
          "unique_count": 3
         }
        },
        {
         "dtype": "object",
         "name": "original_language",
         "stats": {
          "categories": [
           {
            "count": 3,
            "name": "en"
           }
          ],
          "nan_count": 0,
          "unique_count": 1
         }
        },
        {
         "dtype": "object",
         "name": "overview",
         "stats": {
          "categories": [
           {
            "count": 1,
            "name": "Led by Woody, Andy's toys live happily in his room until Andy's birthday brings Buzz Lightyear onto the scene. Afraid of losing his place in Andy's heart, Woody plots against Buzz. But when circumstances separate Buzz and Woody from their owner, the duo eventually learns to put aside their differences."
           },
           {
            "count": 1,
            "name": "When siblings Judy and Peter discover an enchanted board game that opens the door to a magical world, they unwittingly invite Alan -- an adult who's been trapped inside the game for 26 years -- into their living room. Alan's only hope for freedom is to finish the game, which proves risky as all three find themselves running from giant rhinoceroses, evil monkeys and other terrifying creatures."
           },
           {
            "count": 1,
            "name": "A family wedding reignites the ancient feud between next-door neighbors and fishing buddies John and Max. Meanwhile, a sultry Italian divorcée opens a restaurant at the local bait shop, alarming the locals who worry she'll scare the fish away. But she's less interested in seafood than she is in cooking up a hot time with Max."
           }
          ],
          "nan_count": 0,
          "unique_count": 3
         }
        },
        {
         "dtype": "float64",
         "name": "popularity",
         "stats": {
          "histogram": [
           {
            "bin_end": 12.7363043,
            "bin_start": 11.7129,
            "count": 1
           },
           {
            "bin_end": 13.7597086,
            "bin_start": 12.7363043,
            "count": 0
           },
           {
            "bin_end": 14.783112899999999,
            "bin_start": 13.7597086,
            "count": 0
           },
           {
            "bin_end": 15.8065172,
            "bin_start": 14.783112899999999,
            "count": 0
           },
           {
            "bin_end": 16.8299215,
            "bin_start": 15.8065172,
            "count": 0
           },
           {
            "bin_end": 17.8533258,
            "bin_start": 16.8299215,
            "count": 1
           },
           {
            "bin_end": 18.8767301,
            "bin_start": 17.8533258,
            "count": 0
           },
           {
            "bin_end": 19.9001344,
            "bin_start": 18.8767301,
            "count": 0
           },
           {
            "bin_end": 20.9235387,
            "bin_start": 19.9001344,
            "count": 0
           },
           {
            "bin_end": 21.946943,
            "bin_start": 20.9235387,
            "count": 1
           }
          ],
          "max": "21.946943",
          "min": "11.7129",
          "nan_count": 0,
          "unique_count": 3
         }
        },
        {
         "dtype": "object",
         "name": "release_date",
         "stats": {
          "categories": [
           {
            "count": 1,
            "name": "1995-10-30"
           },
           {
            "count": 1,
            "name": "1995-12-15"
           },
           {
            "count": 1,
            "name": "1995-12-22"
           }
          ],
          "nan_count": 0,
          "unique_count": 3
         }
        },
        {
         "dtype": "float64",
         "name": "revenue",
         "stats": {
          "histogram": [
           {
            "bin_end": 37355403.3,
            "bin_start": 0,
            "count": 1
           },
           {
            "bin_end": 74710806.6,
            "bin_start": 37355403.3,
            "count": 0
           },
           {
            "bin_end": 112066209.89999999,
            "bin_start": 74710806.6,
            "count": 0
           },
           {
            "bin_end": 149421613.2,
            "bin_start": 112066209.89999999,
            "count": 0
           },
           {
            "bin_end": 186777016.5,
            "bin_start": 149421613.2,
            "count": 0
           },
           {
            "bin_end": 224132419.79999998,
            "bin_start": 186777016.5,
            "count": 0
           },
           {
            "bin_end": 261487823.09999996,
            "bin_start": 224132419.79999998,
            "count": 0
           },
           {
            "bin_end": 298843226.4,
            "bin_start": 261487823.09999996,
            "count": 1
           },
           {
            "bin_end": 336198629.7,
            "bin_start": 298843226.4,
            "count": 0
           },
           {
            "bin_end": 373554033,
            "bin_start": 336198629.7,
            "count": 1
           }
          ],
          "max": "373554033.0",
          "min": "0.0",
          "nan_count": 0,
          "unique_count": 3
         }
        },
        {
         "dtype": "float64",
         "name": "runtime",
         "stats": {
          "histogram": [
           {
            "bin_end": 83.3,
            "bin_start": 81,
            "count": 1
           },
           {
            "bin_end": 85.6,
            "bin_start": 83.3,
            "count": 0
           },
           {
            "bin_end": 87.9,
            "bin_start": 85.6,
            "count": 0
           },
           {
            "bin_end": 90.2,
            "bin_start": 87.9,
            "count": 0
           },
           {
            "bin_end": 92.5,
            "bin_start": 90.2,
            "count": 0
           },
           {
            "bin_end": 94.8,
            "bin_start": 92.5,
            "count": 0
           },
           {
            "bin_end": 97.1,
            "bin_start": 94.8,
            "count": 0
           },
           {
            "bin_end": 99.4,
            "bin_start": 97.1,
            "count": 0
           },
           {
            "bin_end": 101.7,
            "bin_start": 99.4,
            "count": 1
           },
           {
            "bin_end": 104,
            "bin_start": 101.7,
            "count": 1
           }
          ],
          "max": "104.0",
          "min": "81.0",
          "nan_count": 0,
          "unique_count": 3
         }
        },
        {
         "dtype": "object",
         "name": "title",
         "stats": {
          "categories": [
           {
            "count": 1,
            "name": "Toy Story"
           },
           {
            "count": 1,
            "name": "Jumanji"
           },
           {
            "count": 1,
            "name": "Grumpier Old Men"
           }
          ],
          "nan_count": 0,
          "unique_count": 3
         }
        },
        {
         "dtype": "float64",
         "name": "vote_average",
         "stats": {
          "histogram": [
           {
            "bin_end": 6.62,
            "bin_start": 6.5,
            "count": 1
           },
           {
            "bin_end": 6.74,
            "bin_start": 6.62,
            "count": 0
           },
           {
            "bin_end": 6.86,
            "bin_start": 6.74,
            "count": 0
           },
           {
            "bin_end": 6.98,
            "bin_start": 6.86,
            "count": 1
           },
           {
            "bin_end": 7.1,
            "bin_start": 6.98,
            "count": 0
           },
           {
            "bin_end": 7.220000000000001,
            "bin_start": 7.1,
            "count": 0
           },
           {
            "bin_end": 7.34,
            "bin_start": 7.220000000000001,
            "count": 0
           },
           {
            "bin_end": 7.46,
            "bin_start": 7.34,
            "count": 0
           },
           {
            "bin_end": 7.58,
            "bin_start": 7.46,
            "count": 0
           },
           {
            "bin_end": 7.7,
            "bin_start": 7.58,
            "count": 1
           }
          ],
          "max": "7.7",
          "min": "6.5",
          "nan_count": 0,
          "unique_count": 3
         }
        },
        {
         "dtype": "float64",
         "name": "vote_count",
         "stats": {
          "histogram": [
           {
            "bin_end": 624.3,
            "bin_start": 92,
            "count": 1
           },
           {
            "bin_end": 1156.6,
            "bin_start": 624.3,
            "count": 0
           },
           {
            "bin_end": 1688.8999999999999,
            "bin_start": 1156.6,
            "count": 0
           },
           {
            "bin_end": 2221.2,
            "bin_start": 1688.8999999999999,
            "count": 0
           },
           {
            "bin_end": 2753.5,
            "bin_start": 2221.2,
            "count": 1
           },
           {
            "bin_end": 3285.7999999999997,
            "bin_start": 2753.5,
            "count": 0
           },
           {
            "bin_end": 3818.0999999999995,
            "bin_start": 3285.7999999999997,
            "count": 0
           },
           {
            "bin_end": 4350.4,
            "bin_start": 3818.0999999999995,
            "count": 0
           },
           {
            "bin_end": 4882.7,
            "bin_start": 4350.4,
            "count": 0
           },
           {
            "bin_end": 5415,
            "bin_start": 4882.7,
            "count": 1
           }
          ],
          "max": "5415.0",
          "min": "92.0",
          "nan_count": 0,
          "unique_count": 3
         }
        },
        {
         "dtype": "object",
         "name": "cast",
         "stats": {
          "categories": [
           {
            "count": 1,
            "name": "[{'cast_id': 14, 'character': 'Woody (voice)', 'credit_id': '52fe4284c3a36847f8024f95', 'gender': 2, 'id': 31, 'name': 'Tom Hanks', 'order': 0, 'profile_path': '/pQFoyx7rp09CJTAb932F2g8Nlho.jpg'}, {'cast_id': 15, 'character': 'Buzz Lightyear (voice)', 'credit_id': '52fe4284c3a36847f8024f99', 'gender': 2, 'id': 12898, 'name': 'Tim Allen', 'order': 1, 'profile_path': '/uX2xVf6pMmPepxnvFWyBtjexzgY.jpg'}, {'cast_id': 16, 'character': 'Mr. Potato Head (voice)', 'credit_id': '52fe4284c3a36847f8024f9d', 'gender': 2, 'id': 7167, 'name': 'Don Rickles', 'order': 2, 'profile_path': '/h5BcaDMPRVLHLDzbQavec4xfSdt.jpg'}, {'cast_id': 17, 'character': 'Slinky Dog (voice)', 'credit_id': '52fe4284c3a36847f8024fa1', 'gender': 2, 'id': 12899, 'name': 'Jim Varney', 'order': 3, 'profile_path': '/eIo2jVVXYgjDtaHoF19Ll9vtW7h.jpg'}, {'cast_id': 18, 'character': 'Rex (voice)', 'credit_id': '52fe4284c3a36847f8024fa5', 'gender': 2, 'id': 12900, 'name': 'Wallace Shawn', 'order': 4, 'profile_path': '/oGE6JqPP2xH4tNORKNqxbNPYi7u.jpg'}, {'cast_id': 19, 'character': 'Hamm (voice)', 'credit_id': '52fe4284c3a36847f8024fa9', 'gender': 2, 'id': 7907, 'name': 'John Ratzenberger', 'order': 5, 'profile_path': '/yGechiKWL6TJDfVE2KPSJYqdMsY.jpg'}, {'cast_id': 20, 'character': 'Bo Peep (voice)', 'credit_id': '52fe4284c3a36847f8024fad', 'gender': 1, 'id': 8873, 'name': 'Annie Potts', 'order': 6, 'profile_path': '/eryXT84RL41jHSJcMy4kS3u9y6w.jpg'}, {'cast_id': 26, 'character': 'Andy (voice)', 'credit_id': '52fe4284c3a36847f8024fc1', 'gender': 0, 'id': 1116442, 'name': 'John Morris', 'order': 7, 'profile_path': '/vYGyvK4LzeaUCoNSHtsuqJUY15M.jpg'}, {'cast_id': 22, 'character': 'Sid (voice)', 'credit_id': '52fe4284c3a36847f8024fb1', 'gender': 2, 'id': 12901, 'name': 'Erik von Detten', 'order': 8, 'profile_path': '/twnF1ZaJ1FUNUuo6xLXwcxjayBE.jpg'}, {'cast_id': 23, 'character': 'Mrs. Davis (voice)', 'credit_id': '52fe4284c3a36847f8024fb5', 'gender': 1, 'id': 12133, 'name': 'Laurie Metcalf', 'order': 9, 'profile_path': '/unMMIT60eoBM2sN2nyR7EZ2BvvD.jpg'}, {'cast_id': 24, 'character': 'Sergeant (voice)', 'credit_id': '52fe4284c3a36847f8024fb9', 'gender': 2, 'id': 8655, 'name': 'R. Lee Ermey', 'order': 10, 'profile_path': '/r8GBqFBjypLUP9VVqDqfZ7wYbSs.jpg'}, {'cast_id': 25, 'character': 'Hannah (voice)', 'credit_id': '52fe4284c3a36847f8024fbd', 'gender': 1, 'id': 12903, 'name': 'Sarah Freeman', 'order': 11, 'profile_path': None}, {'cast_id': 27, 'character': 'TV Announcer (voice)', 'credit_id': '52fe4284c3a36847f8024fc5', 'gender': 2, 'id': 37221, 'name': 'Penn Jillette', 'order': 12, 'profile_path': '/zmAaXUdx12NRsssgHbk1T31j2x9.jpg'}]"
           },
           {
            "count": 1,
            "name": "[{'cast_id': 1, 'character': 'Alan Parrish', 'credit_id': '52fe44bfc3a36847f80a7c73', 'gender': 2, 'id': 2157, 'name': 'Robin Williams', 'order': 0, 'profile_path': '/sojtJyIV3lkUeThD7A2oHNm8183.jpg'}, {'cast_id': 8, 'character': 'Samuel Alan Parrish / Van Pelt', 'credit_id': '52fe44bfc3a36847f80a7c99', 'gender': 2, 'id': 8537, 'name': 'Jonathan Hyde', 'order': 1, 'profile_path': '/7il5D76vx6QVRVlpVvBPEC40MBi.jpg'}, {'cast_id': 2, 'character': 'Judy Sheperd', 'credit_id': '52fe44bfc3a36847f80a7c77', 'gender': 1, 'id': 205, 'name': 'Kirsten Dunst', 'order': 2, 'profile_path': '/wBXvh6PJd0IUVNpvatPC1kzuHtm.jpg'}, {'cast_id': 24, 'character': 'Peter Shepherd', 'credit_id': '52fe44c0c3a36847f80a7ce7', 'gender': 0, 'id': 145151, 'name': 'Bradley Pierce', 'order': 3, 'profile_path': '/j6iW0vVA23GQniAPSYI6mi4hiEW.jpg'}, {'cast_id': 10, 'character': 'Sarah Whittle', 'credit_id': '52fe44bfc3a36847f80a7c9d', 'gender': 1, 'id': 5149, 'name': 'Bonnie Hunt', 'order': 4, 'profile_path': '/7spiVQwmr8siw5QCcvvdRG3c7Lf.jpg'}, {'cast_id': 25, 'character': 'Nora Shepherd', 'credit_id': '52fe44c0c3a36847f80a7ceb', 'gender': 1, 'id': 10739, 'name': 'Bebe Neuwirth', 'order': 5, 'profile_path': '/xm58rpMRVDHS0IGttw1pTlqGwkN.jpg'}, {'cast_id': 26, 'character': 'Carl Bentley', 'credit_id': '52fe44c0c3a36847f80a7cef', 'gender': 2, 'id': 58563, 'name': 'David Alan Grier', 'order': 6, 'profile_path': '/5tkt3qRZTco4sz604aTIarQ0m8W.jpg'}, {'cast_id': 11, 'character': 'Carol Anne Parrish', 'credit_id': '52fe44bfc3a36847f80a7ca1', 'gender': 1, 'id': 1276, 'name': 'Patricia Clarkson', 'order': 7, 'profile_path': '/10ZSyaUqzUlKTd60HmeiGhlytZG.jpg'}, {'cast_id': 14, 'character': 'Alan Parrish (young)', 'credit_id': '52fe44bfc3a36847f80a7cad', 'gender': 0, 'id': 46530, 'name': 'Adam Hann-Byrd', 'order': 8, 'profile_path': '/hEoqDqtMO91hYWD5iDrDesnLDlt.jpg'}, {'cast_id': 13, 'character': 'Sarah Whittle (young)', 'credit_id': '52fe44bfc3a36847f80a7ca9', 'gender': 1, 'id': 56523, 'name': 'Laura Bell Bundy', 'order': 9, 'profile_path': '/8tAVDBRoZPjKfCbBDyh4iK9JNEp.jpg'}, {'cast_id': 31, 'character': 'Exterminator', 'credit_id': '52fe44c0c3a36847f80a7cff', 'gender': 2, 'id': 51551, 'name': 'James Handy', 'order': 10, 'profile_path': '/vm0WQmuP8jEGgFTd3VCcJe7zpUi.jpg'}, {'cast_id': 12, 'character': 'Mrs. Thomas the Realtor', 'credit_id': '52fe44bfc3a36847f80a7ca5', 'gender': 1, 'id': 56522, 'name': 'Gillian Barber', 'order': 11, 'profile_path': '/qoqPX15J5jh6Sy0A9JvvRJIuw64.jpg'}, {'cast_id': 28, 'character': 'Benjamin', 'credit_id': '52fe44c0c3a36847f80a7cf3', 'gender': 2, 'id': 1000304, 'name': 'Brandon Obray', 'order': 12, 'profile_path': None}, {'cast_id': 29, 'character': 'Caleb', 'credit_id': '52fe44c0c3a36847f80a7cf7', 'gender': 0, 'id': 188949, 'name': 'Cyrus Thiedeke', 'order': 13, 'profile_path': None}, {'cast_id': 30, 'character': 'Billy Jessup', 'credit_id': '52fe44c0c3a36847f80a7cfb', 'gender': 0, 'id': 1076551, 'name': 'Gary Joseph Thorup', 'order': 14, 'profile_path': None}, {'cast_id': 32, 'character': 'Cop', 'credit_id': '5588053fc3a36838530063f5', 'gender': 0, 'id': 1480246, 'name': 'Leonard Zola', 'order': 15, 'profile_path': None}, {'cast_id': 33, 'character': 'Bum', 'credit_id': '55935687925141645a002097', 'gender': 2, 'id': 25024, 'name': 'Lloyd Berry', 'order': 16, 'profile_path': '/s7SVCOtvcuQ9wRQPZfUdahb5x88.jpg'}, {'cast_id': 34, 'character': 'Jim Shepherd', 'credit_id': '559356d09251415df8002cb7', 'gender': 2, 'id': 27110, 'name': 'Malcolm Stewart', 'order': 17, 'profile_path': '/l2vgzkLR7GRr8ugjZCILA0OiliI.jpg'}, {'cast_id': 35, 'character': 'Martha Shepherd', 'credit_id': '55935730925141645a0020ad', 'gender': 0, 'id': 53715, 'name': 'Annabel Kershaw', 'order': 18, 'profile_path': '/1VqbvAohBwFhETZtDe76JXQcxKm.jpg'}, {'cast_id': 36, 'character': 'Gun Salesman', 'credit_id': '5593576992514167fd000610', 'gender': 2, 'id': 1379424, 'name': 'Darryl Henriques', 'order': 19, 'profile_path': '/7QMHooY9ewNQlE24WKAOdwW0evU.jpg'}, {'cast_id': 37, 'character': 'Paramedic', 'credit_id': '559357ae92514152de002f42', 'gender': 0, 'id': 1235504, 'name': 'Robyn Driscoll', 'order': 20, 'profile_path': None}, {'cast_id': 50, 'character': 'Paramedic', 'credit_id': '5657803b925141018f00a5dc', 'gender': 2, 'id': 25389, 'name': 'Peter Bryant', 'order': 21, 'profile_path': '/fkcx9Tnp25UC5HlI2eW3nGvumsZ.jpg'}, {'cast_id': 39, 'character': 'Girl', 'credit_id': '559358e292514152de002f63', 'gender': 0, 'id': 1483449, 'name': 'Sarah Gilson', 'order': 22, 'profile_path': None}, {'cast_id': 40, 'character': 'Girl', 'credit_id': '5593590d92514152db002df3', 'gender': 0, 'id': 1483450, 'name': 'Florica Vlad', 'order': 23, 'profile_path': None}, {'cast_id': 41, 'character': 'Baker', 'credit_id': '55935946c3a36869d1001b4d', 'gender': 0, 'id': 1483451, 'name': 'June Lion', 'order': 24, 'profile_path': None}, {'cast_id': 42, 'character': 'Pianist', 'credit_id': '5593597692514167fd000644', 'gender': 0, 'id': 1483452, 'name': 'Brenda Lockmuller', 'order': 25, 'profile_path': None}]"
           },
           {
            "count": 1,
            "name": "[{'cast_id': 2, 'character': 'Max Goldman', 'credit_id': '52fe466a9251416c75077a8d', 'gender': 2, 'id': 6837, 'name': 'Walter Matthau', 'order': 0, 'profile_path': '/xJVkvprOnzP5Zdh5y63y8HHniDZ.jpg'}, {'cast_id': 3, 'character': 'John Gustafson', 'credit_id': '52fe466a9251416c75077a91', 'gender': 2, 'id': 3151, 'name': 'Jack Lemmon', 'order': 1, 'profile_path': '/chZmNRYMtqkiDlatprGDH4BzGqG.jpg'}, {'cast_id': 4, 'character': 'Ariel Gustafson', 'credit_id': '52fe466a9251416c75077a95', 'gender': 1, 'id': 13567, 'name': 'Ann-Margret', 'order': 2, 'profile_path': '/jx5lTaJ5VXZHYB52gaOTAZ9STZk.jpg'}, {'cast_id': 5, 'character': 'Maria Sophia Coletta Ragetti', 'credit_id': '52fe466a9251416c75077a99', 'gender': 1, 'id': 16757, 'name': 'Sophia Loren', 'order': 3, 'profile_path': '/emKLhbji1c7BjcA2DdbWf0EP9zH.jpg'}, {'cast_id': 6, 'character': 'Melanie Gustafson', 'credit_id': '52fe466a9251416c75077a9d', 'gender': 1, 'id': 589, 'name': 'Daryl Hannah', 'order': 4, 'profile_path': '/4LLmp6AQdlj6ueGCRbVRSGvvFSt.jpg'}, {'cast_id': 9, 'character': 'Grandpa Gustafson', 'credit_id': '53e5fcc2c3a3684430000d65', 'gender': 2, 'id': 16523, 'name': 'Burgess Meredith', 'order': 5, 'profile_path': '/lm98oKloU33Q7QDIIMSyc4Pr2jA.jpg'}, {'cast_id': 10, 'character': 'Jacob Goldman', 'credit_id': '53e5fcd4c3a3684433000e1a', 'gender': 2, 'id': 7166, 'name': 'Kevin Pollak', 'order': 6, 'profile_path': '/kwu2T8CDnThZTzE88uiSgJ5eHXf.jpg'}]"
           }
          ],
          "nan_count": 0,
          "unique_count": 3
         }
        },
        {
         "dtype": "object",
         "name": "keywords",
         "stats": {
          "categories": [
           {
            "count": 1,
            "name": "[{'id': 931, 'name': 'jealousy'}, {'id': 4290, 'name': 'toy'}, {'id': 5202, 'name': 'boy'}, {'id': 6054, 'name': 'friendship'}, {'id': 9713, 'name': 'friends'}, {'id': 9823, 'name': 'rivalry'}, {'id': 165503, 'name': 'boy next door'}, {'id': 170722, 'name': 'new toy'}, {'id': 187065, 'name': 'toy comes to life'}]"
           },
           {
            "count": 1,
            "name": "[{'id': 10090, 'name': 'board game'}, {'id': 10941, 'name': 'disappearance'}, {'id': 15101, 'name': \"based on children's book\"}, {'id': 33467, 'name': 'new home'}, {'id': 158086, 'name': 'recluse'}, {'id': 158091, 'name': 'giant insect'}]"
           },
           {
            "count": 1,
            "name": "[{'id': 1495, 'name': 'fishing'}, {'id': 12392, 'name': 'best friend'}, {'id': 179431, 'name': 'duringcreditsstinger'}, {'id': 208510, 'name': 'old men'}]"
           }
          ],
          "nan_count": 0,
          "unique_count": 3
         }
        },
        {
         "dtype": "int64",
         "name": "_deepnote_index_column"
        }
       ],
       "row_count": 3,
       "rows": [
        {
         "_deepnote_index_column": 0,
         "budget": 30000000,
         "cast": "[{'cast_id': 14, 'character': 'Woody (voice)', 'credit_id': '52fe4284c3a36847f8024f95', 'gender': 2, 'id': 31, 'name': 'Tom Hanks', 'order': 0, 'profile_path': '/pQFoyx7rp09CJTAb932F2g8Nlho.jpg'}, {'cast_id': 15, 'character': 'Buzz Lightyear (voice)', 'credit_id': '52fe4284c3a36847f8024f99', 'gender': 2, 'id': 12898, 'name': 'Tim Allen', 'order': 1, 'profile_path': '/uX2xVf6pMmPepxnvFWyBtjexzgY.jpg'}, {'cast_id': 16, 'character': 'Mr. Potato Head (voice)', 'credit_id': '52fe4284c3a36847f8024f9d', 'gender': 2, 'id': 7167, 'name': 'Don Rickles', 'order': 2, 'profile_path': '/h5BcaDMPRVLHLDzbQavec4xfSdt.jpg'}, {'cast_id': 17, 'character': 'Slinky Dog (voice)', 'credit_id': '52fe4284c3a36847f8024fa1', 'gender': 2, 'id': 12899, 'name': 'Jim Varney', 'order': 3, 'profile_path': '/eIo2jVVXYgjDtaHoF19Ll9vtW7h.jpg'}, {'cast_id': 18, 'character': 'Rex (voice)', 'credit_id': '52fe4284c3a36847f8024fa5', 'gender': 2, 'id': 12900, 'name': 'Wallace Shawn', 'order': 4, 'profile_path': '/oGE6JqPP2xH4t…",
         "genres": "[{'id': 16, 'name': 'Animation'}, {'id': 35, 'name': 'Comedy'}, {'id': 10751, 'name': 'Family'}]",
         "id": 862,
         "keywords": "[{'id': 931, 'name': 'jealousy'}, {'id': 4290, 'name': 'toy'}, {'id': 5202, 'name': 'boy'}, {'id': 6054, 'name': 'friendship'}, {'id': 9713, 'name': 'friends'}, {'id': 9823, 'name': 'rivalry'}, {'id': 165503, 'name': 'boy next door'}, {'id': 170722, 'name': 'new toy'}, {'id': 187065, 'name': 'toy comes to life'}]",
         "original_language": "en",
         "overview": "Led by Woody, Andy's toys live happily in his room until Andy's birthday brings Buzz Lightyear onto the scene. Afraid of losing his place in Andy's heart, Woody plots against Buzz. But when circumstances separate Buzz and Woody from their owner, the duo eventually learns to put aside their differences.",
         "popularity": 21.946943,
         "release_date": "1995-10-30",
         "revenue": 373554033,
         "runtime": 81,
         "title": "Toy Story",
         "vote_average": 7.7,
         "vote_count": 5415
        },
        {
         "_deepnote_index_column": 1,
         "budget": 65000000,
         "cast": "[{'cast_id': 1, 'character': 'Alan Parrish', 'credit_id': '52fe44bfc3a36847f80a7c73', 'gender': 2, 'id': 2157, 'name': 'Robin Williams', 'order': 0, 'profile_path': '/sojtJyIV3lkUeThD7A2oHNm8183.jpg'}, {'cast_id': 8, 'character': 'Samuel Alan Parrish / Van Pelt', 'credit_id': '52fe44bfc3a36847f80a7c99', 'gender': 2, 'id': 8537, 'name': 'Jonathan Hyde', 'order': 1, 'profile_path': '/7il5D76vx6QVRVlpVvBPEC40MBi.jpg'}, {'cast_id': 2, 'character': 'Judy Sheperd', 'credit_id': '52fe44bfc3a36847f80a7c77', 'gender': 1, 'id': 205, 'name': 'Kirsten Dunst', 'order': 2, 'profile_path': '/wBXvh6PJd0IUVNpvatPC1kzuHtm.jpg'}, {'cast_id': 24, 'character': 'Peter Shepherd', 'credit_id': '52fe44c0c3a36847f80a7ce7', 'gender': 0, 'id': 145151, 'name': 'Bradley Pierce', 'order': 3, 'profile_path': '/j6iW0vVA23GQniAPSYI6mi4hiEW.jpg'}, {'cast_id': 10, 'character': 'Sarah Whittle', 'credit_id': '52fe44bfc3a36847f80a7c9d', 'gender': 1, 'id': 5149, 'name': 'Bonnie Hunt', 'order': 4, 'profile_path': '/7spiVQwmr…",
         "genres": "[{'id': 12, 'name': 'Adventure'}, {'id': 14, 'name': 'Fantasy'}, {'id': 10751, 'name': 'Family'}]",
         "id": 8844,
         "keywords": "[{'id': 10090, 'name': 'board game'}, {'id': 10941, 'name': 'disappearance'}, {'id': 15101, 'name': \"based on children's book\"}, {'id': 33467, 'name': 'new home'}, {'id': 158086, 'name': 'recluse'}, {'id': 158091, 'name': 'giant insect'}]",
         "original_language": "en",
         "overview": "When siblings Judy and Peter discover an enchanted board game that opens the door to a magical world, they unwittingly invite Alan -- an adult who's been trapped inside the game for 26 years -- into their living room. Alan's only hope for freedom is to finish the game, which proves risky as all three find themselves running from giant rhinoceroses, evil monkeys and other terrifying creatures.",
         "popularity": 17.015539,
         "release_date": "1995-12-15",
         "revenue": 262797249,
         "runtime": 104,
         "title": "Jumanji",
         "vote_average": 6.9,
         "vote_count": 2413
        },
        {
         "_deepnote_index_column": 2,
         "budget": 0,
         "cast": "[{'cast_id': 2, 'character': 'Max Goldman', 'credit_id': '52fe466a9251416c75077a8d', 'gender': 2, 'id': 6837, 'name': 'Walter Matthau', 'order': 0, 'profile_path': '/xJVkvprOnzP5Zdh5y63y8HHniDZ.jpg'}, {'cast_id': 3, 'character': 'John Gustafson', 'credit_id': '52fe466a9251416c75077a91', 'gender': 2, 'id': 3151, 'name': 'Jack Lemmon', 'order': 1, 'profile_path': '/chZmNRYMtqkiDlatprGDH4BzGqG.jpg'}, {'cast_id': 4, 'character': 'Ariel Gustafson', 'credit_id': '52fe466a9251416c75077a95', 'gender': 1, 'id': 13567, 'name': 'Ann-Margret', 'order': 2, 'profile_path': '/jx5lTaJ5VXZHYB52gaOTAZ9STZk.jpg'}, {'cast_id': 5, 'character': 'Maria Sophia Coletta Ragetti', 'credit_id': '52fe466a9251416c75077a99', 'gender': 1, 'id': 16757, 'name': 'Sophia Loren', 'order': 3, 'profile_path': '/emKLhbji1c7BjcA2DdbWf0EP9zH.jpg'}, {'cast_id': 6, 'character': 'Melanie Gustafson', 'credit_id': '52fe466a9251416c75077a9d', 'gender': 1, 'id': 589, 'name': 'Daryl Hannah', 'order': 4, 'profile_path': '/4LLmp6AQdlj6…",
         "genres": "[{'id': 10749, 'name': 'Romance'}, {'id': 35, 'name': 'Comedy'}]",
         "id": 15602,
         "keywords": "[{'id': 1495, 'name': 'fishing'}, {'id': 12392, 'name': 'best friend'}, {'id': 179431, 'name': 'duringcreditsstinger'}, {'id': 208510, 'name': 'old men'}]",
         "original_language": "en",
         "overview": "A family wedding reignites the ancient feud between next-door neighbors and fishing buddies John and Max. Meanwhile, a sultry Italian divorcée opens a restaurant at the local bait shop, alarming the locals who worry she'll scare the fish away. But she's less interested in seafood than she is in cooking up a hot time with Max.",
         "popularity": 11.7129,
         "release_date": "1995-12-22",
         "revenue": 0,
         "runtime": 101,
         "title": "Grumpier Old Men",
         "vote_average": 6.5,
         "vote_count": 92
        }
       ],
       "type": "dataframe"
      },
      "text/html": [
       "<div>\n",
       "<style scoped>\n",
       "    .dataframe tbody tr th:only-of-type {\n",
       "        vertical-align: middle;\n",
       "    }\n",
       "\n",
       "    .dataframe tbody tr th {\n",
       "        vertical-align: top;\n",
       "    }\n",
       "\n",
       "    .dataframe thead th {\n",
       "        text-align: right;\n",
       "    }\n",
       "</style>\n",
       "<table border=\"1\" class=\"dataframe\">\n",
       "  <thead>\n",
       "    <tr style=\"text-align: right;\">\n",
       "      <th></th>\n",
       "      <th>budget</th>\n",
       "      <th>genres</th>\n",
       "      <th>id</th>\n",
       "      <th>original_language</th>\n",
       "      <th>overview</th>\n",
       "      <th>popularity</th>\n",
       "      <th>release_date</th>\n",
       "      <th>revenue</th>\n",
       "      <th>runtime</th>\n",
       "      <th>title</th>\n",
       "      <th>vote_average</th>\n",
       "      <th>vote_count</th>\n",
       "      <th>cast</th>\n",
       "      <th>keywords</th>\n",
       "    </tr>\n",
       "  </thead>\n",
       "  <tbody>\n",
       "    <tr>\n",
       "      <th>0</th>\n",
       "      <td>30000000</td>\n",
       "      <td>[{'id': 16, 'name': 'Animation'}, {'id': 35, '...</td>\n",
       "      <td>862</td>\n",
       "      <td>en</td>\n",
       "      <td>Led by Woody, Andy's toys live happily in his ...</td>\n",
       "      <td>21.946943</td>\n",
       "      <td>1995-10-30</td>\n",
       "      <td>373554033.0</td>\n",
       "      <td>81.0</td>\n",
       "      <td>Toy Story</td>\n",
       "      <td>7.7</td>\n",
       "      <td>5415.0</td>\n",
       "      <td>[{'cast_id': 14, 'character': 'Woody (voice)',...</td>\n",
       "      <td>[{'id': 931, 'name': 'jealousy'}, {'id': 4290,...</td>\n",
       "    </tr>\n",
       "    <tr>\n",
       "      <th>1</th>\n",
       "      <td>65000000</td>\n",
       "      <td>[{'id': 12, 'name': 'Adventure'}, {'id': 14, '...</td>\n",
       "      <td>8844</td>\n",
       "      <td>en</td>\n",
       "      <td>When siblings Judy and Peter discover an encha...</td>\n",
       "      <td>17.015539</td>\n",
       "      <td>1995-12-15</td>\n",
       "      <td>262797249.0</td>\n",
       "      <td>104.0</td>\n",
       "      <td>Jumanji</td>\n",
       "      <td>6.9</td>\n",
       "      <td>2413.0</td>\n",
       "      <td>[{'cast_id': 1, 'character': 'Alan Parrish', '...</td>\n",
       "      <td>[{'id': 10090, 'name': 'board game'}, {'id': 1...</td>\n",
       "    </tr>\n",
       "    <tr>\n",
       "      <th>2</th>\n",
       "      <td>0</td>\n",
       "      <td>[{'id': 10749, 'name': 'Romance'}, {'id': 35, ...</td>\n",
       "      <td>15602</td>\n",
       "      <td>en</td>\n",
       "      <td>A family wedding reignites the ancient feud be...</td>\n",
       "      <td>11.712900</td>\n",
       "      <td>1995-12-22</td>\n",
       "      <td>0.0</td>\n",
       "      <td>101.0</td>\n",
       "      <td>Grumpier Old Men</td>\n",
       "      <td>6.5</td>\n",
       "      <td>92.0</td>\n",
       "      <td>[{'cast_id': 2, 'character': 'Max Goldman', 'c...</td>\n",
       "      <td>[{'id': 1495, 'name': 'fishing'}, {'id': 12392...</td>\n",
       "    </tr>\n",
       "  </tbody>\n",
       "</table>\n",
       "</div>"
      ],
      "text/plain": [
       "     budget                                             genres     id  \\\n",
       "0  30000000  [{'id': 16, 'name': 'Animation'}, {'id': 35, '...    862   \n",
       "1  65000000  [{'id': 12, 'name': 'Adventure'}, {'id': 14, '...   8844   \n",
       "2         0  [{'id': 10749, 'name': 'Romance'}, {'id': 35, ...  15602   \n",
       "\n",
       "  original_language                                           overview  \\\n",
       "0                en  Led by Woody, Andy's toys live happily in his ...   \n",
       "1                en  When siblings Judy and Peter discover an encha...   \n",
       "2                en  A family wedding reignites the ancient feud be...   \n",
       "\n",
       "   popularity release_date      revenue  runtime             title  \\\n",
       "0   21.946943   1995-10-30  373554033.0     81.0         Toy Story   \n",
       "1   17.015539   1995-12-15  262797249.0    104.0           Jumanji   \n",
       "2   11.712900   1995-12-22          0.0    101.0  Grumpier Old Men   \n",
       "\n",
       "   vote_average  vote_count  \\\n",
       "0           7.7      5415.0   \n",
       "1           6.9      2413.0   \n",
       "2           6.5        92.0   \n",
       "\n",
       "                                                cast  \\\n",
       "0  [{'cast_id': 14, 'character': 'Woody (voice)',...   \n",
       "1  [{'cast_id': 1, 'character': 'Alan Parrish', '...   \n",
       "2  [{'cast_id': 2, 'character': 'Max Goldman', 'c...   \n",
       "\n",
       "                                            keywords  \n",
       "0  [{'id': 931, 'name': 'jealousy'}, {'id': 4290,...  \n",
       "1  [{'id': 10090, 'name': 'board game'}, {'id': 1...  \n",
       "2  [{'id': 1495, 'name': 'fishing'}, {'id': 12392...  "
      ]
     },
     "execution_count": 5,
     "metadata": {},
     "output_type": "execute_result"
    }
   ],
   "source": [
    "movies.head(3)"
   ]
  },
  {
   "cell_type": "code",
   "execution_count": null,
   "metadata": {
    "cell_id": "e0fded3f3387482aa228d584d396aa31",
    "deepnote_cell_type": "code",
    "execution_context_id": "c4740c3a-6ed2-4dc5-ba33-0ff299ab674e",
    "execution_millis": 0,
    "execution_start": 1741804832529,
    "source_hash": "27128ab4"
   },
   "outputs": [],
   "source": [
    "#analysis of movies released over time\n",
    "movies['release_date'] = pd.to_datetime(movies['release_date'])\n",
    "movies['year'] = movies['release_date'].dt.year\n",
    "movies['month'] = movies['release_date'].dt.month\n",
    "movies['day'] = movies['release_date'].dt.day\n",
    "\n",
    "\n",
    "#group by year and count\n",
    "movies_by_year = movies.groupby('year').count()['id']"
   ]
  },
  {
   "cell_type": "code",
   "execution_count": null,
   "metadata": {
    "cell_id": "7e7af32cc26e429181cdc59b3be6ff04",
    "deepnote_cell_type": "code",
    "execution_context_id": "c4740c3a-6ed2-4dc5-ba33-0ff299ab674e",
    "execution_millis": 886,
    "execution_start": 1741804832577,
    "source_hash": "9057728b"
   },
   "outputs": [
    {
     "data": {
      "image/png": "[encoded data removed]",
      "text/plain": [
       "<Figure size 1200x600 with 1 Axes>"
      ]
     },
     "metadata": {
      "image/png": {
       "height": 547,
       "width": 1028
      }
     },
     "output_type": "display_data"
    }
   ],
   "source": [
    "#visual of number of movies released per year\n",
    "plt.figure(figsize=(12, 6))\n",
    "sns.barplot(x=movies_by_year.index, y=movies_by_year.values)\n",
    "plt.title('Number of Movies Released Over Time')\n",
    "plt.xlabel('Year')\n",
    "plt.ylabel('Number of Movies')\n",
    "plt.show()"
   ]
  },
  {
   "cell_type": "markdown",
   "metadata": {
    "cell_id": "445d91f4b66c409abb8d221bf48cbfb2",
    "deepnote_cell_type": "text-cell-p",
    "formattedRanges": []
   },
   "source": [
    "The number of movies released per year grew steadily until the 1970s, surged significantly from the 1980s to the 2010s due to technological advancements and globalization, peaked around 2015–2019 with the rise of streaming platforms, and then showed a decline, possibly due to industry saturation or external disruptions."
   ]
  },
  {
   "cell_type": "code",
   "execution_count": null,
   "metadata": {
    "cell_id": "bc9ca44adf2b46d0b9f04ee98a83292e",
    "deepnote_cell_type": "code",
    "execution_context_id": "c4740c3a-6ed2-4dc5-ba33-0ff299ab674e",
    "execution_millis": 513,
    "execution_start": 1741804833517,
    "source_hash": "d8727b21"
   },
   "outputs": [
    {
     "data": {
      "image/png": "[encoded data removed]",
      "text/plain": [
       "<Figure size 1200x600 with 1 Axes>"
      ]
     },
     "metadata": {
      "image/png": {
       "height": 547,
       "width": 1031
      }
     },
     "output_type": "display_data"
    }
   ],
   "source": [
    "#visual of distribution of movie popularity\n",
    "plt.figure(figsize=(12, 6))\n",
    "sns.histplot(movies['popularity'], bins=50, kde=True)\n",
    "plt.title('Distribution of Movie Popularity')\n",
    "plt.xlabel('Popularity')\n",
    "plt.ylabel('Density')\n",
    "plt.show()"
   ]
  },
  {
   "cell_type": "markdown",
   "metadata": {
    "cell_id": "4ac7471a7b8b484b9e641f5ef9ec1843",
    "deepnote_cell_type": "text-cell-p",
    "formattedRanges": []
   },
   "source": [
    "The Distribution of Movie Popularity chart shows a right-skewed distribution, indicating that most movies have low popularity scores, while a small number of movies are extremely popular, reflecting the dominance of blockbuster films in the industry."
   ]
  },
  {
   "cell_type": "code",
   "execution_count": null,
   "metadata": {
    "cell_id": "233e70bb95184c5880387052d08a5979",
    "deepnote_cell_type": "code",
    "execution_context_id": "c4740c3a-6ed2-4dc5-ba33-0ff299ab674e",
    "execution_millis": 230,
    "execution_start": 1741804834089,
    "source_hash": "2c63b60f"
   },
   "outputs": [
    {
     "data": {
      "image/png": "[encoded data removed]",
      "text/plain": [
       "<Figure size 1200x600 with 1 Axes>"
      ]
     },
     "metadata": {
      "image/png": {
       "height": 547,
       "width": 1001
      }
     },
     "output_type": "display_data"
    }
   ],
   "source": [
    "#relationship between popularity and revenue\n",
    "\n",
    "plt.figure(figsize=(12, 6))\n",
    "sns.scatterplot(x=movies['popularity'], y=movies['revenue'])\n",
    "plt.title('Popularity vs. Revenue')\n",
    "plt.xlabel('Popularity')\n",
    "plt.ylabel('Revenue')\n",
    "plt.show()"
   ]
  },
  {
   "cell_type": "markdown",
   "metadata": {
    "cell_id": "5a734d5828ea462091e1476fdcfb4e3d",
    "deepnote_cell_type": "text-cell-p",
    "formattedRanges": []
   },
   "source": [
    "The Popularity vs. Revenue scatter plot shows that while higher popularity generally correlates with higher revenue, most movies have low popularity and low revenue, with a few blockbuster hits achieving extreme values in both metrics."
   ]
  },
  {
   "cell_type": "code",
   "execution_count": null,
   "metadata": {
    "cell_id": "52272e7b10e34717aeedbcbdbcbf59f6",
    "deepnote_cell_type": "code",
    "execution_context_id": "c4740c3a-6ed2-4dc5-ba33-0ff299ab674e",
    "execution_millis": 1406,
    "execution_start": 1741804834385,
    "source_hash": "d318d0f6"
   },
   "outputs": [
    {
     "data": {
      "image/png": "[encoded data removed]",
      "text/plain": [
       "<Figure size 1200x600 with 1 Axes>"
      ]
     },
     "metadata": {
      "image/png": {
       "height": 616,
       "width": 1027
      }
     },
     "output_type": "display_data"
    }
   ],
   "source": [
    "#Identify most common movie genre\n",
    "\n",
    "import ast\n",
    "from collections import Counter\n",
    "\n",
    "# Convert genres from string to list\n",
    "movies['genres'] = movies['genres'].apply(lambda x: ast.literal_eval(x) if isinstance(x, str) else [])\n",
    "movies['genres'] = movies['genres'].apply(lambda x: [i['name'] for i in x])\n",
    "\n",
    "# Count occurrences of each genre\n",
    "all_genres = [genre for sublist in movies['genres'] for genre in sublist]\n",
    "genre_counts = Counter(all_genres)\n",
    "\n",
    "# Plot genre distribution\n",
    "plt.figure(figsize=(12,6))\n",
    "sns.barplot(x=list(genre_counts.keys()), y=list(genre_counts.values()))\n",
    "plt.xticks(rotation=45)\n",
    "plt.xlabel(\"Genres\")\n",
    "plt.ylabel(\"Count\")\n",
    "plt.title(\"Most Common Movie Genres\")\n",
    "plt.show()"
   ]
  },
  {
   "cell_type": "markdown",
   "metadata": {
    "cell_id": "4e5acad7124941aabe91ad7b32c0d08f",
    "deepnote_cell_type": "text-cell-p",
    "formattedRanges": []
   },
   "source": [
    "The Most Common Movie Genres chart shows that Drama, Comedy, and Thriller are the most frequently produced movie genres, while genres like Western, War, and TV Movie are significantly less common."
   ]
  },
  {
   "cell_type": "code",
   "execution_count": null,
   "metadata": {
    "cell_id": "856c6b1ef72e4d40a10cd222d5ec001b",
    "deepnote_cell_type": "code",
    "execution_context_id": "c4740c3a-6ed2-4dc5-ba33-0ff299ab674e",
    "execution_millis": 415,
    "execution_start": 1741804835837,
    "source_hash": "c8a098ba"
   },
   "outputs": [
    {
     "data": {
      "image/png": "[encoded data removed]",
      "text/plain": [
       "<Figure size 1200x600 with 1 Axes>"
      ]
     },
     "metadata": {
      "image/png": {
       "height": 547,
       "width": 1014
      }
     },
     "output_type": "display_data"
    }
   ],
   "source": [
    "#distriution of movie ratings\n",
    "\n",
    "plt.figure(figsize=(12, 6))\n",
    "sns.histplot(movies['vote_average'], bins=20, kde=True)\n",
    "plt.title('Distribution of Movie Ratings')\n",
    "plt.xlabel('Average Rating')\n",
    "plt.ylabel('Number of Movies')\n",
    "plt.show()"
   ]
  },
  {
   "cell_type": "markdown",
   "metadata": {
    "cell_id": "2cc9cfc9b8444561b82dcf5a582b6d93",
    "deepnote_cell_type": "text-cell-p",
    "formattedRanges": []
   },
   "source": [
    "The Distribution of Movie Ratings chart shows a normal distribution centered around 6, indicating that most movies receive average ratings between 5 and 7, while very few movies are rated extremely low (0–2) or extremely high (9–10)."
   ]
  },
  {
   "cell_type": "code",
   "execution_count": null,
   "metadata": {
    "cell_id": "008053e8b37c47cbbfc24e4a490c01dd",
    "deepnote_cell_type": "code",
    "execution_context_id": "c4740c3a-6ed2-4dc5-ba33-0ff299ab674e",
    "execution_millis": 83096,
    "execution_start": 1741804836301,
    "source_hash": "442e9aee"
   },
   "outputs": [
    {
     "data": {
      "image/png": "[encoded data removed]",
      "text/plain": [
       "<Figure size 1200x600 with 1 Axes>"
      ]
     },
     "metadata": {
      "image/png": {
       "height": 547,
       "width": 1010
      }
     },
     "output_type": "display_data"
    }
   ],
   "source": [
    "#Distribution of user ratings\n",
    "\n",
    "plt.figure(figsize=(12, 6))\n",
    "sns.histplot(ratings['rating'], bins=20, kde=True)\n",
    "plt.title('Distribution of User Ratings')\n",
    "plt.xlabel('Rating')\n",
    "plt.ylabel('Number of Users')\n",
    "plt.show()"
   ]
  },
  {
   "cell_type": "markdown",
   "metadata": {
    "cell_id": "5c0d2fac60f5448a86d64f515c807bde",
    "deepnote_cell_type": "text-cell-p",
    "formattedRanges": []
   },
   "source": [
    "The Distribution of User Ratings chart shows that users tend to give whole number ratings (1, 2, 3, 4, 5) more frequently, creating a spiked pattern, with ratings of 4 and 5 being the most common, indicating a positive bias in user reviews."
   ]
  },
  {
   "cell_type": "code",
   "execution_count": null,
   "metadata": {
    "cell_id": "82e35f422ea645ee9a0d761ba7702a95",
    "deepnote_cell_type": "code",
    "execution_context_id": "c4740c3a-6ed2-4dc5-ba33-0ff299ab674e",
    "execution_millis": 579,
    "execution_start": 1741804919445,
    "source_hash": "63abaaa2"
   },
   "outputs": [
    {
     "data": {
      "image/png": "[encoded data removed]",
      "text/plain": [
       "<Figure size 1200x600 with 1 Axes>"
      ]
     },
     "metadata": {
      "image/png": {
       "height": 547,
       "width": 1023
      }
     },
     "output_type": "display_data"
    }
   ],
   "source": [
    "#Barplot of top 10 most rated movies\n",
    "top_rated = ratings.groupby('movieId')['rating'].count().sort_values(ascending=False)[:10]\n",
    "\n",
    "plt.figure(figsize=(12, 6))\n",
    "sns.barplot(x=top_rated.index, y=top_rated.values)\n",
    "plt.title('Top 10 Most Rated Movies')\n",
    "plt.xlabel('Movie ID')\n",
    "plt.ylabel('Number of Ratings')\n",
    "plt.show()"
   ]
  },
  {
   "cell_type": "markdown",
   "metadata": {
    "cell_id": "2e0bad0424ed4f12b9cb80e115a0cc27",
    "deepnote_cell_type": "text-cell-p",
    "formattedRanges": []
   },
   "source": [
    "The Top 10 Most Rated Movies chart shows that certain movies have received significantly more ratings than others, suggesting they are either highly popular, widely available, or have strong audience engagement, with the highest-rated movies surpassing 90,000 ratings."
   ]
  },
  {
   "cell_type": "code",
   "execution_count": null,
   "metadata": {
    "cell_id": "e3f91e6406cd4303b5f6ef8c8b69cfb5",
    "deepnote_cell_type": "code",
    "execution_context_id": "c4740c3a-6ed2-4dc5-ba33-0ff299ab674e",
    "execution_millis": 1141,
    "execution_start": 1741804920069,
    "source_hash": "e470d543"
   },
   "outputs": [
    {
     "data": {
      "image/png": "[encoded data removed]",
      "text/plain": [
       "<Figure size 1000x500 with 1 Axes>"
      ]
     },
     "metadata": {
      "image/png": {
       "height": 475,
       "width": 868
      }
     },
     "output_type": "display_data"
    }
   ],
   "source": [
    "#histogram of ratings per user\n",
    "\n",
    "user_ratings = ratings.groupby(\"movieId\").count()[\"rating\"]\n",
    "\n",
    "plt.figure(figsize=(10,5))\n",
    "sns.histplot(user_ratings, bins=50, kde=True)\n",
    "plt.title(\"Number of Ratings Per Movie\")\n",
    "plt.xlabel(\"Number of Ratings\")\n",
    "plt.ylabel(\"Count of Movies\")\n",
    "plt.xscale(\"log\")  # Log scale to handle large differences\n",
    "plt.show()"
   ]
  },
  {
   "cell_type": "markdown",
   "metadata": {
    "cell_id": "8fc80905bed9431a8ad564d0efd0abc1",
    "deepnote_cell_type": "text-cell-p",
    "formattedRanges": []
   },
   "source": [
    "The Number of Ratings Per Movie chart follows a power-law distribution, showing that most movies receive very few ratings, while a small number of popular movies accumulate thousands of ratings, indicating a significant imbalance in user engagement across films."
   ]
  },
  {
   "cell_type": "code",
   "execution_count": null,
   "metadata": {
    "cell_id": "642f1e8fe43546679ad54b26a4787679",
    "deepnote_cell_type": "code",
    "execution_context_id": "c4740c3a-6ed2-4dc5-ba33-0ff299ab674e",
    "execution_millis": 667,
    "execution_start": 1741804921261,
    "source_hash": "b90fcb82"
   },
   "outputs": [
    {
     "data": {
      "image/png": "[encoded data removed]",
      "text/plain": [
       "<Figure size 1200x600 with 1 Axes>"
      ]
     },
     "metadata": {
      "image/png": {
       "height": 547,
       "width": 988
      }
     },
     "output_type": "display_data"
    }
   ],
   "source": [
    "#bar plot of top 10 highest rated movies\n",
    "\n",
    "top_rated = ratings.groupby('movieId')['rating'].mean().sort_values(ascending=False)[:10]\n",
    "\n",
    "plt.figure(figsize=(12, 6))\n",
    "sns.barplot(x=top_rated.index, y=top_rated.values)\n",
    "plt.title('Top 10 Highest Rated Movies')\n",
    "plt.xlabel('Movie ID')\n",
    "plt.ylabel('Average Rating')\n",
    "plt.show()"
   ]
  },
  {
   "cell_type": "markdown",
   "metadata": {
    "cell_id": "c3d4dd74619249fd9daad3fa397dd4da",
    "deepnote_cell_type": "text-cell-p",
    "formattedRanges": []
   },
   "source": [
    "The Top 10 Highest Rated Movies chart shows that all of these movies have received a perfect or near-perfect rating of 5.0, suggesting they are either highly niche, critically acclaimed, or rated by a small number of highly engaged users."
   ]
  },
  {
   "cell_type": "markdown",
   "metadata": {
    "cell_id": "a6aa7e56f3534de48925f6c3fc5e0814",
    "deepnote_cell_type": "text-cell-h3",
    "formattedRanges": []
   },
   "source": [
    "### Data Preprocessing/ Transformation"
   ]
  },
  {
   "cell_type": "markdown",
   "metadata": {
    "cell_id": "f95fde319cf74a23b21439e7164cad27",
    "deepnote_cell_type": "text-cell-p",
    "formattedRanges": [
     {
      "fromCodePoint": 0,
      "marks": {
       "bold": true
      },
      "toCodePoint": 41,
      "type": "marks"
     }
    ]
   },
   "source": [
    "Feature engineering and model preparation"
   ]
  },
  {
   "cell_type": "markdown",
   "metadata": {
    "cell_id": "60179343b057400e82e3f4454f57cebe",
    "deepnote_cell_type": "text-cell-p",
    "formattedRanges": []
   },
   "source": [
    "Now, I'll transform the raw data into useful features that our recommendation models can use."
   ]
  },
  {
   "cell_type": "code",
   "execution_count": 1,
   "metadata": {
    "cell_id": "05bcda9eb01641c48538704c006b4209",
    "deepnote_cell_type": "code",
    "execution_context_id": "c4740c3a-6ed2-4dc5-ba33-0ff299ab674e",
    "execution_millis": 6170,
    "execution_start": 1741805019895,
    "source_hash": "48ec078c"
   },
   "outputs": [],
   "source": [
    "#load movies and ratings from the new dataset\n",
    "import pandas as pd\n",
    "import matplotlib.pyplot as plt\n",
    "import seaborn as sns\n",
    "import numpy as np\n",
    "import ast\n",
    "\n",
    "movies = pd.read_csv('cleaned_movies.csv')\n",
    "ratings = pd.read_csv('cleaned_ratings.csv')"
   ]
  },
  {
   "cell_type": "markdown",
   "metadata": {
    "cell_id": "cf1f0862600b414d8a101c98bd9b3641",
    "deepnote_cell_type": "text-cell-h3",
    "formattedRanges": []
   },
   "source": [
    "#### Content-based Feature Engineering\n",
    "\n",
    "Content-Based Filtering recommends movies based on similarity in content (e.g., genres, descriptions, and keywords)."
   ]
  },
  {
   "cell_type": "markdown",
   "metadata": {
    "cell_id": "cc43939586e94ac19a1b271fc910a7bb",
    "deepnote_cell_type": "text-cell-p",
    "formattedRanges": []
   },
   "source": [
    "The genres column is stored as a list. We will convert it into a string of genre names."
   ]
  },
  {
   "cell_type": "code",
   "execution_count": 2,
   "metadata": {
    "cell_id": "be1327d5b9464136b579f44b9e7f6c51",
    "deepnote_cell_type": "code",
    "execution_context_id": "c4740c3a-6ed2-4dc5-ba33-0ff299ab674e",
    "execution_millis": 826,
    "execution_start": 1741805026121,
    "source_hash": "51af3d26"
   },
   "outputs": [],
   "source": [
    "# Convert genres column from list of dictionaries to a string of genres\n",
    "movies['genres'] = movies['genres'].apply(lambda x: ' '.join([i['name'] for i in ast.literal_eval(x)]) if isinstance(x, str) else '')"
   ]
  },
  {
   "cell_type": "markdown",
   "metadata": {
    "cell_id": "ae651a0fa3f94ffb87510af9d0786a00",
    "deepnote_cell_type": "text-cell-p",
    "formattedRanges": []
   },
   "source": [
    "Similarly, we will process keywords to extract important terms."
   ]
  },
  {
   "cell_type": "code",
   "execution_count": 3,
   "metadata": {
    "cell_id": "ee222f2112a74f01b89de09e805df317",
    "deepnote_cell_type": "code",
    "execution_context_id": "c4740c3a-6ed2-4dc5-ba33-0ff299ab674e",
    "execution_millis": 1311,
    "execution_start": 1741805027021,
    "source_hash": "8ebd4452"
   },
   "outputs": [],
   "source": [
    "# Convert keywords column from list of dictionaries to a string of keywords\n",
    "movies['keywords'] = movies['keywords'].apply(lambda x: ' '.join([i['name'] for i in ast.literal_eval(x)]) if isinstance(x, str) else '')"
   ]
  },
  {
   "cell_type": "code",
   "execution_count": 4,
   "metadata": {
    "cell_id": "3176fa46d5ba451494e65204e7473c42",
    "deepnote_cell_type": "code",
    "execution_context_id": "c4740c3a-6ed2-4dc5-ba33-0ff299ab674e",
    "execution_millis": 3497,
    "execution_start": 1741805028381,
    "source_hash": "468196f5"
   },
   "outputs": [
    {
     "name": "stdout",
     "output_type": "stream",
     "text": [
      "TF-IDF Matrix Shape: (45503, 5000)\n"
     ]
    }
   ],
   "source": [
    "from sklearn.feature_extraction.text import TfidfVectorizer\n",
    "import numpy as np\n",
    "\n",
    "# Replace NaN overviews with empty strings\n",
    "movies['overview'] = movies['overview'].fillna('')\n",
    "\n",
    "# Create a TF-IDF Vectorizer for overview\n",
    "tfidf = TfidfVectorizer(stop_words='english', max_features=5000)\n",
    "\n",
    "# Transform overview text into numerical vectors\n",
    "tfidf_matrix = tfidf.fit_transform(movies['overview'])\n",
    "\n",
    "# Print shape (number of movies, number of extracted features)\n",
    "print(\"TF-IDF Matrix Shape:\", tfidf_matrix.shape)"
   ]
  },
  {
   "cell_type": "markdown",
   "metadata": {
    "cell_id": "b8f87fb1e8d6402b88846a5fede1076f",
    "deepnote_cell_type": "text-cell-p",
    "formattedRanges": []
   },
   "source": [
    "We will use Cosine Similarity to measure how similar two movies are based on their content."
   ]
  },
  {
   "cell_type": "code",
   "execution_count": 5,
   "metadata": {
    "cell_id": "f5371c4b4814440e8da5530a589d65a6",
    "deepnote_cell_type": "code",
    "deepnote_to_be_reexecuted": true
   },
   "outputs": [
    {
     "name": "stdout",
     "output_type": "stream",
     "text": [
      "Cosine Similarity Matrix Shape: (45503, 45503)\n"
     ]
    }
   ],
   "source": [
    "from sklearn.metrics.pairwise import cosine_similarity\n",
    "\n",
    "# Compute the cosine similarity matrix\n",
    "cosine_sim = cosine_similarity(tfidf_matrix, tfidf_matrix)\n",
    "\n",
    "# Print shape of similarity matrix\n",
    "print(\"Cosine Similarity Matrix Shape:\", cosine_sim.shape)"
   ]
  },
  {
   "cell_type": "code",
   "execution_count": 6,
   "metadata": {},
   "outputs": [],
   "source": [
    "# Create a mapping of movie title to index\n",
    "movie_indices = pd.Series(movies.index, index=movies['title']).drop_duplicates()"
   ]
  },
  {
   "cell_type": "code",
   "execution_count": 7,
   "metadata": {},
   "outputs": [
    {
     "name": "stdout",
     "output_type": "stream",
     "text": [
      "11316                                     Household Saints\n",
      "30515                       Bonnie and Clyde Italian Style\n",
      "32001                                     Honor Thy Father\n",
      "34751                                    Start Liquidation\n",
      "23150                                           Blood Ties\n",
      "25915     Johan Falk: GSI - Gruppen för särskilda insatser\n",
      "26319                                   Beck 28 - Familjen\n",
      "28192    Eurocrime! The Italian Cop and Gangster Films ...\n",
      "10839                                             Election\n",
      "41527                                        Live by Night\n",
      "Name: title, dtype: object\n"
     ]
    }
   ],
   "source": [
    "def recommend_movies(title, cosine_sim=cosine_sim, num_recommendations=10):\n",
    "    # Get the index of the movie\n",
    "    idx = movie_indices.get(title, None)\n",
    "    \n",
    "    if idx is None:\n",
    "        return \"Movie not found.\"\n",
    "    \n",
    "    # Get similarity scores for all movies\n",
    "    sim_scores = list(enumerate(cosine_sim[idx]))\n",
    "    \n",
    "    # Sort movies based on similarity scores\n",
    "    sim_scores = sorted(sim_scores, key=lambda x: x[1], reverse=True)\n",
    "    \n",
    "    # Get indices of top recommended movies\n",
    "    movie_indices_recommended = [i[0] for i in sim_scores[1:num_recommendations+1]]\n",
    "    \n",
    "    # Return recommended movie titles\n",
    "    return movies['title'].iloc[movie_indices_recommended]\n",
    "\n",
    "# Example: Recommend movies similar to \"The Godfather\"\n",
    "print(recommend_movies(\"The Godfather\"))"
   ]
  },
  {
   "cell_type": "markdown",
   "metadata": {},
   "source": [
    "We have just built the content-based recommendation system using TF-IDF vectorization and cosine similarity.\n",
    "\n",
    "This approach does not require traditional training (like in supervised learning) because TF-IDF and cosine similarity directly compute recommendations."
   ]
  },
  {
   "cell_type": "markdown",
   "metadata": {},
   "source": [
    "#### Collaborative Filtering Feature Engineering\n",
    "\n",
    "Collaborative Filtering recommends movies based on user interactions rather than content. It assumes that if two users liked the same movie, they are likely to have similar tastes."
   ]
  },
  {
   "cell_type": "markdown",
   "metadata": {},
   "source": [
    "The ratings dataset contains:\n",
    "*\tuserId (User who rated the movie)\n",
    "*\tmovieId (Movie that was rated)\n",
    "*\trating (Rating given)\n",
    "\n",
    "We will convert this into a matrix where:\n",
    "*\tRows = Users\n",
    "*\tColumns = Movies\n",
    "*\tValues = Ratings given by users\n",
    "\n",
    "\n",
    "We will take a random sample of users and their ratings while maintaining the overall distribution."
   ]
  },
  {
   "cell_type": "code",
   "execution_count": 8,
   "metadata": {},
   "outputs": [
    {
     "name": "stdout",
     "output_type": "stream",
     "text": [
      "Reduced Ratings Dataset Shape: (100000, 3)\n"
     ]
    }
   ],
   "source": [
    "import pandas as pd\n",
    "\n",
    "# Load the cleaned ratings dataset\n",
    "ratings = pd.read_csv(\"cleaned_ratings.csv\")\n",
    "\n",
    "# Set sample size (e.g., 100,000 ratings)\n",
    "sample_size = 100000\n",
    "\n",
    "# Randomly sample from ratings dataset\n",
    "ratings_sampled = ratings.sample(n=sample_size, random_state=42)\n",
    "\n",
    "# Print shape of the reduced dataset\n",
    "print(\"Reduced Ratings Dataset Shape:\", ratings_sampled.shape)"
   ]
  },
  {
   "cell_type": "markdown",
   "metadata": {},
   "source": [
    "Since the User-Item Matrix is sparse (many missing ratings), we use Singular Value Decomposition (SVD) to reduce dimensions and find latent features."
   ]
  },
  {
   "cell_type": "code",
   "execution_count": 9,
   "metadata": {},
   "outputs": [
    {
     "name": "stdout",
     "output_type": "stream",
     "text": [
      "U shape: (58619, 50)\n",
      "Sigma shape: (50, 50)\n",
      "Vt shape: (50, 9425)\n"
     ]
    }
   ],
   "source": [
    "from scipy.sparse.linalg import svds\n",
    "import numpy as np\n",
    "\n",
    "# Create user-item matrix\n",
    "user_item_matrix = ratings_sampled.pivot(index='userId', columns='movieId', values='rating').fillna(0)\n",
    "\n",
    "# Convert matrix to numpy array\n",
    "U, sigma, Vt = svds(user_item_matrix.values, k=50)  # Reduce to 50 latent factors\n",
    "\n",
    "# Convert sigma into diagonal matrix\n",
    "sigma = np.diag(sigma)\n",
    "\n",
    "# Print matrix shapes\n",
    "print(\"U shape:\", U.shape)\n",
    "print(\"Sigma shape:\", sigma.shape)\n",
    "print(\"Vt shape:\", Vt.shape)"
   ]
  },
  {
   "cell_type": "markdown",
   "metadata": {},
   "source": [
    "We use the SVD components to estimate missing ratings."
   ]
  },
  {
   "cell_type": "code",
   "execution_count": 10,
   "metadata": {},
   "outputs": [
    {
     "name": "stdout",
     "output_type": "stream",
     "text": [
      "Predicted Ratings Matrix Shape: (58619, 9425)\n"
     ]
    }
   ],
   "source": [
    "# Reconstruct the ratings matrix\n",
    "predicted_ratings = np.dot(np.dot(U, sigma), Vt)\n",
    "\n",
    "# Convert back to DataFrame\n",
    "predicted_ratings_df = pd.DataFrame(predicted_ratings, index=user_item_matrix.index, columns=user_item_matrix.columns)\n",
    "\n",
    "# Print shape\n",
    "print(\"Predicted Ratings Matrix Shape:\", predicted_ratings_df.shape)"
   ]
  },
  {
   "cell_type": "code",
   "execution_count": 11,
   "metadata": {},
   "outputs": [
    {
     "name": "stdout",
     "output_type": "stream",
     "text": [
      "Available user IDs: [8, 9, 11, 15, 16, 24, 32, 37, 40, 43]\n"
     ]
    }
   ],
   "source": [
    "# Display a sample of user IDs\n",
    "print(\"Available user IDs:\", predicted_ratings_df.index[:10].tolist())"
   ]
  },
  {
   "cell_type": "markdown",
   "metadata": {},
   "source": [
    "Now, we define a function to recommend movies to a user based on predicted ratings."
   ]
  },
  {
   "cell_type": "code",
   "execution_count": 12,
   "metadata": {},
   "outputs": [
    {
     "name": "stdout",
     "output_type": "stream",
     "text": [
      "Index([590, 1193, 1270, 293, 1214, 4226, 47, 318, 1197, 2571], dtype='int64', name='movieId')\n"
     ]
    }
   ],
   "source": [
    "def recommend_movies_collaborative(user_id, num_recommendations=10):\n",
    "    if user_id not in predicted_ratings_df.index:\n",
    "        return \"User not found.\"\n",
    "    \n",
    "    # Get user's predicted ratings\n",
    "    user_ratings = predicted_ratings_df.loc[user_id].sort_values(ascending=False)\n",
    "    \n",
    "    # Get top recommended movie IDs\n",
    "    recommended_movie_ids = user_ratings.index[:num_recommendations]\n",
    "    \n",
    "    return recommended_movie_ids\n",
    "\n",
    "# Example: Recommend movies for user 1\n",
    "print(recommend_movies_collaborative(11))"
   ]
  },
  {
   "cell_type": "markdown",
   "metadata": {},
   "source": [
    "We have successfully built a recommendation system using Matrix Factorization (SVD).\n",
    "\n",
    "Feature Engineering\n",
    "* Reduced dataset size by randomly sampling 100,000 ratings to prevent kernel crashes.\n",
    "* Created a User-Item Interaction Matrix, where rows are users, columns are movies, and values are ratings.\n",
    "* Performed Singular Value Decomposition (SVD) to extract latent features representing user and movie preferences.\n",
    "* Reconstructed the ratings matrix using these latent factors to predict missing ratings."
   ]
  },
  {
   "cell_type": "markdown",
   "metadata": {},
   "source": [
    "#### Popularity Filtering Feature Engineering\n",
    "\n",
    "Popularity-Based Filtering recommends movies that are widely liked by many users, regardless of personal preferences. It is useful when:\n",
    "*\tA user is new and has no rating history (cold-start problem).\n",
    "*\tThere are general trending movies that appeal to a broad audience."
   ]
  },
  {
   "cell_type": "markdown",
   "metadata": {},
   "source": [
    "A simple way to rank movies is by their weighted average rating using the IMDB formula:\n",
    "\n",
    "Weighted Average Rating = (v)(v + m) * R + (m)(v + m) * C\n",
    "\n",
    "Where:\n",
    "*\tR = Average rating of the movie.\n",
    "*\tv = Number of ratings received by the movie.\n",
    "*\tm = Minimum number of votes required to be considered (threshold).\n",
    "*\tC = Mean rating across all movies."
   ]
  },
  {
   "cell_type": "code",
   "execution_count": 13,
   "metadata": {},
   "outputs": [
    {
     "name": "stdout",
     "output_type": "stream",
     "text": [
      "Unique Movies After Dropping Duplicates: 45413\n"
     ]
    }
   ],
   "source": [
    "# Load cleaned movies dataset\n",
    "movies = pd.read_csv(\"cleaned_movies.csv\")\n",
    "\n",
    "# Remove duplicate movie IDs (keep the first occurrence)\n",
    "movies = movies.drop_duplicates(subset='id', keep='first')\n",
    "\n",
    "# Print the number of unique movies\n",
    "print(\"Unique Movies After Dropping Duplicates:\", movies['id'].nunique())"
   ]
  },
  {
   "cell_type": "code",
   "execution_count": 14,
   "metadata": {},
   "outputs": [
    {
     "name": "stdout",
     "output_type": "stream",
     "text": [
      "                              title  popularity_score\n",
      "2019              The Addams Family          4.198591\n",
      "1213  The Day the Earth Stood Still          4.155905\n",
      "923              To Be or Not to Be          4.060701\n",
      "1260               Forbidden Planet          4.025970\n",
      "1247                        Ben-Hur          4.009539\n",
      "905                         Rebecca          3.995706\n",
      "910                To Catch a Thief          3.986102\n",
      "899                Sunset Boulevard          3.976363\n",
      "1244                  The Big Sleep          3.966445\n",
      "1266        When Harry Met Sally...          3.945995\n"
     ]
    }
   ],
   "source": [
    "# Load the cleaned ratings dataset\n",
    "ratings = pd.read_csv(\"cleaned_ratings.csv\")\n",
    "\n",
    "# Compute the average rating for each movie\n",
    "average_rating = ratings.groupby('movieId')['rating'].mean()\n",
    "\n",
    "# Compute the number of votes (ratings) per movie\n",
    "vote_count = ratings.groupby('movieId')['rating'].count()\n",
    "\n",
    "# Define threshold: Movies with at least 'm' votes\n",
    "m = vote_count.quantile(0.90)  # Top 10% most-rated movies\n",
    "\n",
    "# Compute the mean rating across all movies\n",
    "C = average_rating.mean()\n",
    "\n",
    "# Filter movies that have votes greater than 'm'\n",
    "popular_movies = vote_count[vote_count >= m].index\n",
    "\n",
    "# Ensure movies dataset only includes popular movies\n",
    "movies_popular = movies[movies['id'].isin(popular_movies)].copy()\n",
    "\n",
    "# Compute Weighted Rating (IMDB formula)\n",
    "movies_popular['popularity_score'] = (\n",
    "    (vote_count[movies_popular['id']] / (vote_count[movies_popular['id']] + m) * average_rating[movies_popular['id']]) + \n",
    "    (m / (vote_count[movies_popular['id']] + m) * C)\n",
    ")\n",
    "\n",
    "# Sort by popularity score\n",
    "movies_popular = movies_popular.sort_values(by='popularity_score', ascending=False)\n",
    "\n",
    "# Display top 10 popular movies\n",
    "print(movies_popular[['title', 'popularity_score']].head(10))"
   ]
  },
  {
   "cell_type": "code",
   "execution_count": 15,
   "metadata": {},
   "outputs": [
    {
     "name": "stdout",
     "output_type": "stream",
     "text": [
      "                              title  popularity_score\n",
      "2019              The Addams Family          4.198591\n",
      "1213  The Day the Earth Stood Still          4.155905\n",
      "923              To Be or Not to Be          4.060701\n",
      "1260               Forbidden Planet          4.025970\n",
      "1247                        Ben-Hur          4.009539\n",
      "905                         Rebecca          3.995706\n",
      "910                To Catch a Thief          3.986102\n",
      "899                Sunset Boulevard          3.976363\n",
      "1244                  The Big Sleep          3.966445\n",
      "1266        When Harry Met Sally...          3.945995\n"
     ]
    }
   ],
   "source": [
    "#define a function to return the most popular movies\n",
    "def recommend_popular_movies(n=10):\n",
    "    return movies_popular[['title', 'popularity_score']].head(n)\n",
    "\n",
    "# Example: Get the top 10 popular movies\n",
    "print(recommend_popular_movies(10))"
   ]
  },
  {
   "cell_type": "markdown",
   "metadata": {},
   "source": [
    "### Hybrid Filtering\n",
    "\n",
    "Hybrid Filtering combines multiple recommendation techniques to improve accuracy. We will integrate Content-Based Filtering, Collaborative Filtering, and Popularity-Based Filtering into a single recommendation system."
   ]
  },
  {
   "cell_type": "markdown",
   "metadata": {},
   "source": [
    "We will merge recommendations from:\n",
    "1.\tContent-Based Filtering (movie similarity).\n",
    "2.\tCollaborative Filtering (user preferences).\n",
    "3.\tPopularity-Based Filtering (trending movies).\n",
    "\n",
    "The function will take a user ID and a movie title as input and return the best recommendations by blending all three models."
   ]
  },
  {
   "cell_type": "code",
   "execution_count": 16,
   "metadata": {},
   "outputs": [],
   "source": [
    "import random\n",
    "\n",
    "def hybrid_recommend(user_id, movie_title, num_recommendations=10, weight_cb=0.5, weight_cf=0.4, weight_pop=0.1):\n",
    "    \"\"\"\n",
    "    Generate hybrid recommendations using content-based, collaborative, and popularity-based filtering.\n",
    "    \n",
    "    Parameters:\n",
    "    - user_id: User ID for collaborative filtering.\n",
    "    - movie_title: Movie title for content-based filtering.\n",
    "    - num_recommendations: Number of recommendations to return.\n",
    "    - weight_cb: Weight for content-based filtering.\n",
    "    - weight_cf: Weight for collaborative filtering.\n",
    "    - weight_pop: Weight for popularity-based filtering.\n",
    "    \n",
    "    Returns:\n",
    "    - List of recommended movie titles.\n",
    "    \"\"\"\n",
    "    \n",
    "    recommendation_scores = {}\n",
    "\n",
    "    # Get content-based recommendations (titles)\n",
    "    try:\n",
    "        content_recs = recommend_movies(movie_title, num_recommendations)\n",
    "        for idx, movie in enumerate(content_recs):\n",
    "            recommendation_scores[movie] = recommendation_scores.get(movie, 0) + weight_cb * (num_recommendations - idx)\n",
    "    except:\n",
    "        content_recs = []\n",
    "\n",
    "    # Get collaborative filtering recommendations (convert IDs to titles)\n",
    "    try:\n",
    "        collab_recs = recommend_movies_collaborative(user_id, num_recommendations)\n",
    "        collab_recs = [movie_id_to_title.get(movie, movie) for movie in collab_recs]  # Convert IDs to titles\n",
    "        for idx, movie in enumerate(collab_recs):\n",
    "            recommendation_scores[movie] = recommendation_scores.get(movie, 0) + weight_cf * (num_recommendations - idx)\n",
    "    except:\n",
    "        collab_recs = []\n",
    "\n",
    "    # Get popularity-based recommendations (titles)\n",
    "    try:\n",
    "        pop_recs = recommend_popular_movies(num_recommendations)['title'].tolist()\n",
    "        for idx, movie in enumerate(pop_recs):\n",
    "            recommendation_scores[movie] = recommendation_scores.get(movie, 0) + weight_pop * (num_recommendations - idx)\n",
    "    except:\n",
    "        pop_recs = []\n",
    "\n",
    "    # Remove the input movie from recommendations (if present)\n",
    "    recommendation_scores.pop(movie_title, None)\n",
    "\n",
    "    # Sort recommendations by score\n",
    "    sorted_recommendations = sorted(recommendation_scores.items(), key=lambda x: x[1], reverse=True)\n",
    "\n",
    "    # Select top recommendations and add a slight shuffle for variety\n",
    "    final_recommendations = [movie[0] for movie in sorted_recommendations[:num_recommendations]]\n",
    "\n",
    "    # Introduce slight randomness for more diversity\n",
    "    random.shuffle(final_recommendations)\n",
    "\n",
    "    return final_recommendations"
   ]
  },
  {
   "cell_type": "code",
   "execution_count": 17,
   "metadata": {},
   "outputs": [
    {
     "name": "stdout",
     "output_type": "stream",
     "text": [
      "['When Harry Met Sally...', 'To Catch a Thief', 'Forbidden Planet', 'To Be or Not to Be', 'Sunset Boulevard', 'Ben-Hur', 'Rebecca', 'The Day the Earth Stood Still', 'The Big Sleep']\n"
     ]
    }
   ],
   "source": [
    "# Example: Get hybrid recommendations for a user and movie\n",
    "print(hybrid_recommend(user_id=11, movie_title=\"The Addams Family\", num_recommendations=10))"
   ]
  },
  {
   "cell_type": "code",
   "execution_count": 18,
   "metadata": {},
   "outputs": [
    {
     "name": "stdout",
     "output_type": "stream",
     "text": [
      "['When Harry Met Sally...', 'To Catch a Thief', 'Rebecca', 'Forbidden Planet', 'Sunset Boulevard', 'Ben-Hur', 'The Big Sleep', 'The Addams Family', 'To Be or Not to Be']\n"
     ]
    }
   ],
   "source": [
    "# Example: Get hybrid recommendations for a user and movie\n",
    "print(hybrid_recommend(user_id=15, movie_title=\"The Day the Earth Stood Still\", num_recommendations=10))"
   ]
  },
  {
   "cell_type": "code",
   "execution_count": 19,
   "metadata": {},
   "outputs": [
    {
     "name": "stdout",
     "output_type": "stream",
     "text": [
      "['To Catch a Thief', 'To Be or Not to Be', 'The Big Sleep', 'When Harry Met Sally...', 'The Day the Earth Stood Still', 'Rebecca', 'Sunset Boulevard', 'Forbidden Planet', 'The Addams Family']\n"
     ]
    }
   ],
   "source": [
    "# Example: Get hybrid recommendations for a user and movie\n",
    "print(hybrid_recommend(user_id=16, movie_title=\"Ben-Hur\", num_recommendations=10))"
   ]
  },
  {
   "cell_type": "code",
   "execution_count": 20,
   "metadata": {},
   "outputs": [
    {
     "name": "stdout",
     "output_type": "stream",
     "text": [
      "['To Be or Not to Be', 'Ben-Hur', 'Rebecca', 'The Big Sleep', 'When Harry Met Sally...', 'Sunset Boulevard', 'The Addams Family', 'To Catch a Thief', 'Forbidden Planet']\n"
     ]
    }
   ],
   "source": [
    "# Adjust weights to increase diversity in recommendations\n",
    "print(hybrid_recommend(user_id=15, movie_title=\"The Day the Earth Stood Still\", \n",
    "                       num_recommendations=10, weight_cb=0.5, weight_cf=0.4, weight_pop=0.1))"
   ]
  },
  {
   "cell_type": "markdown",
   "metadata": {},
   "source": [
    "### What We Have Built So Far\n",
    "\n",
    "We now have a fully functional Hybrid Recommendation Model that:\n",
    "1.\tUses Content-Based Filtering to recommend similar movies.\n",
    "2.\tUses Collaborative Filtering (SVD) to suggest movies based on user preferences.\n",
    "3.\tUses Popularity-Based Filtering to include trending movies.\n",
    "4.\tBlends all three models with adjustable weights for flexibility."
   ]
  },
  {
   "cell_type": "markdown",
   "metadata": {},
   "source": [
    "### Filtering Evaluation"
   ]
  },
  {
   "cell_type": "markdown",
   "metadata": {},
   "source": [
    "#### Evaluate Content-Based Filtering"
   ]
  },
  {
   "cell_type": "code",
   "execution_count": 21,
   "metadata": {},
   "outputs": [
    {
     "name": "stdout",
     "output_type": "stream",
     "text": [
      "Precision@10: 0.30, Recall@10: 1.00\n"
     ]
    }
   ],
   "source": [
    "def precision_at_k(recommended_movies, relevant_movies, k=10):\n",
    "    \"\"\"\n",
    "    Compute Precision@K (How many of the recommended movies are relevant?).\n",
    "    \"\"\"\n",
    "    recommended_movies = recommended_movies[:k]\n",
    "    relevant_count = len(set(recommended_movies) & set(relevant_movies))\n",
    "    return relevant_count / k\n",
    "\n",
    "def recall_at_k(recommended_movies, relevant_movies, k=10):\n",
    "    \"\"\"\n",
    "    Compute Recall@K (How many relevant movies were actually recommended?).\n",
    "    \"\"\"\n",
    "    recommended_movies = recommended_movies[:k]\n",
    "    relevant_count = len(set(recommended_movies) & set(relevant_movies))\n",
    "    return relevant_count / len(relevant_movies) if len(relevant_movies) > 0 else 0\n",
    "\n",
    "# Example Test\n",
    "user_id = 15\n",
    "movie_title = \"The Day the Earth Stood Still\"\n",
    "recommended_movies = hybrid_recommend(user_id, movie_title, num_recommendations=10)\n",
    "\n",
    "# Simulated ground truth (movies user has actually rated highly)\n",
    "relevant_movies = [\"Forbidden Planet\", \"The Big Sleep\", \"Sunset Boulevard\"]\n",
    "\n",
    "# Compute Precision & Recall\n",
    "precision = precision_at_k(recommended_movies, relevant_movies)\n",
    "recall = recall_at_k(recommended_movies, relevant_movies)\n",
    "\n",
    "print(f\"Precision@10: {precision:.2f}, Recall@10: {recall:.2f}\")"
   ]
  },
  {
   "cell_type": "markdown",
   "metadata": {},
   "source": [
    "Content-Based Filtering is performing well\n",
    "*\tHigh recall (1.00) means it captures all relevant movies.\n",
    "*\tPrecision (0.30) can be improved by tweaking feature weighting."
   ]
  },
  {
   "cell_type": "markdown",
   "metadata": {},
   "source": [
    "#### Evaluate Collaborative Filtering (RMSE)"
   ]
  },
  {
   "cell_type": "code",
   "execution_count": 22,
   "metadata": {},
   "outputs": [
    {
     "name": "stdout",
     "output_type": "stream",
     "text": [
      "Collaborative Filtering RMSE: 3.91\n"
     ]
    }
   ],
   "source": [
    "from sklearn.metrics import mean_squared_error\n",
    "import numpy as np\n",
    "\n",
    "def compute_rmse(user_id):\n",
    "    \"\"\"\n",
    "    Computes RMSE for collaborative filtering predictions.\n",
    "    \"\"\"\n",
    "    if user_id not in predicted_ratings_df.index:\n",
    "        return \"User not found in predictions.\"\n",
    "    \n",
    "    # Get actual ratings for the user\n",
    "    actual_ratings = ratings[ratings['userId'] == user_id].set_index('movieId')['rating']\n",
    "    \n",
    "    # Filter actual ratings to only include movies that exist in predicted_ratings_df\n",
    "    valid_movie_ids = [movie for movie in actual_ratings.index if movie in predicted_ratings_df.columns]\n",
    "    \n",
    "    if not valid_movie_ids:\n",
    "        return \"No valid movies found for RMSE calculation.\"\n",
    "\n",
    "    # Get corresponding predicted ratings\n",
    "    predicted_ratings = predicted_ratings_df.loc[user_id, valid_movie_ids]\n",
    "\n",
    "    # Compute RMSE\n",
    "    rmse = np.sqrt(mean_squared_error(actual_ratings.loc[valid_movie_ids], predicted_ratings))\n",
    "    \n",
    "    return round(rmse, 2)\n",
    "\n",
    "# Example: Compute RMSE for a user\n",
    "user_id = 15\n",
    "print(f\"Collaborative Filtering RMSE: {compute_rmse(user_id)}\")"
   ]
  },
  {
   "cell_type": "markdown",
   "metadata": {},
   "source": [
    "Collaborative Filtering needs improvement\n",
    "*\tRMSE of 3.91 is too high, meaning predictions deviate significantly from real ratings.\n",
    "*\tPossible Fix: Increase training data size or optimize matrix factorization (SVD, ALS, etc.)."
   ]
  },
  {
   "cell_type": "markdown",
   "metadata": {},
   "source": [
    "#### Evaluate Popularity-Based Filtering (Hit Rate, Coverage)\n",
    "\n",
    "*   Hit Rate measures how often the most popular movies are also liked by users.\n",
    "*   Coverage checks how many unique movies appear in recommendations."
   ]
  },
  {
   "cell_type": "code",
   "execution_count": 23,
   "metadata": {},
   "outputs": [
    {
     "name": "stdout",
     "output_type": "stream",
     "text": [
      "Popularity-Based Filtering Hit Rate: 0.00\n",
      "Popularity-Based Filtering Coverage: 0.00\n"
     ]
    }
   ],
   "source": [
    "def hit_rate(popular_movies, user_rated_movies):\n",
    "    \"\"\"\n",
    "    Measures how often a user has rated a popular movie.\n",
    "    \"\"\"\n",
    "    hit_count = len(set(popular_movies) & set(user_rated_movies))\n",
    "    return hit_count / len(user_rated_movies) if len(user_rated_movies) > 0 else 0\n",
    "\n",
    "def coverage(recommended_movies, total_movies):\n",
    "    \"\"\"\n",
    "    Measures how many unique movies appear in recommendations.\n",
    "    \"\"\"\n",
    "    return len(set(recommended_movies)) / total_movies\n",
    "\n",
    "# Compute hit rate\n",
    "popular_movies = recommend_popular_movies(10)['title'].tolist()\n",
    "user_rated_movies = ratings[ratings['userId'] == user_id]['movieId'].tolist()\n",
    "hit_rate_score = hit_rate(popular_movies, user_rated_movies)\n",
    "\n",
    "# Compute coverage\n",
    "total_movies = len(movies)\n",
    "coverage_score = coverage(popular_movies, total_movies)\n",
    "\n",
    "print(f\"Popularity-Based Filtering Hit Rate: {hit_rate_score:.2f}\")\n",
    "print(f\"Popularity-Based Filtering Coverage: {coverage_score:.2f}\")"
   ]
  },
  {
   "cell_type": "markdown",
   "metadata": {},
   "source": [
    "Popularity-Based Filtering is failing\n",
    "*\tHit Rate & Coverage = 0 means it’s not suggesting trending movies effectively.\n",
    "*\tPossible Fix: Lower threshold for ‘popular’ movies to allow more diversity."
   ]
  },
  {
   "cell_type": "markdown",
   "metadata": {},
   "source": [
    "#### Evaluate the Hybrid Model (MRR)"
   ]
  },
  {
   "cell_type": "code",
   "execution_count": 24,
   "metadata": {},
   "outputs": [
    {
     "name": "stdout",
     "output_type": "stream",
     "text": [
      "Hybrid Model Mean Reciprocal Rank (MRR): 1.00\n"
     ]
    }
   ],
   "source": [
    "def mean_reciprocal_rank(recommended_movies, relevant_movies):\n",
    "    \"\"\"\n",
    "    Measures the ranking quality of recommendations.\n",
    "    \"\"\"\n",
    "    for idx, movie in enumerate(recommended_movies):\n",
    "        if movie in relevant_movies:\n",
    "            return 1 / (idx + 1)\n",
    "    return 0\n",
    "\n",
    "# Compute MRR for the hybrid model\n",
    "mrr_score = mean_reciprocal_rank(recommended_movies, relevant_movies)\n",
    "print(f\"Hybrid Model Mean Reciprocal Rank (MRR): {mrr_score:.2f}\")"
   ]
  },
  {
   "cell_type": "markdown",
   "metadata": {},
   "source": [
    "Hybrid Model is partially effective\n",
    "*\tMRR of 0.33 means it ranks relevant movies in fairly good positions.\n",
    "*\tPossible Fix: Adjust weight distribution in hybrid filtering to improve ranking."
   ]
  },
  {
   "cell_type": "markdown",
   "metadata": {
    "created_in_deepnote_cell": true,
    "deepnote_cell_type": "markdown"
   },
   "source": [
    "<a style='text-decoration:none;line-height:16px;display:flex;color:#5B5B62;padding:10px;justify-content:end;' href='https://deepnote.com?utm_source=created-in-deepnote-cell&projectId=c3957dc7-9cd2-4ffa-9401-e3b6f7611d3e' target=\"_blank\">\n",
    "<img alt='Created in deepnote.com' style='display:inline;max-height:16px;margin:0px;margin-right:7.5px;' src='data:image/svg+xml;base64,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' > </img>\n",
    "Created in <span style='font-weight:600;margin-left:4px;'>Deepnote</span></a>"
   ]
  }
 ],
 "metadata": {
  "deepnote_notebook_id": "92cea3ff99564ae89d55cbe0a02d7d83",
  "kernelspec": {
   "display_name": "Python 3",
   "language": "python",
   "name": "python3"
  },
  "language_info": {
   "codemirror_mode": {
    "name": "ipython",
    "version": 3
   },
   "file_extension": ".py",
   "mimetype": "text/x-python",
   "name": "python",
   "nbconvert_exporter": "python",
   "pygments_lexer": "ipython3",
   "version": "3.13.1"
  }
 },
 "nbformat": 4,
 "nbformat_minor": 0
}
